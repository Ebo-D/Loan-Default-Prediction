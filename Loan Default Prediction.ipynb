{
 "cells": [
  {
   "cell_type": "markdown",
   "id": "949b4718-2bc4-4eb0-b252-2741cdcd6689",
   "metadata": {
    "id": "949b4718-2bc4-4eb0-b252-2741cdcd6689"
   },
   "source": [
    "PROJECT"
   ]
  },
  {
   "cell_type": "markdown",
   "id": "a091a22f-9b23-4aa0-9f70-1468a763e961",
   "metadata": {
    "id": "a091a22f-9b23-4aa0-9f70-1468a763e961"
   },
   "source": [
    "PROBLEM: CLASSIFICATION PROBLEM ON THE PREDICTION OF LOAN DEFAULT"
   ]
  },
  {
   "cell_type": "markdown",
   "id": "2c17e4cc-dab1-4a54-a90a-e8e90426f1fe",
   "metadata": {
    "id": "2c17e4cc-dab1-4a54-a90a-e8e90426f1fe"
   },
   "source": [
    "AIM: To Predict Loan Default and Repayment Behaviour by Customers using the Demographic of the Customer and their Previous Loan History"
   ]
  },
  {
   "cell_type": "markdown",
   "id": "93152b4e-38da-45fa-9c31-6f7f0e61b168",
   "metadata": {},
   "source": [
    "Install Libraries"
   ]
  },
  {
   "cell_type": "code",
   "execution_count": null,
   "id": "6ab10f09-da06-4133-b3b5-22201f29e589",
   "metadata": {},
   "outputs": [],
   "source": [
    "!pip install statsmodels -q\n",
    "!pip install imbalanced_learn -q\n",
    "!pip install --upgrade xgboost lightgbm  -q\n",
    "!pip install plotly -q"
   ]
  },
  {
   "cell_type": "markdown",
   "id": "518ae3ff-f2d8-40d3-b1df-980a0dcc175e",
   "metadata": {
    "id": "518ae3ff-f2d8-40d3-b1df-980a0dcc175e"
   },
   "source": [
    "Import Libraries"
   ]
  },
  {
   "cell_type": "code",
   "execution_count": null,
   "id": "699c0f73-6a5e-4c0e-b752-6920b722a28c",
   "metadata": {
    "id": "699c0f73-6a5e-4c0e-b752-6920b722a28c"
   },
   "outputs": [],
   "source": [
    "import pandas as pd\n",
    "import numpy as np\n",
    "import matplotlib.pyplot as plt\n",
    "import seaborn as sns\n",
    "from sklearn.tree import DecisionTreeClassifier\n",
    "from sklearn.linear_model import LogisticRegression\n",
    "from sklearn.ensemble import RandomForestClassifier\n",
    "from sklearn.svm import SVC\n",
    "from sklearn.metrics import classification_report, confusion_matrix, ConfusionMatrixDisplay, accuracy_score, precision_score, recall_score, f1_score,roc_curve, roc_auc_score\n",
    "from xgboost import XGBClassifier\n",
    "import lightgbm as lgb\n",
    "from lightgbm import LGBMClassifier\n",
    "from statsmodels.stats.outliers_influence import variance_inflation_factor\n",
    "from statsmodels.tools.tools import add_constant\n",
    "from sklearn.model_selection import train_test_split\n",
    "from imblearn.over_sampling import SMOTE\n",
    "import warnings\n",
    "warnings.filterwarnings('ignore')\n",
    "import plotly.express as px\n",
    "import plotly.io as pio\n",
    "from sklearn.preprocessing import OneHotEncoder, StandardScaler\n",
    "from sklearn.compose import ColumnTransformer\n",
    "from sklearn.pipeline import Pipeline\n",
    "from imblearn.pipeline import Pipeline as ImbPipeline\n",
    "from sklearn.feature_selection import SelectFromModel\n",
    "from sklearn.model_selection import StratifiedKFold, cross_validate\n",
    "from sklearn.model_selection import GridSearchCV, RandomizedSearchCV\n",
    "from scipy.stats import randint, uniform\n",
    "from sklearn.metrics import precision_recall_curve, average_precision_score\n",
    "import joblib"
   ]
  },
  {
   "cell_type": "markdown",
   "id": "031013ca-2270-497a-98d0-4a2a9d2ca7ec",
   "metadata": {
    "id": "031013ca-2270-497a-98d0-4a2a9d2ca7ec"
   },
   "source": [
    "Load data from csv"
   ]
  },
  {
   "cell_type": "code",
   "execution_count": null,
   "id": "08b22a5c-d23a-4451-9c4e-9d9f3f68bfcf",
   "metadata": {
    "id": "08b22a5c-d23a-4451-9c4e-9d9f3f68bfcf"
   },
   "outputs": [],
   "source": [
    "Performance_data = pd.read_csv('https://raw.githubusercontent.com/Oyeniran20/axia_cohort_8/refs/heads/main/trainperf.csv')\n",
    "Demographic_data = pd.read_csv('https://raw.githubusercontent.com/Oyeniran20/axia_cohort_8/refs/heads/main/traindemographics.csv')\n",
    "Previous_loan_data = pd.read_csv('https://raw.githubusercontent.com/Oyeniran20/axia_cohort_8/refs/heads/main/trainprevloans.csv')"
   ]
  },
  {
   "cell_type": "markdown",
   "id": "e3662630-4023-4b70-a297-1c9018f2c06c",
   "metadata": {
    "id": "e3662630-4023-4b70-a297-1c9018f2c06c"
   },
   "source": [
    "Data understanding for Performance_data"
   ]
  },
  {
   "cell_type": "code",
   "execution_count": null,
   "id": "a7537e0b-b423-4a54-88f7-6a53b2b822fa",
   "metadata": {
    "colab": {
     "base_uri": "https://localhost:8080/",
     "height": 206
    },
    "id": "a7537e0b-b423-4a54-88f7-6a53b2b822fa",
    "outputId": "4a23289a-e58b-4afe-d338-045ede75af1d"
   },
   "outputs": [],
   "source": [
    "Performance_data.head()"
   ]
  },
  {
   "cell_type": "code",
   "execution_count": null,
   "id": "0f58fc12-854e-40d2-a578-3f5046dbab12",
   "metadata": {
    "colab": {
     "base_uri": "https://localhost:8080/"
    },
    "id": "0f58fc12-854e-40d2-a578-3f5046dbab12",
    "outputId": "6f0ff42d-722b-4c3c-da23-844a7684307c"
   },
   "outputs": [],
   "source": [
    "Performance_data.columns"
   ]
  },
  {
   "cell_type": "code",
   "execution_count": null,
   "id": "63e46189-0cbb-4967-b651-803ad814b82a",
   "metadata": {
    "colab": {
     "base_uri": "https://localhost:8080/"
    },
    "id": "63e46189-0cbb-4967-b651-803ad814b82a",
    "outputId": "448c06e2-e04f-4468-9425-7db10559c511"
   },
   "outputs": [],
   "source": [
    "Performance_data.shape"
   ]
  },
  {
   "cell_type": "code",
   "execution_count": null,
   "id": "e1b896da-b696-4ac1-814a-0eec7ee0ff53",
   "metadata": {
    "colab": {
     "base_uri": "https://localhost:8080/"
    },
    "id": "e1b896da-b696-4ac1-814a-0eec7ee0ff53",
    "outputId": "94ac4db7-feb5-4249-fe67-9f4c9a8def84"
   },
   "outputs": [],
   "source": [
    "Performance_data.info()"
   ]
  },
  {
   "cell_type": "markdown",
   "id": "0a4b852b-608b-4a1e-ac8d-4d7d063f5b10",
   "metadata": {
    "id": "0a4b852b-608b-4a1e-ac8d-4d7d063f5b10"
   },
   "source": [
    "Descriptive Statistic for Performance_data"
   ]
  },
  {
   "cell_type": "code",
   "execution_count": null,
   "id": "c22e7b11-7187-4820-99e3-06a1d552bc15",
   "metadata": {
    "colab": {
     "base_uri": "https://localhost:8080/",
     "height": 206
    },
    "id": "c22e7b11-7187-4820-99e3-06a1d552bc15",
    "outputId": "52b818e2-6113-4582-9022-8b2b021c1ccd"
   },
   "outputs": [],
   "source": [
    "Performance_data.describe().T"
   ]
  },
  {
   "cell_type": "markdown",
   "id": "24e37bea-d40b-4544-a56c-1f38e4c16b65",
   "metadata": {
    "id": "24e37bea-d40b-4544-a56c-1f38e4c16b65"
   },
   "source": [
    "\n",
    "Check for missing values for Performance_data"
   ]
  },
  {
   "cell_type": "code",
   "execution_count": null,
   "id": "c6cd605f-bb5b-4591-82e0-2d249c25388b",
   "metadata": {
    "colab": {
     "base_uri": "https://localhost:8080/",
     "height": 398
    },
    "id": "c6cd605f-bb5b-4591-82e0-2d249c25388b",
    "outputId": "61dc6761-74c1-4e9a-c905-9d485318bb0f"
   },
   "outputs": [],
   "source": [
    "Performance_data.isna().sum()"
   ]
  },
  {
   "cell_type": "markdown",
   "id": "3861e6e2-0b67-493f-b4f2-3a0175874186",
   "metadata": {
    "id": "3861e6e2-0b67-493f-b4f2-3a0175874186"
   },
   "source": [
    "Check for the percentage(%) of missing values for Performance_data"
   ]
  },
  {
   "cell_type": "code",
   "execution_count": null,
   "id": "33e09d65-0ca4-42de-b29d-f2ba3a61de2c",
   "metadata": {
    "colab": {
     "base_uri": "https://localhost:8080/",
     "height": 398
    },
    "id": "33e09d65-0ca4-42de-b29d-f2ba3a61de2c",
    "outputId": "0e24925c-ebdd-4045-cc3e-42540d8556b6"
   },
   "outputs": [],
   "source": [
    "Performance_data.isna().sum().sort_values(ascending=False)/len(Demographic_data)*100"
   ]
  },
  {
   "cell_type": "markdown",
   "id": "74fbe116-bc7f-42b1-b0d0-d40d6c115673",
   "metadata": {
    "id": "74fbe116-bc7f-42b1-b0d0-d40d6c115673"
   },
   "source": [
    "Drop columns with 80% missing value and not an important column to the dataset for Performance_data"
   ]
  },
  {
   "cell_type": "code",
   "execution_count": null,
   "id": "e2e0bbce-466a-4f97-ba0b-a38afaf0ca05",
   "metadata": {
    "id": "e2e0bbce-466a-4f97-ba0b-a38afaf0ca05"
   },
   "outputs": [],
   "source": [
    "Performance_data.drop(columns=['referredby'], inplace = True)"
   ]
  },
  {
   "cell_type": "markdown",
   "id": "08a531d9-71ef-42cf-b266-9f4243a144a5",
   "metadata": {
    "id": "08a531d9-71ef-42cf-b266-9f4243a144a5"
   },
   "source": [
    "Check for duplicates for Performance_data"
   ]
  },
  {
   "cell_type": "code",
   "execution_count": null,
   "id": "33609d13-a886-43cf-bb7d-5f664d06ecab",
   "metadata": {
    "colab": {
     "base_uri": "https://localhost:8080/"
    },
    "id": "33609d13-a886-43cf-bb7d-5f664d06ecab",
    "outputId": "832c565c-6d95-48b2-d7d0-b7878b1d26cf"
   },
   "outputs": [],
   "source": [
    "Performance_data.duplicated().sum()"
   ]
  },
  {
   "cell_type": "markdown",
   "id": "a22566c5-1699-40bf-a55b-7bff763a074f",
   "metadata": {
    "id": "a22566c5-1699-40bf-a55b-7bff763a074f"
   },
   "source": [
    "Data understanding for Demographic_data"
   ]
  },
  {
   "cell_type": "code",
   "execution_count": null,
   "id": "a1151af1-3aa7-4918-a2c8-b0812d806198",
   "metadata": {
    "colab": {
     "base_uri": "https://localhost:8080/",
     "height": 206
    },
    "id": "a1151af1-3aa7-4918-a2c8-b0812d806198",
    "outputId": "1e954162-8bca-4a49-b973-7dda89844845"
   },
   "outputs": [],
   "source": [
    "Demographic_data.head()"
   ]
  },
  {
   "cell_type": "code",
   "execution_count": null,
   "id": "1a60fa6a-4e10-41cf-aa1c-a4ffc143f413",
   "metadata": {
    "colab": {
     "base_uri": "https://localhost:8080/"
    },
    "id": "1a60fa6a-4e10-41cf-aa1c-a4ffc143f413",
    "outputId": "8c274b74-fb09-4f1d-ea00-241aa3449402"
   },
   "outputs": [],
   "source": [
    "Demographic_data.shape"
   ]
  },
  {
   "cell_type": "code",
   "execution_count": null,
   "id": "afada289-d976-4c9b-992c-e546f8ea3b86",
   "metadata": {
    "colab": {
     "base_uri": "https://localhost:8080/"
    },
    "id": "afada289-d976-4c9b-992c-e546f8ea3b86",
    "outputId": "73088932-94bd-44b5-957b-817f5a251e78"
   },
   "outputs": [],
   "source": [
    "Demographic_data.columns"
   ]
  },
  {
   "cell_type": "code",
   "execution_count": null,
   "id": "8c737159-ca82-44a0-a72e-0e3ef8086b04",
   "metadata": {
    "colab": {
     "base_uri": "https://localhost:8080/"
    },
    "id": "8c737159-ca82-44a0-a72e-0e3ef8086b04",
    "outputId": "80477490-96df-46bf-837a-c58ffd565282"
   },
   "outputs": [],
   "source": [
    "Demographic_data.info()"
   ]
  },
  {
   "cell_type": "code",
   "execution_count": null,
   "id": "57539f47-3cf2-4bb8-8cee-509a7ce62511",
   "metadata": {
    "colab": {
     "base_uri": "https://localhost:8080/",
     "height": 206
    },
    "id": "57539f47-3cf2-4bb8-8cee-509a7ce62511",
    "outputId": "da75a3a7-8d3e-44d8-b81f-c2fee86f0274"
   },
   "outputs": [],
   "source": [
    "Demographic_data.tail()"
   ]
  },
  {
   "cell_type": "markdown",
   "id": "c566760f-cf16-4ef1-a33b-1a4968c1106d",
   "metadata": {
    "id": "c566760f-cf16-4ef1-a33b-1a4968c1106d"
   },
   "source": [
    "Descriptive statistic for Demographic_data"
   ]
  },
  {
   "cell_type": "code",
   "execution_count": null,
   "id": "f90125c6-98fc-462d-8a8c-120b5683ce0f",
   "metadata": {
    "colab": {
     "base_uri": "https://localhost:8080/",
     "height": 112
    },
    "id": "f90125c6-98fc-462d-8a8c-120b5683ce0f",
    "outputId": "69e5cc4e-f677-4b87-c025-9884a50bc363"
   },
   "outputs": [],
   "source": [
    "Demographic_data.describe().T"
   ]
  },
  {
   "cell_type": "markdown",
   "id": "35ebe92a-b767-464d-9cfa-66dc3e89e48f",
   "metadata": {
    "id": "35ebe92a-b767-464d-9cfa-66dc3e89e48f"
   },
   "source": [
    "Check for missing values for Demographic_data"
   ]
  },
  {
   "cell_type": "code",
   "execution_count": null,
   "id": "ea8cf822-bb1f-49d2-b42c-d4262e14f7bf",
   "metadata": {
    "colab": {
     "base_uri": "https://localhost:8080/",
     "height": 367
    },
    "id": "ea8cf822-bb1f-49d2-b42c-d4262e14f7bf",
    "outputId": "8ccfb3b6-d4bb-47dc-f0ea-76e803292127"
   },
   "outputs": [],
   "source": [
    "Demographic_data.isna().sum()"
   ]
  },
  {
   "cell_type": "markdown",
   "id": "598eabc3-3d43-4c49-adc7-2df8dcaf5a81",
   "metadata": {
    "id": "598eabc3-3d43-4c49-adc7-2df8dcaf5a81"
   },
   "source": [
    "\n",
    "Check for the percentage(%) of missing values for Demographic_data"
   ]
  },
  {
   "cell_type": "code",
   "execution_count": null,
   "id": "45d17bea-0ec3-4295-b241-bbccc63ac857",
   "metadata": {
    "colab": {
     "base_uri": "https://localhost:8080/",
     "height": 367
    },
    "id": "45d17bea-0ec3-4295-b241-bbccc63ac857",
    "outputId": "810ffae8-0d8b-46c8-954d-7fab9eec1c15"
   },
   "outputs": [],
   "source": [
    "Demographic_data.isna().sum().sort_values(ascending=False)/len(Performance_data)*100"
   ]
  },
  {
   "cell_type": "markdown",
   "id": "28b4c37e-44d7-415c-9659-457dea1174f0",
   "metadata": {
    "id": "28b4c37e-44d7-415c-9659-457dea1174f0"
   },
   "source": [
    "Check for duplicates for Demographic_data"
   ]
  },
  {
   "cell_type": "code",
   "execution_count": null,
   "id": "980b7e5c-1bed-4a45-a32b-7d69bc7579ba",
   "metadata": {
    "colab": {
     "base_uri": "https://localhost:8080/"
    },
    "id": "980b7e5c-1bed-4a45-a32b-7d69bc7579ba",
    "outputId": "728a8600-3955-4ef8-b0c6-71db47e89f9d"
   },
   "outputs": [],
   "source": [
    "Demographic_data.duplicated().sum()"
   ]
  },
  {
   "cell_type": "markdown",
   "id": "304443d5-116d-4f5e-9791-98a5593a9b57",
   "metadata": {
    "id": "304443d5-116d-4f5e-9791-98a5593a9b57"
   },
   "source": [
    "Drop duplicates for Demographic_data"
   ]
  },
  {
   "cell_type": "code",
   "execution_count": null,
   "id": "c4e4a6d4-b4b8-42df-8283-a43c8aa962b9",
   "metadata": {
    "id": "c4e4a6d4-b4b8-42df-8283-a43c8aa962b9"
   },
   "outputs": [],
   "source": [
    "Demographic_data.drop_duplicates(inplace = True)"
   ]
  },
  {
   "cell_type": "markdown",
   "id": "77c2d7f3-eb88-4cb4-a348-c73cb82d8c4d",
   "metadata": {
    "id": "77c2d7f3-eb88-4cb4-a348-c73cb82d8c4d"
   },
   "source": [
    "Data understanding for Previous_loan_data"
   ]
  },
  {
   "cell_type": "code",
   "execution_count": null,
   "id": "fbf53d37-3b63-4396-88bc-0ba87d9db8a1",
   "metadata": {
    "colab": {
     "base_uri": "https://localhost:8080/",
     "height": 293
    },
    "id": "fbf53d37-3b63-4396-88bc-0ba87d9db8a1",
    "outputId": "10294e21-d472-44d6-d212-2cfb3c5ed405"
   },
   "outputs": [],
   "source": [
    "Previous_loan_data.head()"
   ]
  },
  {
   "cell_type": "code",
   "execution_count": null,
   "id": "d19ce9a3-cf06-448e-9b5d-dd70e2a6440e",
   "metadata": {
    "colab": {
     "base_uri": "https://localhost:8080/"
    },
    "id": "d19ce9a3-cf06-448e-9b5d-dd70e2a6440e",
    "outputId": "5bc25776-8267-49a2-8481-381c062c32e4"
   },
   "outputs": [],
   "source": [
    "Previous_loan_data.shape"
   ]
  },
  {
   "cell_type": "code",
   "execution_count": null,
   "id": "9abf117f-1bfe-46d0-b943-35cceec33335",
   "metadata": {
    "colab": {
     "base_uri": "https://localhost:8080/"
    },
    "id": "9abf117f-1bfe-46d0-b943-35cceec33335",
    "outputId": "52e15090-5271-4a91-917c-9140f52985f2"
   },
   "outputs": [],
   "source": [
    "Previous_loan_data.columns"
   ]
  },
  {
   "cell_type": "code",
   "execution_count": null,
   "id": "5585f5e6-e159-4e3a-b12d-e4bf9c6d527d",
   "metadata": {
    "colab": {
     "base_uri": "https://localhost:8080/"
    },
    "id": "5585f5e6-e159-4e3a-b12d-e4bf9c6d527d",
    "outputId": "c7f86448-d5dd-418e-ec68-f0e64def1e20"
   },
   "outputs": [],
   "source": [
    "Previous_loan_data.info()"
   ]
  },
  {
   "cell_type": "raw",
   "id": "b51173ef-d604-4ac6-a97a-8a339eb0ffd1",
   "metadata": {
    "id": "b51173ef-d604-4ac6-a97a-8a339eb0ffd1"
   },
   "source": [
    "Descriptive statistic for Previous_loan_data"
   ]
  },
  {
   "cell_type": "code",
   "execution_count": null,
   "id": "db2d8068-b193-4ba9-9115-9f48d6297553",
   "metadata": {
    "colab": {
     "base_uri": "https://localhost:8080/",
     "height": 206
    },
    "id": "db2d8068-b193-4ba9-9115-9f48d6297553",
    "outputId": "a61821a1-8c12-41fe-ee1d-d4dc976f8870"
   },
   "outputs": [],
   "source": [
    "Previous_loan_data.describe().T"
   ]
  },
  {
   "cell_type": "markdown",
   "id": "4153fdf4-82ed-4261-8675-5076ede96367",
   "metadata": {
    "id": "4153fdf4-82ed-4261-8675-5076ede96367"
   },
   "source": [
    "Check for missing values for Previous_loan_data"
   ]
  },
  {
   "cell_type": "code",
   "execution_count": null,
   "id": "56e2a99f-b26f-49fc-b000-2d21bd84b889",
   "metadata": {
    "colab": {
     "base_uri": "https://localhost:8080/",
     "height": 461
    },
    "id": "56e2a99f-b26f-49fc-b000-2d21bd84b889",
    "outputId": "fe433d94-ffa2-4049-9bd5-5f07c27778c2"
   },
   "outputs": [],
   "source": [
    "Previous_loan_data.isna().sum()"
   ]
  },
  {
   "cell_type": "markdown",
   "id": "c1456c86-0a8c-4fd5-ba9f-7974bd147579",
   "metadata": {
    "id": "c1456c86-0a8c-4fd5-ba9f-7974bd147579"
   },
   "source": [
    "Check for the percentage(%) of missing values for Previous_loan_data"
   ]
  },
  {
   "cell_type": "code",
   "execution_count": null,
   "id": "80e4489d-08c9-4a1f-b0e1-3022c0813d2e",
   "metadata": {
    "colab": {
     "base_uri": "https://localhost:8080/",
     "height": 461
    },
    "id": "80e4489d-08c9-4a1f-b0e1-3022c0813d2e",
    "outputId": "eb5f75ae-3697-46a0-e5e4-daa8946e89ac"
   },
   "outputs": [],
   "source": [
    "Previous_loan_data.isna().sum().sort_values(ascending=False)/len(Previous_loan_data)*100"
   ]
  },
  {
   "cell_type": "markdown",
   "id": "4856ab6d-4fd4-4b70-8836-41805ab15bac",
   "metadata": {
    "id": "4856ab6d-4fd4-4b70-8836-41805ab15bac"
   },
   "source": [
    "Drop columns with 80% missing value and not an important column to the dataset ;for Previous_loan_data"
   ]
  },
  {
   "cell_type": "code",
   "execution_count": null,
   "id": "1dcf16ed-acac-4fdc-b154-9a3b2e0ff5d4",
   "metadata": {
    "id": "1dcf16ed-acac-4fdc-b154-9a3b2e0ff5d4"
   },
   "outputs": [],
   "source": [
    "Previous_loan_data.drop(columns=['referredby'], inplace = True)"
   ]
  },
  {
   "cell_type": "markdown",
   "id": "d9c3eab1-7f1e-41f2-9195-9c1479b53663",
   "metadata": {
    "id": "d9c3eab1-7f1e-41f2-9195-9c1479b53663"
   },
   "source": [
    "Check for duplicates for Previous_loan_data"
   ]
  },
  {
   "cell_type": "code",
   "execution_count": null,
   "id": "690b848d-642e-4c81-8609-de893d4b9bb1",
   "metadata": {
    "colab": {
     "base_uri": "https://localhost:8080/"
    },
    "id": "690b848d-642e-4c81-8609-de893d4b9bb1",
    "outputId": "d346151b-8c25-4e41-c235-f6490b066997"
   },
   "outputs": [],
   "source": [
    "Previous_loan_data.duplicated().sum()"
   ]
  },
  {
   "cell_type": "code",
   "execution_count": null,
   "id": "e5444472-bd8a-4b1c-b82e-350866b799d4",
   "metadata": {
    "colab": {
     "base_uri": "https://localhost:8080/"
    },
    "id": "e5444472-bd8a-4b1c-b82e-350866b799d4",
    "outputId": "ac4f560b-9069-41d4-d5ca-2694323a9e2a"
   },
   "outputs": [],
   "source": [
    "Previous_loan_data['customerid'].unique()"
   ]
  },
  {
   "cell_type": "code",
   "execution_count": null,
   "id": "d0584743-b393-4b7e-9092-6b53a7402f89",
   "metadata": {
    "colab": {
     "base_uri": "https://localhost:8080/"
    },
    "id": "d0584743-b393-4b7e-9092-6b53a7402f89",
    "outputId": "3d5561bd-c677-4910-d527-08cfd451736f"
   },
   "outputs": [],
   "source": [
    "Previous_loan_data['systemloanid'].unique()"
   ]
  },
  {
   "cell_type": "code",
   "execution_count": null,
   "id": "c67a3f83-9a73-48e0-b48a-3b53c4402c99",
   "metadata": {
    "colab": {
     "base_uri": "https://localhost:8080/"
    },
    "id": "c67a3f83-9a73-48e0-b48a-3b53c4402c99",
    "outputId": "bb54218c-56ba-4402-bab4-1d4d88fc87dd"
   },
   "outputs": [],
   "source": [
    "Previous_loan_data['systemloanid'].count()"
   ]
  },
  {
   "cell_type": "markdown",
   "id": "ba9c06ab-3a2f-48d7-a84a-45faceb04a2c",
   "metadata": {
    "id": "ba9c06ab-3a2f-48d7-a84a-45faceb04a2c"
   },
   "source": [
    "Feature Engineering: Previous_loan_data has repeated numbers of customers. Inorder to get the unique customers for Previous_loan_data, a new column will be created. Thus:\n",
    "First; Covert dates of the needed column of Previous_loan_data to datetime.\n",
    "Then; Create your feature engineering\n",
    "\n",
    "For my feature engineering, I want to get the customer's payment behaviour. So, I engineered my features as shown below"
   ]
  },
  {
   "cell_type": "code",
   "execution_count": null,
   "id": "997ed2dd-b45a-4814-8952-cb94575ba3b6",
   "metadata": {
    "id": "997ed2dd-b45a-4814-8952-cb94575ba3b6"
   },
   "outputs": [],
   "source": [
    "Previous_loan_data['firstduedate'] = pd.to_datetime(Previous_loan_data['firstduedate'], errors = 'coerce')\n",
    "Previous_loan_data['firstrepaiddate'] = pd.to_datetime(Previous_loan_data['firstrepaiddate'], errors = 'coerce')\n"
   ]
  },
  {
   "cell_type": "code",
   "execution_count": null,
   "id": "c85142bc-2862-4f44-9110-c76e6708b999",
   "metadata": {
    "id": "c85142bc-2862-4f44-9110-c76e6708b999"
   },
   "outputs": [],
   "source": [
    "Previous_loan_data['On_Time_Repayment'] = (Previous_loan_data['firstrepaiddate'] <= Previous_loan_data['firstduedate']).astype(int)\n",
    "Previous_loan_data['Late_Time_Repayment'] = (Previous_loan_data['firstrepaiddate'] > Previous_loan_data['firstduedate']).astype(int)"
   ]
  },
  {
   "cell_type": "code",
   "execution_count": null,
   "id": "c5c13dfe-c99f-4eec-841d-379124b39d67",
   "metadata": {
    "colab": {
     "base_uri": "https://localhost:8080/",
     "height": 206
    },
    "id": "c5c13dfe-c99f-4eec-841d-379124b39d67",
    "outputId": "b3f7e004-8934-4d86-9c0a-b0c00aafd62e"
   },
   "outputs": [],
   "source": [
    "Previous_loan_data_repayment = Previous_loan_data.groupby('customerid')[['On_Time_Repayment','Late_Time_Repayment']].sum().reset_index()\n",
    "Previous_loan_data_repayment.head()"
   ]
  },
  {
   "cell_type": "markdown",
   "id": "3029a00d-534d-42c3-87a8-6db239d570b4",
   "metadata": {
    "id": "3029a00d-534d-42c3-87a8-6db239d570b4"
   },
   "source": [
    "From the above feature engineering, it denoted the number of times a customer repaid a loan on time and at a later time."
   ]
  },
  {
   "cell_type": "markdown",
   "id": "c302180f-2114-404c-abeb-8565a191abaa",
   "metadata": {
    "id": "c302180f-2114-404c-abeb-8565a191abaa"
   },
   "source": [
    "Merge the 3 dataset on the customerid column (Demographic_data, Performance_data and Previous_loan_data_repayment)"
   ]
  },
  {
   "cell_type": "code",
   "execution_count": null,
   "id": "5fa5f387-84ef-4f75-9856-c0ec42577384",
   "metadata": {
    "colab": {
     "base_uri": "https://localhost:8080/",
     "height": 313
    },
    "id": "5fa5f387-84ef-4f75-9856-c0ec42577384",
    "outputId": "d82e8bc3-e6c4-4f09-846d-0fdfbfedcc4d"
   },
   "outputs": [],
   "source": [
    "df_merge = Performance_data.merge(Demographic_data, on = 'customerid', how = 'left' )\n",
    "df = df_merge.merge(Previous_loan_data_repayment, on = 'customerid', how = 'left' )"
   ]
  },
  {
   "cell_type": "markdown",
   "id": "90b5bf35-095c-4c7d-be2a-900c768fe133",
   "metadata": {},
   "source": [
    "Feature Engineering and Creation: Convert Columns with Dates to datetime, birthdate to age, and convert termdays to category as its features are discrete and limited unlike other numerical features that are continuous"
   ]
  },
  {
   "cell_type": "code",
   "execution_count": null,
   "id": "c98817fa-671d-4cb4-9e1f-3d1251c9d4c6",
   "metadata": {},
   "outputs": [],
   "source": [
    "df['approveddate'] = pd.to_datetime(df['approveddate'], errors = 'coerce')\n",
    "df['creationdate'] = pd.to_datetime(df['creationdate'], errors = 'coerce')\n",
    "df['birthdate'] = pd.to_datetime(df['birthdate'], errors = 'coerce')\n",
    "\n",
    "#convert birthdate to age \n",
    "today = pd.to_datetime('today')\n",
    "df['age'] = df['birthdate'].apply(\n",
    "        lambda bd: today.year - bd.year - ((today.month, today.day) < (bd.month, bd.day))\n",
    "    )\n",
    "\n",
    "#create interest column\n",
    "df['interest'] = (df['totaldue'] - df['loanamount']).astype(int)\n",
    "\n",
    "#convert termdays to categorial column \n",
    "df['termdays'] = df['termdays'].astype('category')\n",
    "\n",
    "#convert to numerical values\n",
    "for col in ['approveddate', 'creationdate']:\n",
    "    df[col] = pd.to_datetime(df[col], errors = 'coerce')\n",
    "    \n",
    "   # Extract datetime features\n",
    "    df[col + '_year'] = df[col].dt.year\n",
    "    df[col + '_month'] = df[col].dt.month\n",
    "    df[col + '_day'] = df[col].dt.day\n",
    "    df[col + '_hour'] = df[col].dt.hour\n",
    "    df[col + '_minute'] = df[col].dt.minute\n",
    "\n",
    "#Drop columns\n",
    "df.drop(columns = ['approveddate', 'creationdate', 'birthdate'], inplace = True)"
   ]
  },
  {
   "cell_type": "markdown",
   "id": "6105035c-5b65-4a57-94df-3b245c8ae035",
   "metadata": {},
   "source": [
    "Data understanding for the merged dataset(df)"
   ]
  },
  {
   "cell_type": "code",
   "execution_count": null,
   "id": "209202b7-a3c1-47ec-987a-bc9b7e053a6a",
   "metadata": {},
   "outputs": [],
   "source": [
    "df.head()"
   ]
  },
  {
   "cell_type": "code",
   "execution_count": null,
   "id": "27af3afb-1eed-4f37-a41d-580401b0d725",
   "metadata": {
    "colab": {
     "base_uri": "https://localhost:8080/"
    },
    "id": "27af3afb-1eed-4f37-a41d-580401b0d725",
    "outputId": "eca8dc0c-3eea-460e-8b42-c9926178d4bb"
   },
   "outputs": [],
   "source": [
    "df.columns"
   ]
  },
  {
   "cell_type": "markdown",
   "id": "1dc6f31a-cc8e-4bfd-b0ee-26cf9b7511ae",
   "metadata": {},
   "source": [
    "Definition of features(columns) in df\n",
    "- customerid - unique identifier for customers(borrowers)\n",
    "- systemloanid - unique identifier for a particular loans\n",
    "- loannumber - the number of the loan to be predicted\n",
    "- loanamount - the amount of loan taken by customers\n",
    "- interest - extra amount paid by customers\n",
    "- totaldue - the sum of loanamount and interest\n",
    "- termdays - loan term length in days\n",
    "- good_bad_flag - repayment behaviour by customers(good = repaid/not defaulted, bad = defaulted)\n",
    "- bank_account_type - the type of account(savings, current)\n",
    "- longitude_gps - longitude of customer's location\n",
    "- latitude_gps - latitude of customer's location\n",
    "- bank_name_clients - customer's bank name\n",
    "- bank_branch_clients - customer's bank branch\n",
    "- employment_status_clients - customer's employment status\n",
    "- level_of_education_clients - customer's educational level\n",
    "- On_Time_Repayment - number of times customers paid early\n",
    "- Late_Time_Repayment - number of times customers paid late\n",
    "- approveddate year, month, day, minute - the time a loan was approved\n",
    "- creation year, month, day, minute - the time a loan was created\n",
    "- age - the age of the customer "
   ]
  },
  {
   "cell_type": "code",
   "execution_count": null,
   "id": "32aa9f6e-7474-4245-902a-802bcf1d6733",
   "metadata": {
    "colab": {
     "base_uri": "https://localhost:8080/"
    },
    "id": "32aa9f6e-7474-4245-902a-802bcf1d6733",
    "outputId": "386874d2-51fc-40ad-c2b8-26dbb5f6e9dd"
   },
   "outputs": [],
   "source": [
    "df.shape"
   ]
  },
  {
   "cell_type": "code",
   "execution_count": null,
   "id": "42a989b3-04c8-4730-ab30-33c521038dc7",
   "metadata": {
    "colab": {
     "base_uri": "https://localhost:8080/"
    },
    "id": "42a989b3-04c8-4730-ab30-33c521038dc7",
    "outputId": "d8ffa7d2-7154-41f4-e367-2f77e3dc99d6"
   },
   "outputs": [],
   "source": [
    "df.info()"
   ]
  },
  {
   "cell_type": "markdown",
   "id": "1389fabe-2d7e-4cb0-b6b5-6150d902237d",
   "metadata": {
    "id": "1389fabe-2d7e-4cb0-b6b5-6150d902237d"
   },
   "source": [
    "From the above information, I observed that the datatypes are corresponding, i.e, it is as it should be"
   ]
  },
  {
   "cell_type": "markdown",
   "id": "96f67b3e-6c75-400b-b218-d18a2d2224f3",
   "metadata": {
    "id": "96f67b3e-6c75-400b-b218-d18a2d2224f3"
   },
   "source": [
    "Descriptive statistic for df"
   ]
  },
  {
   "cell_type": "code",
   "execution_count": null,
   "id": "485c2a94-e72c-4f15-9b6d-df9b6e664e2e",
   "metadata": {
    "colab": {
     "base_uri": "https://localhost:8080/",
     "height": 363
    },
    "id": "485c2a94-e72c-4f15-9b6d-df9b6e664e2e",
    "outputId": "a0a68526-a9d3-416e-8d85-75cd3c9c701a"
   },
   "outputs": [],
   "source": [
    "df.describe().T.round(2)"
   ]
  },
  {
   "cell_type": "markdown",
   "id": "49c57210-0c5b-49e0-9be9-716a08ffff3a",
   "metadata": {},
   "source": [
    "Observation: \n",
    "- there are missing values as count is not thesame\n",
    "- Outliers are present "
   ]
  },
  {
   "cell_type": "markdown",
   "id": "0c07bad3-f7a2-448d-b725-a5da5be8b314",
   "metadata": {
    "id": "0c07bad3-f7a2-448d-b725-a5da5be8b314"
   },
   "source": [
    "Check for missing values"
   ]
  },
  {
   "cell_type": "code",
   "execution_count": null,
   "id": "c414721c-49b2-4e53-93ff-9d180aab794a",
   "metadata": {
    "colab": {
     "base_uri": "https://localhost:8080/",
     "height": 711
    },
    "id": "c414721c-49b2-4e53-93ff-9d180aab794a",
    "outputId": "1feeeb87-bf85-4581-b28a-47f1dd780159"
   },
   "outputs": [],
   "source": [
    "df.isna().sum()"
   ]
  },
  {
   "cell_type": "markdown",
   "id": "13bf5f07-b205-4154-916c-e5b79bb8b279",
   "metadata": {
    "id": "13bf5f07-b205-4154-916c-e5b79bb8b279"
   },
   "source": [
    "Check for the percentage of missing values"
   ]
  },
  {
   "cell_type": "code",
   "execution_count": null,
   "id": "3e4993c4-2959-4d30-80e1-dea8fa6fb11b",
   "metadata": {
    "colab": {
     "base_uri": "https://localhost:8080/",
     "height": 711
    },
    "id": "3e4993c4-2959-4d30-80e1-dea8fa6fb11b",
    "outputId": "3e3bd3bd-4f92-4759-dc4d-5b81001ae7f7"
   },
   "outputs": [],
   "source": [
    "df.isna().sum().sort_values(ascending = False) / len(df) * 100"
   ]
  },
  {
   "cell_type": "markdown",
   "id": "a2bb48ea-fa1f-4786-a65b-59b755260381",
   "metadata": {
    "id": "a2bb48ea-fa1f-4786-a65b-59b755260381"
   },
   "source": [
    "Drop columns with 80% missing value and not an important column to the dataset for df1"
   ]
  },
  {
   "cell_type": "code",
   "execution_count": null,
   "id": "ccf5036f-8de9-4b61-afe9-119364f8b989",
   "metadata": {
    "id": "ccf5036f-8de9-4b61-afe9-119364f8b989"
   },
   "outputs": [],
   "source": [
    "df.drop(columns=['level_of_education_clients', 'bank_branch_clients'], inplace = True)"
   ]
  },
  {
   "cell_type": "markdown",
   "id": "775bf334-482e-43f0-ac55-1eb2af2b4d90",
   "metadata": {
    "id": "775bf334-482e-43f0-ac55-1eb2af2b4d90"
   },
   "source": [
    "Check for columns with missing values and fill them"
   ]
  },
  {
   "cell_type": "code",
   "execution_count": null,
   "id": "7fe51126-bccc-4548-bb60-3db2a1927c54",
   "metadata": {
    "colab": {
     "base_uri": "https://localhost:8080/"
    },
    "id": "7fe51126-bccc-4548-bb60-3db2a1927c54",
    "outputId": "05355dbc-dcfd-4583-9b98-a53b2f06257c"
   },
   "outputs": [],
   "source": [
    "df['employment_status_clients'].isna().sum()"
   ]
  },
  {
   "cell_type": "code",
   "execution_count": null,
   "id": "b3a0a92e-6c61-46a6-91dc-6f9ad7a623c5",
   "metadata": {
    "id": "b3a0a92e-6c61-46a6-91dc-6f9ad7a623c5"
   },
   "outputs": [],
   "source": [
    "df['employment_status_clients'] = df['employment_status_clients'].fillna('Unknown')"
   ]
  },
  {
   "cell_type": "code",
   "execution_count": null,
   "id": "2c574cb9-1dba-4658-be80-fe080b11ba80",
   "metadata": {
    "colab": {
     "base_uri": "https://localhost:8080/"
    },
    "id": "2c574cb9-1dba-4658-be80-fe080b11ba80",
    "outputId": "dda3537f-db70-42fb-e96e-8f9eb1bf598a"
   },
   "outputs": [],
   "source": [
    "df['bank_account_type'].isna().sum()"
   ]
  },
  {
   "cell_type": "code",
   "execution_count": null,
   "id": "03cf4bef-1551-4ae6-a77d-16777c9b9f7c",
   "metadata": {},
   "outputs": [],
   "source": [
    "df['age'].isna().sum()"
   ]
  },
  {
   "cell_type": "code",
   "execution_count": null,
   "id": "6932cc42-0a89-417f-9972-70487639376c",
   "metadata": {},
   "outputs": [],
   "source": [
    "df['age'] = df['age'].fillna(df['age'].median())"
   ]
  },
  {
   "cell_type": "code",
   "execution_count": null,
   "id": "c06c92e1-be0c-4ee2-85d6-67d32fd7c274",
   "metadata": {
    "id": "c06c92e1-be0c-4ee2-85d6-67d32fd7c274"
   },
   "outputs": [],
   "source": [
    "df['bank_account_type'] = df['bank_account_type'].fillna('NA')"
   ]
  },
  {
   "cell_type": "code",
   "execution_count": null,
   "id": "abff2ed0-8348-4136-b3fa-e6abf3692ff0",
   "metadata": {
    "colab": {
     "base_uri": "https://localhost:8080/"
    },
    "id": "abff2ed0-8348-4136-b3fa-e6abf3692ff0",
    "outputId": "1e150767-9198-4609-e41d-82b2a84b2eb5"
   },
   "outputs": [],
   "source": [
    "df['longitude_gps'].isna().sum()"
   ]
  },
  {
   "cell_type": "code",
   "execution_count": null,
   "id": "b6ab6e47-8c4a-44b9-8401-59e568bef095",
   "metadata": {
    "id": "b6ab6e47-8c4a-44b9-8401-59e568bef095"
   },
   "outputs": [],
   "source": [
    "df['longitude_gps'] = df['longitude_gps'].fillna(df['longitude_gps'].mean())"
   ]
  },
  {
   "cell_type": "code",
   "execution_count": null,
   "id": "f6d26664-3c36-474d-81e1-acc4ef537050",
   "metadata": {
    "colab": {
     "base_uri": "https://localhost:8080/"
    },
    "id": "f6d26664-3c36-474d-81e1-acc4ef537050",
    "outputId": "6ea7e8c1-5d8e-43d0-c6fc-f000dd176192"
   },
   "outputs": [],
   "source": [
    "df['latitude_gps'].isna().sum()"
   ]
  },
  {
   "cell_type": "code",
   "execution_count": null,
   "id": "c1494b51-6034-43e4-aa6a-daff8c0d8e0b",
   "metadata": {
    "id": "c1494b51-6034-43e4-aa6a-daff8c0d8e0b"
   },
   "outputs": [],
   "source": [
    "df['latitude_gps'] = df['latitude_gps'].fillna(df['latitude_gps'].mean())"
   ]
  },
  {
   "cell_type": "code",
   "execution_count": null,
   "id": "88a12902-9563-45b7-b681-11f146a2f5fd",
   "metadata": {
    "colab": {
     "base_uri": "https://localhost:8080/"
    },
    "id": "88a12902-9563-45b7-b681-11f146a2f5fd",
    "outputId": "cc226829-9b75-4170-8d47-6197badd61d4"
   },
   "outputs": [],
   "source": [
    "df['bank_name_clients'].isna().sum()"
   ]
  },
  {
   "cell_type": "code",
   "execution_count": null,
   "id": "23a82b07-c978-49e3-acdb-56e62915773f",
   "metadata": {
    "id": "23a82b07-c978-49e3-acdb-56e62915773f"
   },
   "outputs": [],
   "source": [
    "df['bank_name_clients'] = df['bank_name_clients'].fillna('NA')"
   ]
  },
  {
   "cell_type": "code",
   "execution_count": null,
   "id": "4f7f5a34-286a-4e57-95dc-0ce1d7cab1f0",
   "metadata": {
    "id": "4f7f5a34-286a-4e57-95dc-0ce1d7cab1f0"
   },
   "outputs": [],
   "source": [
    "df['Late_Time_Repayment'] = df['Late_Time_Repayment'].fillna(0)"
   ]
  },
  {
   "cell_type": "code",
   "execution_count": null,
   "id": "1ba0c181-8833-4022-aec6-32f4159ecb0a",
   "metadata": {
    "id": "1ba0c181-8833-4022-aec6-32f4159ecb0a"
   },
   "outputs": [],
   "source": [
    "df['On_Time_Repayment'] = df['On_Time_Repayment'].fillna(0)"
   ]
  },
  {
   "cell_type": "markdown",
   "id": "dea7f4e6-ae82-47f9-81b6-2126ab81defa",
   "metadata": {
    "id": "dea7f4e6-ae82-47f9-81b6-2126ab81defa"
   },
   "source": [
    "Check for Duplicates"
   ]
  },
  {
   "cell_type": "code",
   "execution_count": null,
   "id": "526747a6-953b-4a03-b876-746c882c9ef4",
   "metadata": {
    "colab": {
     "base_uri": "https://localhost:8080/"
    },
    "id": "526747a6-953b-4a03-b876-746c882c9ef4",
    "outputId": "78552d9b-becb-46ed-9e67-2bad2e1228e5"
   },
   "outputs": [],
   "source": [
    "df.duplicated().sum()"
   ]
  },
  {
   "cell_type": "markdown",
   "id": "6a9c3a31-ad67-4f55-af7b-7efaef631799",
   "metadata": {
    "id": "6a9c3a31-ad67-4f55-af7b-7efaef631799"
   },
   "source": [
    "Observation: No duplicates found"
   ]
  },
  {
   "cell_type": "markdown",
   "id": "1a9788e9-de72-4a43-9ed8-a1167b206d43",
   "metadata": {},
   "source": [
    "Check Categorical Columns in order to see if there's need for Grouping or Encoding"
   ]
  },
  {
   "cell_type": "code",
   "execution_count": null,
   "id": "d75371de-669d-4450-8c11-17ffc95d2fe0",
   "metadata": {},
   "outputs": [],
   "source": [
    "#visualize cat column\n",
    "cols = ['bank_account_type','employment_status_clients','termdays','bank_name_clients']\n",
    "plt.figure(figsize = (18, 18))\n",
    "for i, col in enumerate(cols, 1):\n",
    "    plt.subplot(2,2,i)\n",
    "    sns.countplot(x =col, data = df)\n",
    "    plt.title(f'Count Plot of{col}')\n",
    "plt.show()"
   ]
  },
  {
   "cell_type": "markdown",
   "id": "27cff871-376b-44a6-9da0-d5b141ddcda9",
   "metadata": {},
   "source": [
    "Observation: From te visualization of cat col above, the different features in each column was displayed with 'savings' having the highest distribution for bank_account_type, 'permanent' for employment_status_clients, '30 days' for termdays and 'GT Bank' for bank_name_clients."
   ]
  },
  {
   "cell_type": "code",
   "execution_count": null,
   "id": "c5384b15-8f38-4ba2-a18e-03cb3d07383e",
   "metadata": {},
   "outputs": [],
   "source": [
    "#visualize cat column vs target column('good_bad_flag')\n",
    "cols = ['bank_account_type','employment_status_clients','termdays','bank_name_clients']\n",
    "plt.figure(figsize = (18, 18))\n",
    "for i, col in enumerate(cols, 1):\n",
    "    plt.subplot(2,2,i)\n",
    "    sns.countplot(x =col, hue = 'good_bad_flag', data = df)\n",
    "    plt.title(f'{col} vs good_bad_flag')\n",
    "plt.show()"
   ]
  },
  {
   "cell_type": "markdown",
   "id": "0700ade2-c835-488d-9e0d-a17d8f954518",
   "metadata": {},
   "source": [
    "INSIGHT: From the above,(1) countplot showed the frequency and distribution of columms in relation to good_bad_flag. (2)It shows that the dataset is imbalanced as it predicts more good flag. (3)It showed the pattern of distribution "
   ]
  },
  {
   "cell_type": "markdown",
   "id": "eae95cba-7715-4399-8198-8da1de8eaf5e",
   "metadata": {
    "id": "eae95cba-7715-4399-8198-8da1de8eaf5e"
   },
   "source": [
    "Visualization of Numerical Columns to Check for Outliers using boxplot"
   ]
  },
  {
   "cell_type": "code",
   "execution_count": null,
   "id": "f6a551cc-25cd-4280-9c4b-af8ba7dd8c09",
   "metadata": {
    "colab": {
     "base_uri": "https://localhost:8080/",
     "height": 1000
    },
    "id": "f6a551cc-25cd-4280-9c4b-af8ba7dd8c09",
    "outputId": "dcd3e192-8660-4dc3-cb20-b7cb4fa235af"
   },
   "outputs": [],
   "source": [
    "#Numerical plots\n",
    "num_cols = ['loannumber','loanamount', 'interest', 'totaldue','On_Time_Repayment','Late_Time_Repayment', 'age']\n",
    "for col in num_cols:\n",
    "    plt.figure(figsize = (8,4))\n",
    "    #Histogram plot\n",
    "    plt.subplot(1,2,1)\n",
    "    sns.histplot(df[col], bins = 30, kde = True)\n",
    "    plt.title(f'Histogram Distribution of {col}')\n",
    "    #Box plot\n",
    "    plt.subplot(1,2,2)\n",
    "    sns.boxplot(df[col])\n",
    "    plt.title(f'Boxplot Distribution of {col}')\n",
    "    plt.show()"
   ]
  },
  {
   "cell_type": "code",
   "execution_count": null,
   "id": "340203d6-449c-4543-b1af-034f00abbb6f",
   "metadata": {
    "colab": {
     "base_uri": "https://localhost:8080/",
     "height": 1000
    },
    "id": "340203d6-449c-4543-b1af-034f00abbb6f",
    "outputId": "412115c3-8ac3-4ee4-d42b-105252d9b422"
   },
   "outputs": [],
   "source": [
    "for col in num_cols:\n",
    "    plt.figure(figsize = (8,4))\n",
    "    #Boxplot\n",
    "    plt.subplot(1,2,1)\n",
    "    sns.boxplot(df[col])\n",
    "    plt.title(f'Boxplot Distribution of {col}')\n",
    "    #Violin plot\n",
    "    plt.subplot(1,2,2)\n",
    "    sns.violinplot(df[col])\n",
    "    plt.title(f'Violinplot Distribution of {col}')\n",
    "    plt.show()"
   ]
  },
  {
   "cell_type": "markdown",
   "id": "9a2769de-719c-4cfd-8e26-199d623a449c",
   "metadata": {},
   "source": [
    "Observation: all the numerical columns have outliers. This is because the columns are not normally skewed, they are either skewed to the left or right."
   ]
  },
  {
   "cell_type": "markdown",
   "id": "c5d329de-7af3-4de0-873d-2d5e0c688351",
   "metadata": {
    "id": "c5d329de-7af3-4de0-873d-2d5e0c688351"
   },
   "source": [
    "Calculate Skewness"
   ]
  },
  {
   "cell_type": "code",
   "execution_count": null,
   "id": "6579bd70-2935-4729-b6eb-ce4aa9a28d73",
   "metadata": {
    "colab": {
     "base_uri": "https://localhost:8080/",
     "height": 335
    },
    "id": "6579bd70-2935-4729-b6eb-ce4aa9a28d73",
    "outputId": "44d418cd-0f41-4f2f-d0f9-48c4e41e2684"
   },
   "outputs": [],
   "source": [
    "num_cols_skewness = df[num_cols].skew().sort_values(ascending = False)\n",
    "num_cols_skewness"
   ]
  },
  {
   "cell_type": "markdown",
   "id": "45de7435-8f0b-4886-a9fc-b344555accdd",
   "metadata": {
    "id": "45de7435-8f0b-4886-a9fc-b344555accdd"
   },
   "source": [
    "Handle Outliers by using  Winsorization method(i.e, by capping them) with a default factor of 1.5"
   ]
  },
  {
   "cell_type": "code",
   "execution_count": null,
   "id": "9e32334a-52b4-4209-b7cc-2e3c098ff3fc",
   "metadata": {
    "id": "9e32334a-52b4-4209-b7cc-2e3c098ff3fc"
   },
   "outputs": [],
   "source": [
    "for col in num_cols:\n",
    "    Q1 = df[num_cols].quantile(0.25)\n",
    "    Q3 = df[num_cols].quantile(0.75)\n",
    "    IQR = Q3 - Q1\n",
    "    lower_bound = Q1 - 1.5 * IQR\n",
    "    upper_bound = Q3 + 1.5 * IQR\n",
    "    df[num_cols] = np.where(df[num_cols] < lower_bound, lower_bound,\n",
    "                     np.where(df[num_cols] > upper_bound, upper_bound, df[num_cols]))\n"
   ]
  },
  {
   "cell_type": "code",
   "execution_count": null,
   "id": "5d872eec-1d9b-41c2-b576-b1bec8f87607",
   "metadata": {
    "colab": {
     "base_uri": "https://localhost:8080/",
     "height": 1000
    },
    "id": "5d872eec-1d9b-41c2-b576-b1bec8f87607",
    "outputId": "eda7e9e1-17ff-4b6d-b788-3859648ff009"
   },
   "outputs": [],
   "source": [
    "#Numerical plots\n",
    "for col in num_cols:\n",
    "    plt.figure(figsize = (8,4))\n",
    "    #Histogram plot\n",
    "    plt.subplot(1,2,1)\n",
    "    sns.histplot(df[col], bins = 30, kde = True)\n",
    "    plt.title(f'Histogram Distribution of {col}')\n",
    "    #Box plot\n",
    "    plt.subplot(1,2,2)\n",
    "    sns.boxplot(df[col])\n",
    "    plt.title(f'Boxplot Distribution of {col}')\n",
    "    plt.show()"
   ]
  },
  {
   "cell_type": "markdown",
   "id": "8d722b0d-0106-4724-907c-b2493ab7c14b",
   "metadata": {
    "id": "8d722b0d-0106-4724-907c-b2493ab7c14b"
   },
   "source": [
    "After using Winsorization method, i observed that the skewness was capped, it controlled the outliers. "
   ]
  },
  {
   "cell_type": "markdown",
   "id": "bb4f47da-bfc3-4b72-a6a6-a504408959dc",
   "metadata": {
    "id": "bb4f47da-bfc3-4b72-a6a6-a504408959dc"
   },
   "source": [
    "Correlation Analysis; This is done in order to detect redundancy and multicollinearity(i.e, features that are too correlated). Since I will be using LOGISTIC REGRESSION Model, I visualize the numerical columns and found multicollinearitry. In order to avoid that, I will be dropping the columns since it brings almost the same information.\n",
    "\n"
   ]
  },
  {
   "cell_type": "code",
   "execution_count": null,
   "id": "19a76e3f-9523-4e9e-a681-0aa61c84a0e0",
   "metadata": {
    "colab": {
     "base_uri": "https://localhost:8080/",
     "height": 555
    },
    "id": "19a76e3f-9523-4e9e-a681-0aa61c84a0e0",
    "outputId": "ccdcfc5e-010f-4465-9846-a3a4f0f03dd4"
   },
   "outputs": [],
   "source": [
    "plt.figure(figsize = (8,4))\n",
    "heatmap = df[num_cols].corr()\n",
    "sns.heatmap(data = heatmap, fmt = '.2f', annot = True, cmap = 'coolwarm')\n",
    "plt.title('Correlation Matrix of Numerical Features', fontweight = 'bold')\n",
    "plt.show()"
   ]
  },
  {
   "cell_type": "markdown",
   "id": "567bed7f-028e-47eb-a87a-1bee36f16fb3",
   "metadata": {
    "id": "567bed7f-028e-47eb-a87a-1bee36f16fb3"
   },
   "source": [
    "Using VIF; this is used in order to Detect and confirm Multicollinearity"
   ]
  },
  {
   "cell_type": "code",
   "execution_count": null,
   "id": "47a2d173-7cdb-4fc7-bde2-37cfd7169e78",
   "metadata": {
    "colab": {
     "base_uri": "https://localhost:8080/",
     "height": 304
    },
    "id": "47a2d173-7cdb-4fc7-bde2-37cfd7169e78",
    "outputId": "139a34a2-37ab-4af0-ad6a-3ac0ee3fdaa7"
   },
   "outputs": [],
   "source": [
    "num_cols = df[num_cols]\n",
    "num_cols_const = add_constant(num_cols)\n",
    "vif = pd.DataFrame()\n",
    "vif['features'] = num_cols_const.columns\n",
    "vif['VIF'] = [variance_inflation_factor(num_cols_const.values, i)\n",
    "             for i in range(num_cols_const.shape[1])]\n",
    "vif"
   ]
  },
  {
   "cell_type": "markdown",
   "id": "9a9d9e49-74ee-460e-9436-a405d242f5cd",
   "metadata": {
    "id": "9a9d9e49-74ee-460e-9436-a405d242f5cd"
   },
   "source": [
    "From the above information, I observed that\n",
    "- loannumber, loanamout, totaldues and On_Time_Repayment have high correlation  while loanamount and totaldue have extremely high multicollinearity. In order to be safe while using Logistic Regression Model and not confuse my model, I will be dropping totaldue and keeping loanamount. This is because, loanamount is just the amount the customer collected while totaldue refers to the sum of the exact loan amount, interest and others charges such as late repayment charges, e.t.c.\n",
    "- totaldue has been splitted into loanamount and interest, therefore, it is safe to drop\n",
    "- Age has very low correlation(it is perfect and independent)"
   ]
  },
  {
   "cell_type": "code",
   "execution_count": null,
   "id": "16dcbec9-89be-4977-9f60-bea1ed8ffcd3",
   "metadata": {},
   "outputs": [],
   "source": [
    "#drop totaldue\n",
    "df.drop(columns = ['totaldue'], inplace = (True))"
   ]
  },
  {
   "cell_type": "markdown",
   "id": "5916e631-3387-4a3b-be29-c0554f90c8ae",
   "metadata": {
    "id": "5916e631-3387-4a3b-be29-c0554f90c8ae"
   },
   "source": [
    "Check if the Target Column is Balanced or Not.\n",
    "- check by counting the values\n",
    "- check by plotting or visualizing using bar cart"
   ]
  },
  {
   "cell_type": "code",
   "execution_count": null,
   "id": "c0394143-3017-498c-952c-3f51719cfa8b",
   "metadata": {
    "colab": {
     "base_uri": "https://localhost:8080/",
     "height": 178
    },
    "id": "c0394143-3017-498c-952c-3f51719cfa8b",
    "outputId": "ebb79987-3d8c-44c7-807e-2c179ba60b3c"
   },
   "outputs": [],
   "source": [
    "df.good_bad_flag.value_counts()"
   ]
  },
  {
   "cell_type": "code",
   "execution_count": null,
   "id": "b48ee902-2950-4ac1-b043-ca240930260d",
   "metadata": {
    "colab": {
     "base_uri": "https://localhost:8080/",
     "height": 489
    },
    "id": "b48ee902-2950-4ac1-b043-ca240930260d",
    "outputId": "5426234b-1fde-45ff-f9cf-cec3909ea013"
   },
   "outputs": [],
   "source": [
    "df.good_bad_flag.value_counts().plot(kind = 'bar')"
   ]
  },
  {
   "cell_type": "markdown",
   "id": "76430622-525d-4f52-b2bb-74102a248bb5",
   "metadata": {
    "id": "76430622-525d-4f52-b2bb-74102a248bb5"
   },
   "source": [
    "Observation: The target column is not balanced as this can be termed a 20-80% distribution\n",
    "To balance the target column, I will be using the oversampling technique called SMOTE, this is because my dataset is small and i don't want to predict only the majority class."
   ]
  },
  {
   "cell_type": "markdown",
   "id": "ddeb4b5c-b409-4137-9d61-0a858b9f2481",
   "metadata": {
    "id": "ddeb4b5c-b409-4137-9d61-0a858b9f2481"
   },
   "source": [
    "Convert the datatype of the target column(good_bad_flag) from object(text) to integers(numbers)"
   ]
  },
  {
   "cell_type": "code",
   "execution_count": null,
   "id": "9a90f2bf-9873-41ff-b304-702c57f6f529",
   "metadata": {
    "colab": {
     "base_uri": "https://localhost:8080/"
    },
    "id": "9a90f2bf-9873-41ff-b304-702c57f6f529",
    "outputId": "6941c618-6aa8-4afc-bc53-26070794cb6c"
   },
   "outputs": [],
   "source": [
    "df.good_bad_flag.unique()"
   ]
  },
  {
   "cell_type": "code",
   "execution_count": null,
   "id": "6ce07a09-3005-4a4f-92da-7649b2d6464b",
   "metadata": {
    "id": "6ce07a09-3005-4a4f-92da-7649b2d6464b"
   },
   "outputs": [],
   "source": [
    "df.good_bad_flag=(df.good_bad_flag == 'Good').astype(int)"
   ]
  },
  {
   "cell_type": "code",
   "execution_count": null,
   "id": "12f7d164-32e7-4678-aba0-a81d2fc2b06b",
   "metadata": {
    "colab": {
     "base_uri": "https://localhost:8080/"
    },
    "id": "12f7d164-32e7-4678-aba0-a81d2fc2b06b",
    "outputId": "b57ddeba-5b97-47e6-d225-e41f2b6ba8e0"
   },
   "outputs": [],
   "source": [
    "df.good_bad_flag.unique()"
   ]
  },
  {
   "cell_type": "markdown",
   "id": "18b7eff8-f0ac-4591-bf54-8e93acc7c1d0",
   "metadata": {
    "id": "18b7eff8-f0ac-4591-bf54-8e93acc7c1d0"
   },
   "source": [
    "DATA PREPARATION"
   ]
  },
  {
   "cell_type": "markdown",
   "id": "93551f52-a797-4d0e-9384-d9e347db9dae",
   "metadata": {
    "id": "93551f52-a797-4d0e-9384-d9e347db9dae"
   },
   "source": [
    "Seperation of Columns into Features and Target Columns. While seperating my columns, I dropped some column because its not needed for my data preparation.\n",
    "X = features and y = target"
   ]
  },
  {
   "cell_type": "code",
   "execution_count": null,
   "id": "cfc2d332-748b-48b7-90c3-f760b542fa92",
   "metadata": {},
   "outputs": [],
   "source": [
    "df.columns"
   ]
  },
  {
   "cell_type": "code",
   "execution_count": null,
   "id": "018447cb-66fb-4bc6-8f92-348af669d37e",
   "metadata": {},
   "outputs": [],
   "source": [
    "df['latitude_gps']"
   ]
  },
  {
   "cell_type": "code",
   "execution_count": null,
   "id": "1a17be68-1ba8-4938-bf26-08d1e218c8e6",
   "metadata": {},
   "outputs": [],
   "source": [
    "pio.renderers.default = 'notebook'\n",
    "fig = px.scatter_mapbox(\n",
    "    df,\n",
    "    lat = 'latitude_gps',\n",
    "    lon = 'longitude_gps',\n",
    "    hover_data = ['latitude_gps', 'longitude_gps'],\n",
    "    zoom = 6,\n",
    "    height = 600,\n",
    "    width = 1000,\n",
    "    center = {'lat': df['latitude_gps'].mean(), 'lon': df['longitude_gps'].mean()}\n",
    ")\n",
    "fig.update_layout(mapbox_style = 'open-street-map')\n",
    "fig.show()"
   ]
  },
  {
   "cell_type": "markdown",
   "id": "45e22071-1135-4ee3-bb2b-6a3dcab641c2",
   "metadata": {},
   "source": [
    "INSIGHTS\n",
    "- it shows that the customers location is Nigeria\n",
    "- its highly concentrated in southern and central Nigeria\n",
    "- Northern Nigeria has fewer customers\n",
    "- after analysing and knowing the location of the customers, the location columns will be removed as the features will not affect the target column"
   ]
  },
  {
   "cell_type": "code",
   "execution_count": null,
   "id": "d8869c09-768b-46be-83f6-9b23736b51fd",
   "metadata": {},
   "outputs": [],
   "source": [
    "df.drop(columns = ['longitude_gps','latitude_gps'], inplace = True)"
   ]
  },
  {
   "cell_type": "code",
   "execution_count": null,
   "id": "3ad588d5-cd43-4d3d-aae6-b87541f34a3b",
   "metadata": {},
   "outputs": [],
   "source": [
    "#convert termdays to cat col\n",
    "bins = [0,30,60,90]\n",
    "#ranges: 0-30, 31-60, 61-90\n",
    "labels = ['short', 'medium', 'long']\n",
    "df['termdays_cat'] = pd.cut(df['termdays'], bins = bins, labels = labels, right = True)\n",
    "df['termdays_cat'] = df['termdays_cat'].astype('category')\n",
    "df['termdays_cat'] = df['termdays_cat'].cat.set_categories(['short', 'medium', 'long'], ordered = True)"
   ]
  },
  {
   "cell_type": "code",
   "execution_count": null,
   "id": "c90eaff2-8ba6-4462-8b75-753a9bc01e3d",
   "metadata": {
    "id": "c90eaff2-8ba6-4462-8b75-753a9bc01e3d"
   },
   "outputs": [],
   "source": [
    "#Seperate columns into features(X) and target column(y)\n",
    "X = df.drop(columns = ['customerid','systemloanid','termdays','good_bad_flag'])\n",
    "y = df['good_bad_flag']"
   ]
  },
  {
   "cell_type": "markdown",
   "id": "0359ee15-0f84-42f8-9034-dae3a92f8d2f",
   "metadata": {
    "id": "0359ee15-0f84-42f8-9034-dae3a92f8d2f"
   },
   "source": [
    "DATA PREPROCESSING\n"
   ]
  },
  {
   "cell_type": "code",
   "execution_count": null,
   "id": "22c57d97-4657-4037-9f69-787495108aa5",
   "metadata": {},
   "outputs": [],
   "source": [
    "#split into Test Data and Train Data\n",
    "X_train, X_test, y_train, y_test = train_test_split(X, y, test_size = 0.3, random_state = 42, stratify = y)"
   ]
  },
  {
   "cell_type": "markdown",
   "id": "a66c3c34-6bbe-48cb-b589-0eb40d7b04e9",
   "metadata": {
    "id": "a66c3c34-6bbe-48cb-b589-0eb40d7b04e9"
   },
   "source": [
    "Seperate into Categorical and Numerical Column"
   ]
  },
  {
   "cell_type": "code",
   "execution_count": null,
   "id": "f23a2e7d-6eeb-4213-84d3-b6a2902dcf7b",
   "metadata": {
    "id": "f23a2e7d-6eeb-4213-84d3-b6a2902dcf7b"
   },
   "outputs": [],
   "source": [
    "num_cols = X.select_dtypes(include = np.number).columns.tolist()\n",
    "cat_cols = X.select_dtypes(include = ['object', 'category']).columns.tolist()"
   ]
  },
  {
   "cell_type": "markdown",
   "id": "d95d610b-cf80-4000-960d-b8f75d879fcd",
   "metadata": {
    "id": "d95d610b-cf80-4000-960d-b8f75d879fcd"
   },
   "source": [
    "Encoding the Categorical Column and Scaling the Numerical Columns: After checking the cat_cols, I observed that there is need for encoding. i will be using the OneHotEncoder as my encoder because it is used for only categorical columns and it converts categorical columns into numeric features that are useable by models. Also, the numeriral columns will be scaled using standard scaler"
   ]
  },
  {
   "cell_type": "code",
   "execution_count": null,
   "id": "071a3455-aa71-4668-9b42-a1e1cf1a752d",
   "metadata": {
    "id": "071a3455-aa71-4668-9b42-a1e1cf1a752d"
   },
   "outputs": [],
   "source": [
    "num_pipeline = Pipeline(steps =[\n",
    "    ('scaler', StandardScaler())\n",
    "])\n",
    "cat_pipeline = Pipeline(steps =[\n",
    "    ('encoder', OneHotEncoder(sparse_output = False, handle_unknown = 'ignore'))\n",
    "])\n",
    "\n",
    "#Apply preprocessing\n",
    "preprocessor = ColumnTransformer(transformers = [\n",
    "    ('num',num_pipeline, num_cols),\n",
    "    ('cat',cat_pipeline, cat_cols)\n",
    "])"
   ]
  },
  {
   "cell_type": "code",
   "execution_count": null,
   "id": "bf2f0cad-c121-4a93-b3af-17b9e14ef912",
   "metadata": {
    "id": "bf2f0cad-c121-4a93-b3af-17b9e14ef912"
   },
   "outputs": [],
   "source": [
    "preprocessor\n"
   ]
  },
  {
   "cell_type": "code",
   "execution_count": null,
   "id": "6b016e4e-c359-4cf7-94b8-582f399e2604",
   "metadata": {
    "id": "6b016e4e-c359-4cf7-94b8-582f399e2604"
   },
   "outputs": [],
   "source": [
    "#INITIALIZE/SELECT Models\n",
    "models = {\n",
    "    'Decision Tree': DecisionTreeClassifier(random_state = 42),\n",
    "    'Logistic Regression': LogisticRegression(random_state = 42),\n",
    "    'Random Forest': RandomForestClassifier(random_state = 42),\n",
    "    'XGBoost': XGBClassifier(eval_metrics = 'logloss', random_state = 42),\n",
    "    'LightGBM': LGBMClassifier(verbose = -1, random_state = 42),\n",
    "    'Svm': SVC(kernel = 'rbf', C = 1.0, gamma = 'scale')\n",
    "}\n",
    "\n",
    "#MODEL EVALUATION using for loop\n",
    "results = {}\n",
    "fig, axes = plt.subplots(2, 3, figsize = (12, 4))\n",
    "for (name, model), ax in zip(models.items(), axes.flatten()):\n",
    "\n",
    "    pipeline = Pipeline(steps = [\n",
    "        ('preprocessor', preprocessor),\n",
    "        ('classifier', model)\n",
    "    ])\n",
    "\n",
    "    #Traing the Model\n",
    "    pipeline.fit(X_train, y_train)\n",
    "\n",
    "    #Predict the Training and Test Score\n",
    "    train_pred = pipeline.predict(X_train)\n",
    "    test_pred = pipeline.predict(X_test)\n",
    "\n",
    "    #Evaluate the Predictions\n",
    "    train_score = accuracy_score(train_pred, y_train)\n",
    "    test_score = accuracy_score(y_test, test_pred)\n",
    "    precision = precision_score(y_test, test_pred)\n",
    "    recall = recall_score(y_test, test_pred)\n",
    "    F1 = f1_score(y_test, test_pred)\n",
    "    #Store the Result\n",
    "    results[name] = {\n",
    "        'Train Accuracy': train_score,\n",
    "        'Test Accuracy':  test_score,\n",
    "        'Precision Score': precision,\n",
    "        'Recall Score': recall,\n",
    "        'F1-Score': F1\n",
    "    }\n",
    "\n",
    "    #Plot Confusion Matrix\n",
    "    cm = confusion_matrix(y_test, test_pred)\n",
    "    disp = ConfusionMatrixDisplay(cm)\n",
    "    disp.plot(ax = ax, cmap = 'Blues')\n",
    "    ax.set_title(name)\n",
    "plt.tight_layout()\n",
    "plt.show()\n",
    "\n",
    "#Print Metrics\n",
    "print('\\n{name} Report:')\n",
    "print(classification_report(y_test, test_pred))\n",
    "metrics_df = pd.DataFrame(results)\n",
    "print('\\nSummary of Model Selection:')\n",
    "print(metrics_df)"
   ]
  },
  {
   "cell_type": "markdown",
   "id": "d72b13ac-eac2-4c21-92e0-7b7f148b171d",
   "metadata": {
    "id": "d72b13ac-eac2-4c21-92e0-7b7f148b171d"
   },
   "source": [
    "OBSERVATION:\n",
    "- From the train accuracy, Random Forest Model and decision tree overfit the train accuracy.  \n",
    "- The classification Report said that the model is much better at predicting class 1 than class 0. This is because class 1 has more classes than class 0(imbalanced).\n",
    "- decision tree performed well with the precision score\n",
    "- Logistic Regression and svm performed well with the recall score and f1 score but svm overfits recall.\n",
    "\n",
    "- By predcting the imbalanced class, the models tend to predict the majority class more. "
   ]
  },
  {
   "cell_type": "markdown",
   "id": "7dc6afc2-684c-4cb1-a824-57a7702d66c2",
   "metadata": {},
   "source": [
    "Handling Imbalance"
   ]
  },
  {
   "cell_type": "code",
   "execution_count": null,
   "id": "c5e632c9-94b4-4d7c-821b-8b9f5f3c307d",
   "metadata": {},
   "outputs": [],
   "source": [
    "#Using Class WeIght: This helps to caution against mistakes on the minority class\n",
    "models_cw = {\n",
    "    'Decision Tree': DecisionTreeClassifier( class_weight = 'balanced', random_state = 42), \n",
    "    'Logistic Regression': LogisticRegression( class_weight = 'balanced', random_state = 42),\n",
    "    'Random Forest': RandomForestClassifier( class_weight = 'balanced', random_state = 42),\n",
    "    'XGBoost': XGBClassifier(eval_metrics = 'logloss',  class_weight = 'balanced',  random_state = 42),\n",
    "    'LightGBM': LGBMClassifier( class_weight = 'balanced',verbose = -1, random_state = 42),\n",
    "    'Svm': SVC(kernel = 'rbf', C = 1.0, gamma = 'scale', class_weight = 'balanced')\n",
    "}\n",
    "\n",
    "#MODEL EVALUATION using for loop\n",
    "results = {}\n",
    "fig, axes = plt.subplots(2, 3, figsize = (12, 4))\n",
    "for (name, model), ax in zip(models_cw.items(), axes.flatten()):\n",
    "\n",
    "    pipeline = Pipeline(steps = [\n",
    "        ('preprocessor', preprocessor),\n",
    "        ('classifier', model)\n",
    "    ])\n",
    "\n",
    "    #Traing the Model\n",
    "    pipeline.fit(X_train, y_train)\n",
    "\n",
    "    #Predict the Training and Test Score\n",
    "    train_pred_weighted = pipeline.predict(X_train)\n",
    "    test_pred_weighted = pipeline.predict(X_test)\n",
    "\n",
    "     #Evaluate the Predictions\n",
    "    train_score_weighted = accuracy_score(train_pred_weighted, y_train)\n",
    "    test_score_weighted = accuracy_score(y_test, test_pred_weighted)\n",
    "    precision_weighted = precision_score(y_test, test_pred_weighted)\n",
    "    recall_weighted = recall_score(y_test, test_pred_weighted)\n",
    "    F1_weighted = f1_score(y_test, test_pred_weighted)\n",
    "\n",
    "    #Store the Result\n",
    "    results[name] = {\n",
    "        'Train Accuracy': train_score_weighted,\n",
    "        'Test Accuracy':  test_score_weighted,\n",
    "        'Preision Score': precision_weighted,\n",
    "        'Recall Score': recall_weighted,\n",
    "        'F1-Score': F1_weighted\n",
    "    }\n",
    "\n",
    "    #Plot Confusion Matrix\n",
    "    cm = confusion_matrix(y_test, test_pred_weighted)\n",
    "    disp = ConfusionMatrixDisplay(cm)\n",
    "    disp.plot(ax = ax, cmap = 'Blues')\n",
    "    ax.set_title(name)\n",
    "plt.tight_layout()\n",
    "plt.show()\n",
    "\n",
    "#Print Metrics\n",
    "print('\\n{name} Report:')\n",
    "print(classification_report(y_test, test_pred_weighted))\n",
    "metrics_df = pd.DataFrame(results)\n",
    "print('\\nSummary of Model Selection:')\n",
    "print(metrics_df)"
   ]
  },
  {
   "cell_type": "markdown",
   "id": "16568c10-ee09-451b-af69-74334f725b9a",
   "metadata": {},
   "source": [
    "By using class weight for balancing, Random forest performs well with Recall score and logistic regression for precision. "
   ]
  },
  {
   "cell_type": "markdown",
   "id": "923d775a-4dee-4b70-9417-a55a7942da36",
   "metadata": {},
   "source": [
    "MODEL ON SMOTE_BALANCED DATA(RETRAINING MY MODEL ON THE RESAMPLED DATA): Now, I want to retrain with the balanced class which was gotten from the oversampling technique used(SMOTE) "
   ]
  },
  {
   "cell_type": "code",
   "execution_count": null,
   "id": "cef0ea10-eafe-4f10-98e2-f6ca1ead36e4",
   "metadata": {},
   "outputs": [],
   "source": [
    "#using SMOTE\n",
    "models_sm = {\n",
    "    'Decision Tree': DecisionTreeClassifier(random_state = 42),\n",
    "    'Logistic Regression': LogisticRegression(random_state = 42),\n",
    "    'Random Forest': RandomForestClassifier(random_state = 42),\n",
    "    'XGBoost': XGBClassifier(eval_metrics = 'logloss', random_state = 42),\n",
    "    'LightGBM': LGBMClassifier(verbose = -1, random_state = 42),\n",
    "    'Svm': SVC(kernel = 'rbf', C = 1.0, gamma = 'scale')\n",
    "}\n",
    "\n",
    "#Re_Evaluate Model\n",
    "results = {}\n",
    "fig, axes = plt.subplots(2, 3, figsize = (12, 4))\n",
    "for (name, model), ax in zip(models_sm.items(), axes.flatten()):\n",
    "\n",
    "    pipeline = ImbPipeline([\n",
    "        ('preprocessor', preprocessor),\n",
    "        ('smote', SMOTE(random_state = 42)),\n",
    "        ('classifier', model)\n",
    "    ])\n",
    "\n",
    "    #Traing the Model\n",
    "    pipeline.fit(X_train, y_train)\n",
    "\n",
    "    #Predict the Training and Test Score\n",
    "    train_pred = pipeline.predict(X_train)\n",
    "    test_pred = pipeline.predict(X_test)\n",
    "\n",
    "    #Evaluate the Predictions\n",
    "    train_score = accuracy_score(train_pred, y_train)\n",
    "    test_score = accuracy_score(y_test, test_pred)\n",
    "    precision = precision_score(y_test, test_pred)\n",
    "    recall = recall_score(y_test, test_pred)\n",
    "    F1 = f1_score(y_test, test_pred)\n",
    "\n",
    "    #Store the Result\n",
    "    results[name] = {\n",
    "        'Train Accuracy': train_score,\n",
    "        'Test Accuracy':  test_score,\n",
    "        'Preision Score': precision,\n",
    "        'Recall Score': recall,\n",
    "        'F1-Score': F1\n",
    "    }\n",
    "\n",
    "    #Plot Confusion Matrix\n",
    "    cm = confusion_matrix(y_test, test_pred)\n",
    "    disp = ConfusionMatrixDisplay(cm)\n",
    "    disp.plot(ax = ax, cmap = 'Blues')\n",
    "    ax.set_title(name)\n",
    "plt.tight_layout()\n",
    "plt.show()\n",
    "\n",
    "#Print Metrics\n",
    "print('\\n{name} Report:')\n",
    "print(classification_report(y_test, test_pred))\n",
    "metrics_df = pd.DataFrame(results)\n",
    "print('\\nSummary of Model Selection:')\n",
    "print(metrics_df)"
   ]
  },
  {
   "cell_type": "markdown",
   "id": "5e54a23b-0871-4261-a376-c974b87f1fad",
   "metadata": {},
   "source": [
    "Observation:\n",
    "- I observed that by using a balanced class, the models are not biased towards only the majority class\n",
    "- it improves the models ability to detect defaulters.\n",
    "- Decision Tree and Random Forest overfits the train accuracy.\n",
    "- Random forest detected positives with high recall\n",
    "- LightGBM best balance recall as it does not overfit train accuracy and performs well with f1 score"
   ]
  },
  {
   "cell_type": "code",
   "execution_count": null,
   "id": "541f7bf9-1a56-4bad-97b7-d9bae4677fcf",
   "metadata": {},
   "outputs": [],
   "source": [
    "# Using a specific threshold of 0.5 to balance my model \n",
    "models_thres = {\n",
    "    'Decision Tree': DecisionTreeClassifier(random_state = 42),\n",
    "    'Logistic Regression': LogisticRegression(random_state = 42),\n",
    "    'Random Forest': RandomForestClassifier(random_state = 42),\n",
    "    'XGBoost': XGBClassifier(eval_metrics = 'logloss', random_state = 42),\n",
    "    'LightGBM': LGBMClassifier(verbose = -1, random_state = 42),\n",
    "    'Svm': SVC(kernel = 'rbf', C = 1.0, gamma = 'scale', probability = True)\n",
    "}\n",
    "\n",
    "#Re_Evaluate Model\n",
    "results = {}\n",
    "for (name, model), ax in zip(models_thres.items(), axes.flatten()):\n",
    "    pipeline = Pipeline([\n",
    "        ('preprocessor', preprocessor),\n",
    "        ('classifier', model)\n",
    "    ])\n",
    "\n",
    "    #Traing the Model\n",
    "    pipeline.fit(X_train, y_train)\n",
    "\n",
    "y_prob = pipeline.predict_proba(X_test)[:, 1]\n",
    "\n",
    "\n",
    "\n",
    "print('Threshold | Accuracy | Precision | Recall | F1')\n",
    "print('-' * 50)\n",
    "for t in np.arange(0.1, 0.9, 0.05):\n",
    "    y_pred_thresh = (y_prob >= t).astype(int)\n",
    "    test_score = accuracy_score(y_test, y_pred_thresh,)\n",
    "    precision = precision_score(y_test, y_pred_thresh, zero_division = 0)\n",
    "    recall = recall_score(y_test, y_pred_thresh, zero_division = 0)\n",
    "    F1 = f1_score(y_test, y_pred_thresh, zero_division = 0)\n",
    "\n",
    "     #Store the Result\n",
    "    results[name] = {\n",
    "        'Test Accuracy':  test_score,\n",
    "        'Preision Score': precision,\n",
    "        'Recall Score': recall,\n",
    "        'F1-Score': F1\n",
    "    }\n",
    "\n",
    "    print(f'{t:.2f}      |   {test_score:.3f}  | {precision: .3f}    | {recall: .3f} | {F1: .3f}')\n",
    "\n",
    "precision, recall, thresholds = precision_recall_curve(y_test, y_prob)\n",
    "\n",
    "\n",
    "ap_score = average_precision_score(y_test, y_prob)\n",
    "\n",
    "#Print Metrics\n",
    "print('\\n{name} Report:')\n",
    "print(classification_report(y_test, test_pred))\n",
    "metrics_df = pd.DataFrame(results)\n",
    "print('\\nSummary of Model Selection:')\n",
    "print(metrics_df)\n",
    "\n",
    "plt.figure(figsize = (8, 4))\n",
    "plt.plot(recall, precision, marker = '.', label = f'Average Precision (AP={ap_score:.3f})')\n",
    "plt.xlabel('Recall')\n",
    "plt.ylabel('Precision')\n",
    "plt.title('Precision-Recall Curve')\n",
    "plt.legend()\n",
    "plt.grid(True)\n",
    "plt.show()"
   ]
  },
  {
   "cell_type": "markdown",
   "id": "22dcff9c-6b36-4df2-be6a-25135312cc64",
   "metadata": {},
   "source": [
    "INSIGHT: Upon using threshold, the model performed without adjustment as it misclassified loan defaulters"
   ]
  },
  {
   "cell_type": "code",
   "execution_count": null,
   "id": "65350dc2-3505-41ee-9477-3163f9a9256b",
   "metadata": {},
   "outputs": [],
   "source": []
  },
  {
   "cell_type": "markdown",
   "id": "478e1861-431c-4c53-a742-b13d54f796f9",
   "metadata": {},
   "source": [
    "Upon handling imbalance with several methods as seen above, SMOTE method of handling imbalance suits the models and performed better than the others.\n",
    "Therefore, SMOTE method was chosen amongst the others for further evaluation "
   ]
  },
  {
   "cell_type": "markdown",
   "id": "bqwDSz5DeHiQ",
   "metadata": {
    "id": "bqwDSz5DeHiQ"
   },
   "source": [
    "Hyperparameter Tuning : In order to avoid overfitting and underfitting as shown above, hyperparameter tuning is required, thus:"
   ]
  },
  {
   "cell_type": "code",
   "execution_count": null,
   "id": "a4222633-81fd-4aee-9fa8-b68574b3fd3b",
   "metadata": {},
   "outputs": [],
   "source": [
    "# Hyperparameter Tuning on all my Model for the balanced class with SMOTE\n",
    "#Defining Model and Param\n",
    "models = {\n",
    "    'Decision Tree': DecisionTreeClassifier(),\n",
    "    'Logistic Regression': LogisticRegression(max_iter=500),\n",
    "    'Random Forest': RandomForestClassifier(),\n",
    "    'XGBoost': XGBClassifier(eval_metrics = 'logloss'),\n",
    "    'LightGBM': LGBMClassifier(verbose = -1, random_state = 42),\n",
    "    'SVC': SVC(probability = True)\n",
    "}\n",
    "param_grids = {\n",
    "    \"Logistic Regression\": {\n",
    "        'smote__sampling_strategy': [0.5, 1.0],\n",
    "        \"classifier__C\": [ 0.1, 1, 10],\n",
    "        \"classifier__solver\": [\"liblinear\", \"lbfgs\"]\n",
    "    },\n",
    "    \"Decision Tree\": {\n",
    "        \"classifier__max_depth\": [None, 10],\n",
    "        \"smote__sampling_strategy\": [0.5, 1.0],\n",
    "        \"classifier__min_samples_leaf\": [1, 2, 4]\n",
    "    },\n",
    "    \"Random Forest\": {\n",
    "        \"classifier__n_estimators\": [100, 200],\n",
    "        'smote__sampling_strategy': [0.5, 1.0],\n",
    "        \"classifier__max_depth\": [None, 10],\n",
    "        \"classifier__min_samples_split\": [2, 5],\n",
    "        \"classifier__min_samples_leaf\": [1, 2],\n",
    "    },\n",
    "    \"LightGBM\": {\n",
    "        \"classifier__n_estimators\": [100, 200],\n",
    "        'smote__sampling_strategy': [0.5, 1.0],\n",
    "        \"classifier__num_leaves\": [31,63],\n",
    "        \"classifier__learning_rate\": [0.01, 0.1]\n",
    "    },\n",
    "    \"XGBoost\": {\n",
    "        \"classifier__n_estimators\": [100, 200],\n",
    "        'smote__sampling_strategy': [0.5, 1.0],\n",
    "        \"classifier__max_depth\": [3, 6],\n",
    "        \"classifier__learning_rate\": [0.01, 0.1]\n",
    "    },\n",
    "    \"SVC\": {\n",
    "        \"classifier__C\": [1, 10],\n",
    "        'smote__sampling_strategy': [0.5, 1.0],\n",
    "        \"classifier__kernel\": ['linear', 'rbf']\n",
    "    }\n",
    "}\n",
    "\n",
    "\n",
    "#RandomizedSearchCV for each model\n",
    "best_models = {}\n",
    "results = []\n",
    "\n",
    "for name, model in models.items():\n",
    "    print(f'\\nTraining{name}:\\n')\n",
    "    \n",
    "    pipeline = ImbPipeline([\n",
    "        ('preprocessor', preprocessor),\n",
    "        ('smote', SMOTE(random_state = 42)),\n",
    "        ('classifier', model)\n",
    "    ])\n",
    "\n",
    "    search = RandomizedSearchCV(\n",
    "        pipeline,\n",
    "        param_distributions =param_grids[name],\n",
    "        n_iter = 5,\n",
    "        cv=3,\n",
    "        scoring = \"f1_weighted\",\n",
    "        refit=\"recall\",   # pick recall as main refit metric\n",
    "        n_jobs=1,\n",
    "        random_state = 42\n",
    "    )\n",
    "    search.fit(X_train, y_train)\n",
    "    best_models[name] = search.best_estimator_\n",
    "    y_pred = search.best_estimator_.predict(X_test)\n",
    "\n",
    "\n",
    "        # Metrics\n",
    "    Accuracy = accuracy_score(y_test, y_pred),\n",
    "    Precision = precision_score(y_test, y_pred, average=\"weighted\"),\n",
    "    Recall = recall_score(y_test, y_pred, average=\"weighted\"),\n",
    "    F1 = f1_score(y_test, y_pred, average=\"weighted\"),\n",
    "        \n",
    "    \n",
    "    results.append({\n",
    "        'Models': name,\n",
    "        \"Best Params\": search.best_params_,\n",
    "        \"Best CV Score\": search.best_score_,\n",
    "        \"Test Accuracy\": Accuracy,\n",
    "        \"Test Precision\": Precision,\n",
    "        \"Test Recall\": Recall,\n",
    "        \"Test F1 Score\": F1\n",
    "    })\n",
    "\n",
    "#Final Results\n",
    "df_results = pd.DataFrame(results).T\n",
    "print(df_results)"
   ]
  },
  {
   "cell_type": "markdown",
   "id": "3uHDCevt5bKi",
   "metadata": {
    "id": "3uHDCevt5bKi"
   },
   "source": [
    "OBSERVATION:\n",
    "- After the hyperparameter tuning, overfitting and underfitting were reduced and the metrics were balanced.\n",
    "- the best performing models are the Random Forest, XGBoost, logistic regression and lightgbm\n",
    "- best Accuracy = logistic Regression\n",
    "- best Precision = lightgbm\n",
    "- best Recall = logistic regression\n",
    "- best f1 = lightgbm\n",
    "\n",
    "- From the above, logistic regression and lightgbm are the best models. In order to get the actual bet performing model, Cross validation will be performed on the models  "
   ]
  },
  {
   "cell_type": "code",
   "execution_count": null,
   "id": "bfa36161-516c-4056-9fe2-d088cee22392",
   "metadata": {},
   "outputs": [],
   "source": [
    "best_model_1 = best_models['Logistic Regression']\n",
    "best_model_2 = best_models['LightGBM']"
   ]
  },
  {
   "cell_type": "code",
   "execution_count": null,
   "id": "796f3798-8287-46bf-968a-c5583182d46e",
   "metadata": {},
   "outputs": [],
   "source": [
    "# Cross Validation on the two best Model\n",
    "#Defining Model and Param\n",
    "best_models = {\n",
    "    \"Logistic Regression\":  best_model_1,\n",
    "    'LightGBM': best_model_2\n",
    "}\n",
    "   \n",
    "#Cross-validation and tuning\n",
    "cv = StratifiedKFold(n_splits=5, shuffle=True, random_state=42)\n",
    "results = []\n",
    "\n",
    "for name, model in best_models.items():\n",
    "    print(f\"\\n Cross-Validating {name}:\")\n",
    "\n",
    "    scores = cross_validate(\n",
    "        model,\n",
    "        X, y,   #full dataset before train\n",
    "        cv = cv,\n",
    "        scoring = ['accuracy', 'precision_weighted', 'recall_weighted', 'f1_weighted'],\n",
    "        n_jobs = -1,\n",
    "        return_train_score = False\n",
    "    )\n",
    "\n",
    "       # Metrics\n",
    "    metrics = {\n",
    "        'Models': name,\n",
    "        \"Accuracy Mean\": scores['test_accuracy'].mean(),\n",
    "        \"Accuracy Std\": scores['test_accuracy'].std(),\n",
    "        \"Precision Mean\": scores['test_precision_weighted'].mean(),\n",
    "        \"Recall Mean\": scores['test_recall_weighted'].mean(),\n",
    "        \"F1 Mean\": scores['test_f1_weighted'].mean()\n",
    "    }\n",
    "\n",
    "    results.append(metrics) \n",
    "    \n",
    "# Summary table\n",
    "df_cv_results = pd.DataFrame(results).T\n",
    "print(\"\\nCross-Validation Results:\\n\")\n",
    "print(df_cv_results)\n"
   ]
  },
  {
   "cell_type": "markdown",
   "id": "4a58718a-7df6-4b3a-8264-dbd0deda06a8",
   "metadata": {},
   "source": [
    "INSIGHT:\n",
    "- From the recall mean and accuracy mean, Logistic regression has higher value which means that it is better for predicting loan defaults\n",
    "- logistic regression has lower variance(std) which means that it is more stable\n",
    "- lightgbm has higher f1 mean\n",
    "conclusion\n",
    "- since f1 score balances both recall and precision  $FI-SCORE = 2 \\times \\frac{Precision \\times Recall}{Precision + Recall}$\n",
    "- Lightgbm is chosen as the best model for predicting loan default as it also handles nonlinear relationships and interaction in customers that logistic Regression might not do "
   ]
  },
  {
   "cell_type": "raw",
   "id": "cc77714a-c690-427f-b8aa-a652562b834a",
   "metadata": {},
   "source": [
    "TRAINING USING THE BEST MODEL(LIGHTGBM)"
   ]
  },
  {
   "cell_type": "code",
   "execution_count": null,
   "id": "5fa749da-3177-42d9-8fd5-03e18a586227",
   "metadata": {},
   "outputs": [],
   "source": [
    "results = {}\n",
    "best_model = LGBMClassifier(verbose = -1, random_state = 42)\n",
    "\n",
    "pipeline = ImbPipeline([\n",
    "    ('preprocessor', preprocessor),\n",
    "    ('smote', SMOTE(random_state = 42)),\n",
    "    ('classifier', best_model)\n",
    "])\n",
    "\n",
    "#Traing the Model\n",
    "pipeline.fit(X_train, y_train)\n",
    "\n",
    "#Predict the Training and Test Score\n",
    "train_pred = pipeline.predict(X_train)\n",
    "test_pred = pipeline.predict(X_test)\n",
    "\n",
    "#Evaluate the Predictions\n",
    "train_score = accuracy_score(train_pred, y_train)\n",
    "test_score = accuracy_score(y_test, test_pred)\n",
    "precision = precision_score(y_test, test_pred)\n",
    "recall = recall_score(y_test, test_pred)\n",
    "F1 = f1_score(y_test, test_pred)\n",
    "\n",
    "#Store the Result\n",
    "results[name] = {\n",
    "    'Train Accuracy': train_score,\n",
    "    'Test Accuracy':  test_score,\n",
    "    'Preision Score': precision,\n",
    "    'Recall Score': recall,\n",
    "    'F1-Score': F1\n",
    "}\n",
    "\n",
    "#Plot Confusion Matrix\n",
    "fig, ax = plt.subplots()\n",
    "cm = confusion_matrix(y_test, test_pred)\n",
    "disp = ConfusionMatrixDisplay(cm)\n",
    "disp.plot(ax = ax, cmap = 'Blues')\n",
    "ax.set_title(name)\n",
    "plt.tight_layout()\n",
    "plt.show()\n",
    "\n",
    "#Print Metrics\n",
    "print('\\n{name} Report:')\n",
    "print(classification_report(y_test, test_pred))\n",
    "metrics_df = pd.DataFrame(results)\n",
    "print('\\nSummary of Model Selection:')\n",
    "print(metrics_df)"
   ]
  },
  {
   "cell_type": "markdown",
   "id": "7c3fc185-ffb6-45c3-bfab-333a3b8a5c3d",
   "metadata": {},
   "source": [
    "INSIGHT\n",
    "- TN = 74, predicted class 0 correctly\n",
    "- FP = 212, misclassified as 1\n",
    "- FN = 94, misclassified as 0\n",
    "- TP = 931, correctly predicted class 1\n",
    "- From classification report, it predicted 91% of actual defaulters with an accuracy of 77%\n",
    "- it trained more than it tested,91% train accuracy and 77% test accuracy. it shows overfitting, in order to reduce overfitting, I will tune my model"
   ]
  },
  {
   "cell_type": "code",
   "execution_count": null,
   "id": "be3a19ff-ed74-45ef-9885-f6fbf9adf9bf",
   "metadata": {},
   "outputs": [],
   "source": [
    "#hyperparameter Tuning of LightGBM\n",
    "pipeline = ImbPipeline([\n",
    "    ('preprocessor', preprocessor),\n",
    "    ('smote', SMOTE(random_state = 42)),\n",
    "    ('classifier', LGBMClassifier(objective = 'binary', verbose = -1, random_state = 42))\n",
    "])\n",
    "\n",
    "#Randomized search\n",
    "param_dist = {\n",
    "    \"classifier__n_estimators\": randint(100, 200),\n",
    "    \"classifier__max_depth\": randint(3, 6),\n",
    "    \"classifier__learning_rate\": uniform(0.01, 0.1),\n",
    "    \"classifier__num_leaves\": randint(15, 50),\n",
    "    \"classifier__subsample\": uniform(0.6, 0.4),\n",
    "    \"classifier__colsample_bytree\": uniform(0.6, 0.4),\n",
    "    \"classifier__scale_pos_weight\": [1,2,5]\n",
    "}\n",
    "\n",
    "random_search = RandomizedSearchCV(\n",
    "    estimator = pipeline,\n",
    "    param_distributions =param_dist,\n",
    "    n_iter = 10,\n",
    "    cv=3,\n",
    "    scoring = \"f1\",\n",
    "    refit=\"recall\",   # pick recall as main refit metric\n",
    "    n_jobs=-1,\n",
    "    verbose = 1,\n",
    "    random_state = 42\n",
    ")\n",
    "\n",
    "#fit\n",
    "random_search.fit(X_train, y_train)\n",
    "\n",
    "#Results\n",
    "print('Best Parameters:', random_search.best_params_)\n",
    "print('Best Score:', random_search.best_score_)\n"
   ]
  },
  {
   "cell_type": "code",
   "execution_count": null,
   "id": "93fe2b25-e232-41b3-a55c-e2eb778a7c2e",
   "metadata": {},
   "outputs": [],
   "source": [
    "#best tuned\n",
    "best_model = random_search.best_estimator_\n",
    "best_model"
   ]
  },
  {
   "cell_type": "raw",
   "id": "c5cb969a-8eb6-4537-a9a9-16233760ca28",
   "metadata": {
    "collapsed": true,
    "jupyter": {
     "outputs_hidden": true
    }
   },
   "source": [
    "#Evaluation on Test Set\n",
    "y_pred =best_model.predict(X_test)\n",
    "\n",
    "# plot confusion matrix\n",
    "cm = confusion_matrix(y_test, y_pred)\n",
    "\n",
    "disp = ConfusionMatrixDisplay(confusion_matrix=cm, display_labels=best_model.classes_)\n",
    "disp.plot(cmap=\"Blues\", values_format=\"d\")\n",
    "\n",
    "plt.title(\"Confusion Matrix\")\n",
    "plt.show()\n",
    "\n",
    "print(\"\\nClassification Report:\\n\", classification_report(y_test, y_pred))\n",
    "print(\"\\nConfusion Matrix:\\n\", confusion_matrix(y_test, y_pred))\n",
    "\n"
   ]
  },
  {
   "cell_type": "code",
   "execution_count": null,
   "id": "c6627c60-d1f6-44a9-b5b1-f19331c552ed",
   "metadata": {},
   "outputs": [],
   "source": [
    "#Check probability based metrics\n",
    "\n",
    "y_pred_proba =best_model.predict_proba(X_test)[:, 1]\n",
    "print('ROC-AUC:', roc_auc_score(y_test, y_pred_proba))\n",
    "\n",
    "#plot\n",
    "fpr, tpr, threshold = roc_curve(y_test, y_pred_proba)\n",
    "roc_auc =  roc_auc_score(y_test, y_pred_proba)\n",
    "\n",
    "plt.figure(figsize = (12, 4))\n",
    "plt.plot(fpr, tpr, color = 'blue', label = f'roc curve (AUC = {roc_auc:.2f})')\n",
    "plt.plot([0, 1], [0, 1], color = 'grey', linestyle= '--')\n",
    "plt.xlabel('False Positive Rate')\n",
    "plt.ylabel('True Positive Rate')\n",
    "plt.title('ROC Curve - LightGBM(Tuned)')\n",
    "plt.legend(loc = 'lower right')\n",
    "plt.show()"
   ]
  },
  {
   "cell_type": "markdown",
   "id": "xOpUjUz_M479",
   "metadata": {
    "id": "xOpUjUz_M479"
   },
   "source": [
    "FEATURE IMPORTANCE"
   ]
  },
  {
   "cell_type": "code",
   "execution_count": null,
   "id": "c12ce983-5057-4373-b8c6-884963946373",
   "metadata": {},
   "outputs": [],
   "source": [
    "lgbm_model = best_model.named_steps['classifier']\n",
    "feature_names = best_model.named_steps['preprocessor'].get_feature_names_out\n",
    "\n",
    "feature_names = X_train.columns\n",
    "feature_importances = lgbm_model.feature_importances_\n",
    "sort = np.argsort(feature_importances)[::-1]\n",
    "sort\n",
    "plt.figure(figsize = (12, 4))\n",
    "plt.bar(range(len(feature_importances)),feature_importances[sort])\n",
    "\n",
    "plt.show()"
   ]
  },
  {
   "cell_type": "markdown",
   "id": "f017517c-5a17-4882-a895-6b22d275e648",
   "metadata": {},
   "source": [
    "SAVE THE MODEL"
   ]
  },
  {
   "cell_type": "code",
   "execution_count": null,
   "id": "6bbff572-eead-471a-91ca-c21877b157d6",
   "metadata": {},
   "outputs": [],
   "source": [
    "#Save the model\n",
    "joblib.dump(best_model, \"loan_default_model.pkl\")"
   ]
  },
  {
   "cell_type": "code",
   "execution_count": null,
   "id": "8a6907e5-7124-4eea-8e67-666734787dbc",
   "metadata": {},
   "outputs": [],
   "source": [
    "#save to csv\n",
    "best_model.to_csv('loan_prediction.csv')"
   ]
  },
  {
   "cell_type": "markdown",
   "id": "9b4d44ae-1605-4cda-812d-4421ad62953e",
   "metadata": {},
   "source": [
    "Test the Model"
   ]
  },
  {
   "cell_type": "code",
   "execution_count": 101,
   "id": "d6e3a1c0-c88f-47f1-a8e3-e88d08929895",
   "metadata": {},
   "outputs": [],
   "source": [
    "import pandas as pd\n",
    "import numpy as np\n",
    "import joblib"
   ]
  },
  {
   "cell_type": "code",
   "execution_count": 102,
   "id": "a9dab94c-7fec-4f67-a787-d90985bcb9b1",
   "metadata": {},
   "outputs": [],
   "source": [
    "model = joblib.load(\"loan_default_model.pkl\")"
   ]
  },
  {
   "cell_type": "code",
   "execution_count": 103,
   "id": "57f88961-bfef-42b4-afb1-bc394658b9ab",
   "metadata": {},
   "outputs": [
    {
     "data": {
      "text/html": [
       "<style>#sk-container-id-3 {\n",
       "  /* Definition of color scheme common for light and dark mode */\n",
       "  --sklearn-color-text: #000;\n",
       "  --sklearn-color-text-muted: #666;\n",
       "  --sklearn-color-line: gray;\n",
       "  /* Definition of color scheme for unfitted estimators */\n",
       "  --sklearn-color-unfitted-level-0: #fff5e6;\n",
       "  --sklearn-color-unfitted-level-1: #f6e4d2;\n",
       "  --sklearn-color-unfitted-level-2: #ffe0b3;\n",
       "  --sklearn-color-unfitted-level-3: chocolate;\n",
       "  /* Definition of color scheme for fitted estimators */\n",
       "  --sklearn-color-fitted-level-0: #f0f8ff;\n",
       "  --sklearn-color-fitted-level-1: #d4ebff;\n",
       "  --sklearn-color-fitted-level-2: #b3dbfd;\n",
       "  --sklearn-color-fitted-level-3: cornflowerblue;\n",
       "\n",
       "  /* Specific color for light theme */\n",
       "  --sklearn-color-text-on-default-background: var(--sg-text-color, var(--theme-code-foreground, var(--jp-content-font-color1, black)));\n",
       "  --sklearn-color-background: var(--sg-background-color, var(--theme-background, var(--jp-layout-color0, white)));\n",
       "  --sklearn-color-border-box: var(--sg-text-color, var(--theme-code-foreground, var(--jp-content-font-color1, black)));\n",
       "  --sklearn-color-icon: #696969;\n",
       "\n",
       "  @media (prefers-color-scheme: dark) {\n",
       "    /* Redefinition of color scheme for dark theme */\n",
       "    --sklearn-color-text-on-default-background: var(--sg-text-color, var(--theme-code-foreground, var(--jp-content-font-color1, white)));\n",
       "    --sklearn-color-background: var(--sg-background-color, var(--theme-background, var(--jp-layout-color0, #111)));\n",
       "    --sklearn-color-border-box: var(--sg-text-color, var(--theme-code-foreground, var(--jp-content-font-color1, white)));\n",
       "    --sklearn-color-icon: #878787;\n",
       "  }\n",
       "}\n",
       "\n",
       "#sk-container-id-3 {\n",
       "  color: var(--sklearn-color-text);\n",
       "}\n",
       "\n",
       "#sk-container-id-3 pre {\n",
       "  padding: 0;\n",
       "}\n",
       "\n",
       "#sk-container-id-3 input.sk-hidden--visually {\n",
       "  border: 0;\n",
       "  clip: rect(1px 1px 1px 1px);\n",
       "  clip: rect(1px, 1px, 1px, 1px);\n",
       "  height: 1px;\n",
       "  margin: -1px;\n",
       "  overflow: hidden;\n",
       "  padding: 0;\n",
       "  position: absolute;\n",
       "  width: 1px;\n",
       "}\n",
       "\n",
       "#sk-container-id-3 div.sk-dashed-wrapped {\n",
       "  border: 1px dashed var(--sklearn-color-line);\n",
       "  margin: 0 0.4em 0.5em 0.4em;\n",
       "  box-sizing: border-box;\n",
       "  padding-bottom: 0.4em;\n",
       "  background-color: var(--sklearn-color-background);\n",
       "}\n",
       "\n",
       "#sk-container-id-3 div.sk-container {\n",
       "  /* jupyter's `normalize.less` sets `[hidden] { display: none; }`\n",
       "     but bootstrap.min.css set `[hidden] { display: none !important; }`\n",
       "     so we also need the `!important` here to be able to override the\n",
       "     default hidden behavior on the sphinx rendered scikit-learn.org.\n",
       "     See: https://github.com/scikit-learn/scikit-learn/issues/21755 */\n",
       "  display: inline-block !important;\n",
       "  position: relative;\n",
       "}\n",
       "\n",
       "#sk-container-id-3 div.sk-text-repr-fallback {\n",
       "  display: none;\n",
       "}\n",
       "\n",
       "div.sk-parallel-item,\n",
       "div.sk-serial,\n",
       "div.sk-item {\n",
       "  /* draw centered vertical line to link estimators */\n",
       "  background-image: linear-gradient(var(--sklearn-color-text-on-default-background), var(--sklearn-color-text-on-default-background));\n",
       "  background-size: 2px 100%;\n",
       "  background-repeat: no-repeat;\n",
       "  background-position: center center;\n",
       "}\n",
       "\n",
       "/* Parallel-specific style estimator block */\n",
       "\n",
       "#sk-container-id-3 div.sk-parallel-item::after {\n",
       "  content: \"\";\n",
       "  width: 100%;\n",
       "  border-bottom: 2px solid var(--sklearn-color-text-on-default-background);\n",
       "  flex-grow: 1;\n",
       "}\n",
       "\n",
       "#sk-container-id-3 div.sk-parallel {\n",
       "  display: flex;\n",
       "  align-items: stretch;\n",
       "  justify-content: center;\n",
       "  background-color: var(--sklearn-color-background);\n",
       "  position: relative;\n",
       "}\n",
       "\n",
       "#sk-container-id-3 div.sk-parallel-item {\n",
       "  display: flex;\n",
       "  flex-direction: column;\n",
       "}\n",
       "\n",
       "#sk-container-id-3 div.sk-parallel-item:first-child::after {\n",
       "  align-self: flex-end;\n",
       "  width: 50%;\n",
       "}\n",
       "\n",
       "#sk-container-id-3 div.sk-parallel-item:last-child::after {\n",
       "  align-self: flex-start;\n",
       "  width: 50%;\n",
       "}\n",
       "\n",
       "#sk-container-id-3 div.sk-parallel-item:only-child::after {\n",
       "  width: 0;\n",
       "}\n",
       "\n",
       "/* Serial-specific style estimator block */\n",
       "\n",
       "#sk-container-id-3 div.sk-serial {\n",
       "  display: flex;\n",
       "  flex-direction: column;\n",
       "  align-items: center;\n",
       "  background-color: var(--sklearn-color-background);\n",
       "  padding-right: 1em;\n",
       "  padding-left: 1em;\n",
       "}\n",
       "\n",
       "\n",
       "/* Toggleable style: style used for estimator/Pipeline/ColumnTransformer box that is\n",
       "clickable and can be expanded/collapsed.\n",
       "- Pipeline and ColumnTransformer use this feature and define the default style\n",
       "- Estimators will overwrite some part of the style using the `sk-estimator` class\n",
       "*/\n",
       "\n",
       "/* Pipeline and ColumnTransformer style (default) */\n",
       "\n",
       "#sk-container-id-3 div.sk-toggleable {\n",
       "  /* Default theme specific background. It is overwritten whether we have a\n",
       "  specific estimator or a Pipeline/ColumnTransformer */\n",
       "  background-color: var(--sklearn-color-background);\n",
       "}\n",
       "\n",
       "/* Toggleable label */\n",
       "#sk-container-id-3 label.sk-toggleable__label {\n",
       "  cursor: pointer;\n",
       "  display: flex;\n",
       "  width: 100%;\n",
       "  margin-bottom: 0;\n",
       "  padding: 0.5em;\n",
       "  box-sizing: border-box;\n",
       "  text-align: center;\n",
       "  align-items: start;\n",
       "  justify-content: space-between;\n",
       "  gap: 0.5em;\n",
       "}\n",
       "\n",
       "#sk-container-id-3 label.sk-toggleable__label .caption {\n",
       "  font-size: 0.6rem;\n",
       "  font-weight: lighter;\n",
       "  color: var(--sklearn-color-text-muted);\n",
       "}\n",
       "\n",
       "#sk-container-id-3 label.sk-toggleable__label-arrow:before {\n",
       "  /* Arrow on the left of the label */\n",
       "  content: \"▸\";\n",
       "  float: left;\n",
       "  margin-right: 0.25em;\n",
       "  color: var(--sklearn-color-icon);\n",
       "}\n",
       "\n",
       "#sk-container-id-3 label.sk-toggleable__label-arrow:hover:before {\n",
       "  color: var(--sklearn-color-text);\n",
       "}\n",
       "\n",
       "/* Toggleable content - dropdown */\n",
       "\n",
       "#sk-container-id-3 div.sk-toggleable__content {\n",
       "  max-height: 0;\n",
       "  max-width: 0;\n",
       "  overflow: hidden;\n",
       "  text-align: left;\n",
       "  /* unfitted */\n",
       "  background-color: var(--sklearn-color-unfitted-level-0);\n",
       "}\n",
       "\n",
       "#sk-container-id-3 div.sk-toggleable__content.fitted {\n",
       "  /* fitted */\n",
       "  background-color: var(--sklearn-color-fitted-level-0);\n",
       "}\n",
       "\n",
       "#sk-container-id-3 div.sk-toggleable__content pre {\n",
       "  margin: 0.2em;\n",
       "  border-radius: 0.25em;\n",
       "  color: var(--sklearn-color-text);\n",
       "  /* unfitted */\n",
       "  background-color: var(--sklearn-color-unfitted-level-0);\n",
       "}\n",
       "\n",
       "#sk-container-id-3 div.sk-toggleable__content.fitted pre {\n",
       "  /* unfitted */\n",
       "  background-color: var(--sklearn-color-fitted-level-0);\n",
       "}\n",
       "\n",
       "#sk-container-id-3 input.sk-toggleable__control:checked~div.sk-toggleable__content {\n",
       "  /* Expand drop-down */\n",
       "  max-height: 200px;\n",
       "  max-width: 100%;\n",
       "  overflow: auto;\n",
       "}\n",
       "\n",
       "#sk-container-id-3 input.sk-toggleable__control:checked~label.sk-toggleable__label-arrow:before {\n",
       "  content: \"▾\";\n",
       "}\n",
       "\n",
       "/* Pipeline/ColumnTransformer-specific style */\n",
       "\n",
       "#sk-container-id-3 div.sk-label input.sk-toggleable__control:checked~label.sk-toggleable__label {\n",
       "  color: var(--sklearn-color-text);\n",
       "  background-color: var(--sklearn-color-unfitted-level-2);\n",
       "}\n",
       "\n",
       "#sk-container-id-3 div.sk-label.fitted input.sk-toggleable__control:checked~label.sk-toggleable__label {\n",
       "  background-color: var(--sklearn-color-fitted-level-2);\n",
       "}\n",
       "\n",
       "/* Estimator-specific style */\n",
       "\n",
       "/* Colorize estimator box */\n",
       "#sk-container-id-3 div.sk-estimator input.sk-toggleable__control:checked~label.sk-toggleable__label {\n",
       "  /* unfitted */\n",
       "  background-color: var(--sklearn-color-unfitted-level-2);\n",
       "}\n",
       "\n",
       "#sk-container-id-3 div.sk-estimator.fitted input.sk-toggleable__control:checked~label.sk-toggleable__label {\n",
       "  /* fitted */\n",
       "  background-color: var(--sklearn-color-fitted-level-2);\n",
       "}\n",
       "\n",
       "#sk-container-id-3 div.sk-label label.sk-toggleable__label,\n",
       "#sk-container-id-3 div.sk-label label {\n",
       "  /* The background is the default theme color */\n",
       "  color: var(--sklearn-color-text-on-default-background);\n",
       "}\n",
       "\n",
       "/* On hover, darken the color of the background */\n",
       "#sk-container-id-3 div.sk-label:hover label.sk-toggleable__label {\n",
       "  color: var(--sklearn-color-text);\n",
       "  background-color: var(--sklearn-color-unfitted-level-2);\n",
       "}\n",
       "\n",
       "/* Label box, darken color on hover, fitted */\n",
       "#sk-container-id-3 div.sk-label.fitted:hover label.sk-toggleable__label.fitted {\n",
       "  color: var(--sklearn-color-text);\n",
       "  background-color: var(--sklearn-color-fitted-level-2);\n",
       "}\n",
       "\n",
       "/* Estimator label */\n",
       "\n",
       "#sk-container-id-3 div.sk-label label {\n",
       "  font-family: monospace;\n",
       "  font-weight: bold;\n",
       "  display: inline-block;\n",
       "  line-height: 1.2em;\n",
       "}\n",
       "\n",
       "#sk-container-id-3 div.sk-label-container {\n",
       "  text-align: center;\n",
       "}\n",
       "\n",
       "/* Estimator-specific */\n",
       "#sk-container-id-3 div.sk-estimator {\n",
       "  font-family: monospace;\n",
       "  border: 1px dotted var(--sklearn-color-border-box);\n",
       "  border-radius: 0.25em;\n",
       "  box-sizing: border-box;\n",
       "  margin-bottom: 0.5em;\n",
       "  /* unfitted */\n",
       "  background-color: var(--sklearn-color-unfitted-level-0);\n",
       "}\n",
       "\n",
       "#sk-container-id-3 div.sk-estimator.fitted {\n",
       "  /* fitted */\n",
       "  background-color: var(--sklearn-color-fitted-level-0);\n",
       "}\n",
       "\n",
       "/* on hover */\n",
       "#sk-container-id-3 div.sk-estimator:hover {\n",
       "  /* unfitted */\n",
       "  background-color: var(--sklearn-color-unfitted-level-2);\n",
       "}\n",
       "\n",
       "#sk-container-id-3 div.sk-estimator.fitted:hover {\n",
       "  /* fitted */\n",
       "  background-color: var(--sklearn-color-fitted-level-2);\n",
       "}\n",
       "\n",
       "/* Specification for estimator info (e.g. \"i\" and \"?\") */\n",
       "\n",
       "/* Common style for \"i\" and \"?\" */\n",
       "\n",
       ".sk-estimator-doc-link,\n",
       "a:link.sk-estimator-doc-link,\n",
       "a:visited.sk-estimator-doc-link {\n",
       "  float: right;\n",
       "  font-size: smaller;\n",
       "  line-height: 1em;\n",
       "  font-family: monospace;\n",
       "  background-color: var(--sklearn-color-background);\n",
       "  border-radius: 1em;\n",
       "  height: 1em;\n",
       "  width: 1em;\n",
       "  text-decoration: none !important;\n",
       "  margin-left: 0.5em;\n",
       "  text-align: center;\n",
       "  /* unfitted */\n",
       "  border: var(--sklearn-color-unfitted-level-1) 1pt solid;\n",
       "  color: var(--sklearn-color-unfitted-level-1);\n",
       "}\n",
       "\n",
       ".sk-estimator-doc-link.fitted,\n",
       "a:link.sk-estimator-doc-link.fitted,\n",
       "a:visited.sk-estimator-doc-link.fitted {\n",
       "  /* fitted */\n",
       "  border: var(--sklearn-color-fitted-level-1) 1pt solid;\n",
       "  color: var(--sklearn-color-fitted-level-1);\n",
       "}\n",
       "\n",
       "/* On hover */\n",
       "div.sk-estimator:hover .sk-estimator-doc-link:hover,\n",
       ".sk-estimator-doc-link:hover,\n",
       "div.sk-label-container:hover .sk-estimator-doc-link:hover,\n",
       ".sk-estimator-doc-link:hover {\n",
       "  /* unfitted */\n",
       "  background-color: var(--sklearn-color-unfitted-level-3);\n",
       "  color: var(--sklearn-color-background);\n",
       "  text-decoration: none;\n",
       "}\n",
       "\n",
       "div.sk-estimator.fitted:hover .sk-estimator-doc-link.fitted:hover,\n",
       ".sk-estimator-doc-link.fitted:hover,\n",
       "div.sk-label-container:hover .sk-estimator-doc-link.fitted:hover,\n",
       ".sk-estimator-doc-link.fitted:hover {\n",
       "  /* fitted */\n",
       "  background-color: var(--sklearn-color-fitted-level-3);\n",
       "  color: var(--sklearn-color-background);\n",
       "  text-decoration: none;\n",
       "}\n",
       "\n",
       "/* Span, style for the box shown on hovering the info icon */\n",
       ".sk-estimator-doc-link span {\n",
       "  display: none;\n",
       "  z-index: 9999;\n",
       "  position: relative;\n",
       "  font-weight: normal;\n",
       "  right: .2ex;\n",
       "  padding: .5ex;\n",
       "  margin: .5ex;\n",
       "  width: min-content;\n",
       "  min-width: 20ex;\n",
       "  max-width: 50ex;\n",
       "  color: var(--sklearn-color-text);\n",
       "  box-shadow: 2pt 2pt 4pt #999;\n",
       "  /* unfitted */\n",
       "  background: var(--sklearn-color-unfitted-level-0);\n",
       "  border: .5pt solid var(--sklearn-color-unfitted-level-3);\n",
       "}\n",
       "\n",
       ".sk-estimator-doc-link.fitted span {\n",
       "  /* fitted */\n",
       "  background: var(--sklearn-color-fitted-level-0);\n",
       "  border: var(--sklearn-color-fitted-level-3);\n",
       "}\n",
       "\n",
       ".sk-estimator-doc-link:hover span {\n",
       "  display: block;\n",
       "}\n",
       "\n",
       "/* \"?\"-specific style due to the `<a>` HTML tag */\n",
       "\n",
       "#sk-container-id-3 a.estimator_doc_link {\n",
       "  float: right;\n",
       "  font-size: 1rem;\n",
       "  line-height: 1em;\n",
       "  font-family: monospace;\n",
       "  background-color: var(--sklearn-color-background);\n",
       "  border-radius: 1rem;\n",
       "  height: 1rem;\n",
       "  width: 1rem;\n",
       "  text-decoration: none;\n",
       "  /* unfitted */\n",
       "  color: var(--sklearn-color-unfitted-level-1);\n",
       "  border: var(--sklearn-color-unfitted-level-1) 1pt solid;\n",
       "}\n",
       "\n",
       "#sk-container-id-3 a.estimator_doc_link.fitted {\n",
       "  /* fitted */\n",
       "  border: var(--sklearn-color-fitted-level-1) 1pt solid;\n",
       "  color: var(--sklearn-color-fitted-level-1);\n",
       "}\n",
       "\n",
       "/* On hover */\n",
       "#sk-container-id-3 a.estimator_doc_link:hover {\n",
       "  /* unfitted */\n",
       "  background-color: var(--sklearn-color-unfitted-level-3);\n",
       "  color: var(--sklearn-color-background);\n",
       "  text-decoration: none;\n",
       "}\n",
       "\n",
       "#sk-container-id-3 a.estimator_doc_link.fitted:hover {\n",
       "  /* fitted */\n",
       "  background-color: var(--sklearn-color-fitted-level-3);\n",
       "}\n",
       "</style><div id=\"sk-container-id-3\" class=\"sk-top-container\"><div class=\"sk-text-repr-fallback\"><pre>Pipeline(steps=[(&#x27;preprocessor&#x27;,\n",
       "                 ColumnTransformer(transformers=[(&#x27;num&#x27;,\n",
       "                                                  Pipeline(steps=[(&#x27;scaler&#x27;,\n",
       "                                                                   StandardScaler())]),\n",
       "                                                  [&#x27;loannumber&#x27;, &#x27;loanamount&#x27;,\n",
       "                                                   &#x27;On_Time_Repayment&#x27;,\n",
       "                                                   &#x27;Late_Time_Repayment&#x27;, &#x27;age&#x27;,\n",
       "                                                   &#x27;interest&#x27;,\n",
       "                                                   &#x27;approveddate_year&#x27;,\n",
       "                                                   &#x27;approveddate_month&#x27;,\n",
       "                                                   &#x27;approveddate_day&#x27;,\n",
       "                                                   &#x27;approveddate_hour&#x27;,\n",
       "                                                   &#x27;approveddate_minute&#x27;,\n",
       "                                                   &#x27;creationdate_year&#x27;,\n",
       "                                                   &#x27;creationdate_month&#x27;,\n",
       "                                                   &#x27;cre...\n",
       "                                                   &#x27;employment_status_clients&#x27;,\n",
       "                                                   &#x27;termdays_cat&#x27;])])),\n",
       "                (&#x27;smote&#x27;, SMOTE(random_state=42)),\n",
       "                (&#x27;classifier&#x27;,\n",
       "                 LGBMClassifier(colsample_bytree=np.float64(0.749816047538945),\n",
       "                                learning_rate=np.float64(0.10507143064099161),\n",
       "                                max_depth=5, n_estimators=171, num_leaves=35,\n",
       "                                objective=&#x27;binary&#x27;, random_state=42,\n",
       "                                scale_pos_weight=5,\n",
       "                                subsample=np.float64(0.7783331011414365),\n",
       "                                verbose=-1))])</pre><b>In a Jupyter environment, please rerun this cell to show the HTML representation or trust the notebook. <br />On GitHub, the HTML representation is unable to render, please try loading this page with nbviewer.org.</b></div><div class=\"sk-container\" hidden><div class=\"sk-item sk-dashed-wrapped\"><div class=\"sk-label-container\"><div class=\"sk-label fitted sk-toggleable\"><input class=\"sk-toggleable__control sk-hidden--visually\" id=\"sk-estimator-id-14\" type=\"checkbox\" ><label for=\"sk-estimator-id-14\" class=\"sk-toggleable__label fitted sk-toggleable__label-arrow\"><div><div>Pipeline</div></div><div><span class=\"sk-estimator-doc-link fitted\">i<span>Fitted</span></span></div></label><div class=\"sk-toggleable__content fitted\"><pre>Pipeline(steps=[(&#x27;preprocessor&#x27;,\n",
       "                 ColumnTransformer(transformers=[(&#x27;num&#x27;,\n",
       "                                                  Pipeline(steps=[(&#x27;scaler&#x27;,\n",
       "                                                                   StandardScaler())]),\n",
       "                                                  [&#x27;loannumber&#x27;, &#x27;loanamount&#x27;,\n",
       "                                                   &#x27;On_Time_Repayment&#x27;,\n",
       "                                                   &#x27;Late_Time_Repayment&#x27;, &#x27;age&#x27;,\n",
       "                                                   &#x27;interest&#x27;,\n",
       "                                                   &#x27;approveddate_year&#x27;,\n",
       "                                                   &#x27;approveddate_month&#x27;,\n",
       "                                                   &#x27;approveddate_day&#x27;,\n",
       "                                                   &#x27;approveddate_hour&#x27;,\n",
       "                                                   &#x27;approveddate_minute&#x27;,\n",
       "                                                   &#x27;creationdate_year&#x27;,\n",
       "                                                   &#x27;creationdate_month&#x27;,\n",
       "                                                   &#x27;cre...\n",
       "                                                   &#x27;employment_status_clients&#x27;,\n",
       "                                                   &#x27;termdays_cat&#x27;])])),\n",
       "                (&#x27;smote&#x27;, SMOTE(random_state=42)),\n",
       "                (&#x27;classifier&#x27;,\n",
       "                 LGBMClassifier(colsample_bytree=np.float64(0.749816047538945),\n",
       "                                learning_rate=np.float64(0.10507143064099161),\n",
       "                                max_depth=5, n_estimators=171, num_leaves=35,\n",
       "                                objective=&#x27;binary&#x27;, random_state=42,\n",
       "                                scale_pos_weight=5,\n",
       "                                subsample=np.float64(0.7783331011414365),\n",
       "                                verbose=-1))])</pre></div> </div></div><div class=\"sk-serial\"><div class=\"sk-item sk-dashed-wrapped\"><div class=\"sk-label-container\"><div class=\"sk-label fitted sk-toggleable\"><input class=\"sk-toggleable__control sk-hidden--visually\" id=\"sk-estimator-id-15\" type=\"checkbox\" ><label for=\"sk-estimator-id-15\" class=\"sk-toggleable__label fitted sk-toggleable__label-arrow\"><div><div>preprocessor: ColumnTransformer</div></div><div><a class=\"sk-estimator-doc-link fitted\" rel=\"noreferrer\" target=\"_blank\" href=\"https://scikit-learn.org/1.6/modules/generated/sklearn.compose.ColumnTransformer.html\">?<span>Documentation for preprocessor: ColumnTransformer</span></a></div></label><div class=\"sk-toggleable__content fitted\"><pre>ColumnTransformer(transformers=[(&#x27;num&#x27;,\n",
       "                                 Pipeline(steps=[(&#x27;scaler&#x27;, StandardScaler())]),\n",
       "                                 [&#x27;loannumber&#x27;, &#x27;loanamount&#x27;,\n",
       "                                  &#x27;On_Time_Repayment&#x27;, &#x27;Late_Time_Repayment&#x27;,\n",
       "                                  &#x27;age&#x27;, &#x27;interest&#x27;, &#x27;approveddate_year&#x27;,\n",
       "                                  &#x27;approveddate_month&#x27;, &#x27;approveddate_day&#x27;,\n",
       "                                  &#x27;approveddate_hour&#x27;, &#x27;approveddate_minute&#x27;,\n",
       "                                  &#x27;creationdate_year&#x27;, &#x27;creationdate_month&#x27;,\n",
       "                                  &#x27;creationdate_day&#x27;, &#x27;creationdate_hour&#x27;,\n",
       "                                  &#x27;creationdate_minute&#x27;]),\n",
       "                                (&#x27;cat&#x27;,\n",
       "                                 Pipeline(steps=[(&#x27;encoder&#x27;,\n",
       "                                                  OneHotEncoder(handle_unknown=&#x27;ignore&#x27;,\n",
       "                                                                sparse_output=False))]),\n",
       "                                 [&#x27;bank_account_type&#x27;, &#x27;bank_name_clients&#x27;,\n",
       "                                  &#x27;employment_status_clients&#x27;,\n",
       "                                  &#x27;termdays_cat&#x27;])])</pre></div> </div></div><div class=\"sk-parallel\"><div class=\"sk-parallel-item\"><div class=\"sk-item\"><div class=\"sk-label-container\"><div class=\"sk-label fitted sk-toggleable\"><input class=\"sk-toggleable__control sk-hidden--visually\" id=\"sk-estimator-id-16\" type=\"checkbox\" ><label for=\"sk-estimator-id-16\" class=\"sk-toggleable__label fitted sk-toggleable__label-arrow\"><div><div>num</div></div></label><div class=\"sk-toggleable__content fitted\"><pre>[&#x27;loannumber&#x27;, &#x27;loanamount&#x27;, &#x27;On_Time_Repayment&#x27;, &#x27;Late_Time_Repayment&#x27;, &#x27;age&#x27;, &#x27;interest&#x27;, &#x27;approveddate_year&#x27;, &#x27;approveddate_month&#x27;, &#x27;approveddate_day&#x27;, &#x27;approveddate_hour&#x27;, &#x27;approveddate_minute&#x27;, &#x27;creationdate_year&#x27;, &#x27;creationdate_month&#x27;, &#x27;creationdate_day&#x27;, &#x27;creationdate_hour&#x27;, &#x27;creationdate_minute&#x27;]</pre></div> </div></div><div class=\"sk-serial\"><div class=\"sk-item\"><div class=\"sk-serial\"><div class=\"sk-item\"><div class=\"sk-estimator fitted sk-toggleable\"><input class=\"sk-toggleable__control sk-hidden--visually\" id=\"sk-estimator-id-17\" type=\"checkbox\" ><label for=\"sk-estimator-id-17\" class=\"sk-toggleable__label fitted sk-toggleable__label-arrow\"><div><div>StandardScaler</div></div><div><a class=\"sk-estimator-doc-link fitted\" rel=\"noreferrer\" target=\"_blank\" href=\"https://scikit-learn.org/1.6/modules/generated/sklearn.preprocessing.StandardScaler.html\">?<span>Documentation for StandardScaler</span></a></div></label><div class=\"sk-toggleable__content fitted\"><pre>StandardScaler()</pre></div> </div></div></div></div></div></div></div><div class=\"sk-parallel-item\"><div class=\"sk-item\"><div class=\"sk-label-container\"><div class=\"sk-label fitted sk-toggleable\"><input class=\"sk-toggleable__control sk-hidden--visually\" id=\"sk-estimator-id-18\" type=\"checkbox\" ><label for=\"sk-estimator-id-18\" class=\"sk-toggleable__label fitted sk-toggleable__label-arrow\"><div><div>cat</div></div></label><div class=\"sk-toggleable__content fitted\"><pre>[&#x27;bank_account_type&#x27;, &#x27;bank_name_clients&#x27;, &#x27;employment_status_clients&#x27;, &#x27;termdays_cat&#x27;]</pre></div> </div></div><div class=\"sk-serial\"><div class=\"sk-item\"><div class=\"sk-serial\"><div class=\"sk-item\"><div class=\"sk-estimator fitted sk-toggleable\"><input class=\"sk-toggleable__control sk-hidden--visually\" id=\"sk-estimator-id-19\" type=\"checkbox\" ><label for=\"sk-estimator-id-19\" class=\"sk-toggleable__label fitted sk-toggleable__label-arrow\"><div><div>OneHotEncoder</div></div><div><a class=\"sk-estimator-doc-link fitted\" rel=\"noreferrer\" target=\"_blank\" href=\"https://scikit-learn.org/1.6/modules/generated/sklearn.preprocessing.OneHotEncoder.html\">?<span>Documentation for OneHotEncoder</span></a></div></label><div class=\"sk-toggleable__content fitted\"><pre>OneHotEncoder(handle_unknown=&#x27;ignore&#x27;, sparse_output=False)</pre></div> </div></div></div></div></div></div></div></div></div><div class=\"sk-item\"><div class=\"sk-estimator fitted sk-toggleable\"><input class=\"sk-toggleable__control sk-hidden--visually\" id=\"sk-estimator-id-20\" type=\"checkbox\" ><label for=\"sk-estimator-id-20\" class=\"sk-toggleable__label fitted sk-toggleable__label-arrow\"><div><div>SMOTE</div></div></label><div class=\"sk-toggleable__content fitted\"><pre>SMOTE(random_state=42)</pre></div> </div></div><div class=\"sk-item\"><div class=\"sk-estimator fitted sk-toggleable\"><input class=\"sk-toggleable__control sk-hidden--visually\" id=\"sk-estimator-id-21\" type=\"checkbox\" ><label for=\"sk-estimator-id-21\" class=\"sk-toggleable__label fitted sk-toggleable__label-arrow\"><div><div>LGBMClassifier</div></div></label><div class=\"sk-toggleable__content fitted\"><pre>LGBMClassifier(colsample_bytree=np.float64(0.749816047538945),\n",
       "               learning_rate=np.float64(0.10507143064099161), max_depth=5,\n",
       "               n_estimators=171, num_leaves=35, objective=&#x27;binary&#x27;,\n",
       "               random_state=42, scale_pos_weight=5,\n",
       "               subsample=np.float64(0.7783331011414365), verbose=-1)</pre></div> </div></div></div></div></div></div>"
      ],
      "text/plain": [
       "Pipeline(steps=[('preprocessor',\n",
       "                 ColumnTransformer(transformers=[('num',\n",
       "                                                  Pipeline(steps=[('scaler',\n",
       "                                                                   StandardScaler())]),\n",
       "                                                  ['loannumber', 'loanamount',\n",
       "                                                   'On_Time_Repayment',\n",
       "                                                   'Late_Time_Repayment', 'age',\n",
       "                                                   'interest',\n",
       "                                                   'approveddate_year',\n",
       "                                                   'approveddate_month',\n",
       "                                                   'approveddate_day',\n",
       "                                                   'approveddate_hour',\n",
       "                                                   'approveddate_minute',\n",
       "                                                   'creationdate_year',\n",
       "                                                   'creationdate_month',\n",
       "                                                   'cre...\n",
       "                                                   'employment_status_clients',\n",
       "                                                   'termdays_cat'])])),\n",
       "                ('smote', SMOTE(random_state=42)),\n",
       "                ('classifier',\n",
       "                 LGBMClassifier(colsample_bytree=np.float64(0.749816047538945),\n",
       "                                learning_rate=np.float64(0.10507143064099161),\n",
       "                                max_depth=5, n_estimators=171, num_leaves=35,\n",
       "                                objective='binary', random_state=42,\n",
       "                                scale_pos_weight=5,\n",
       "                                subsample=np.float64(0.7783331011414365),\n",
       "                                verbose=-1))])"
      ]
     },
     "execution_count": 103,
     "metadata": {},
     "output_type": "execute_result"
    }
   ],
   "source": [
    "model"
   ]
  },
  {
   "cell_type": "code",
   "execution_count": 104,
   "id": "321bf772-9d52-48f1-8f52-f05050b3e852",
   "metadata": {},
   "outputs": [
    {
     "data": {
      "text/html": [
       "<div>\n",
       "<style scoped>\n",
       "    .dataframe tbody tr th:only-of-type {\n",
       "        vertical-align: middle;\n",
       "    }\n",
       "\n",
       "    .dataframe tbody tr th {\n",
       "        vertical-align: top;\n",
       "    }\n",
       "\n",
       "    .dataframe thead th {\n",
       "        text-align: right;\n",
       "    }\n",
       "</style>\n",
       "<table border=\"1\" class=\"dataframe\">\n",
       "  <thead>\n",
       "    <tr style=\"text-align: right;\">\n",
       "      <th></th>\n",
       "      <th>loannumber</th>\n",
       "      <th>loanamount</th>\n",
       "      <th>bank_account_type</th>\n",
       "      <th>bank_name_clients</th>\n",
       "      <th>employment_status_clients</th>\n",
       "      <th>On_Time_Repayment</th>\n",
       "      <th>Late_Time_Repayment</th>\n",
       "      <th>age</th>\n",
       "      <th>interest</th>\n",
       "      <th>approveddate_year</th>\n",
       "      <th>approveddate_month</th>\n",
       "      <th>approveddate_day</th>\n",
       "      <th>approveddate_hour</th>\n",
       "      <th>approveddate_minute</th>\n",
       "      <th>creationdate_year</th>\n",
       "      <th>creationdate_month</th>\n",
       "      <th>creationdate_day</th>\n",
       "      <th>creationdate_hour</th>\n",
       "      <th>creationdate_minute</th>\n",
       "      <th>termdays_cat</th>\n",
       "    </tr>\n",
       "  </thead>\n",
       "  <tbody>\n",
       "    <tr>\n",
       "      <th>0</th>\n",
       "      <td>12.0</td>\n",
       "      <td>30000.0</td>\n",
       "      <td>Other</td>\n",
       "      <td>Diamond Bank</td>\n",
       "      <td>Permanent</td>\n",
       "      <td>7.0</td>\n",
       "      <td>4.0</td>\n",
       "      <td>48.0</td>\n",
       "      <td>4500.0</td>\n",
       "      <td>2017</td>\n",
       "      <td>7</td>\n",
       "      <td>25</td>\n",
       "      <td>8</td>\n",
       "      <td>22</td>\n",
       "      <td>2017</td>\n",
       "      <td>7</td>\n",
       "      <td>25</td>\n",
       "      <td>7</td>\n",
       "      <td>22</td>\n",
       "      <td>short</td>\n",
       "    </tr>\n",
       "    <tr>\n",
       "      <th>1</th>\n",
       "      <td>2.0</td>\n",
       "      <td>15000.0</td>\n",
       "      <td>Savings</td>\n",
       "      <td>GT Bank</td>\n",
       "      <td>Permanent</td>\n",
       "      <td>0.0</td>\n",
       "      <td>0.0</td>\n",
       "      <td>40.0</td>\n",
       "      <td>2250.0</td>\n",
       "      <td>2017</td>\n",
       "      <td>7</td>\n",
       "      <td>5</td>\n",
       "      <td>17</td>\n",
       "      <td>4</td>\n",
       "      <td>2017</td>\n",
       "      <td>7</td>\n",
       "      <td>5</td>\n",
       "      <td>16</td>\n",
       "      <td>4</td>\n",
       "      <td>short</td>\n",
       "    </tr>\n",
       "    <tr>\n",
       "      <th>2</th>\n",
       "      <td>7.0</td>\n",
       "      <td>20000.0</td>\n",
       "      <td>Other</td>\n",
       "      <td>EcoBank</td>\n",
       "      <td>Permanent</td>\n",
       "      <td>3.0</td>\n",
       "      <td>3.0</td>\n",
       "      <td>40.0</td>\n",
       "      <td>2250.0</td>\n",
       "      <td>2017</td>\n",
       "      <td>7</td>\n",
       "      <td>6</td>\n",
       "      <td>14</td>\n",
       "      <td>52</td>\n",
       "      <td>2017</td>\n",
       "      <td>7</td>\n",
       "      <td>6</td>\n",
       "      <td>13</td>\n",
       "      <td>52</td>\n",
       "      <td>short</td>\n",
       "    </tr>\n",
       "    <tr>\n",
       "      <th>3</th>\n",
       "      <td>3.0</td>\n",
       "      <td>10000.0</td>\n",
       "      <td>Savings</td>\n",
       "      <td>First Bank</td>\n",
       "      <td>Permanent</td>\n",
       "      <td>0.0</td>\n",
       "      <td>2.0</td>\n",
       "      <td>47.0</td>\n",
       "      <td>1500.0</td>\n",
       "      <td>2017</td>\n",
       "      <td>7</td>\n",
       "      <td>27</td>\n",
       "      <td>19</td>\n",
       "      <td>0</td>\n",
       "      <td>2017</td>\n",
       "      <td>7</td>\n",
       "      <td>27</td>\n",
       "      <td>18</td>\n",
       "      <td>0</td>\n",
       "      <td>short</td>\n",
       "    </tr>\n",
       "    <tr>\n",
       "      <th>4</th>\n",
       "      <td>9.0</td>\n",
       "      <td>35000.0</td>\n",
       "      <td>Other</td>\n",
       "      <td>GT Bank</td>\n",
       "      <td>Permanent</td>\n",
       "      <td>8.0</td>\n",
       "      <td>0.0</td>\n",
       "      <td>39.0</td>\n",
       "      <td>4000.0</td>\n",
       "      <td>2017</td>\n",
       "      <td>7</td>\n",
       "      <td>3</td>\n",
       "      <td>23</td>\n",
       "      <td>42</td>\n",
       "      <td>2017</td>\n",
       "      <td>7</td>\n",
       "      <td>3</td>\n",
       "      <td>22</td>\n",
       "      <td>42</td>\n",
       "      <td>short</td>\n",
       "    </tr>\n",
       "  </tbody>\n",
       "</table>\n",
       "</div>"
      ],
      "text/plain": [
       "   loannumber  loanamount bank_account_type bank_name_clients  \\\n",
       "0        12.0     30000.0             Other      Diamond Bank   \n",
       "1         2.0     15000.0           Savings           GT Bank   \n",
       "2         7.0     20000.0             Other           EcoBank   \n",
       "3         3.0     10000.0           Savings        First Bank   \n",
       "4         9.0     35000.0             Other           GT Bank   \n",
       "\n",
       "  employment_status_clients  On_Time_Repayment  Late_Time_Repayment   age  \\\n",
       "0                 Permanent                7.0                  4.0  48.0   \n",
       "1                 Permanent                0.0                  0.0  40.0   \n",
       "2                 Permanent                3.0                  3.0  40.0   \n",
       "3                 Permanent                0.0                  2.0  47.0   \n",
       "4                 Permanent                8.0                  0.0  39.0   \n",
       "\n",
       "   interest  approveddate_year  approveddate_month  approveddate_day  \\\n",
       "0    4500.0               2017                   7                25   \n",
       "1    2250.0               2017                   7                 5   \n",
       "2    2250.0               2017                   7                 6   \n",
       "3    1500.0               2017                   7                27   \n",
       "4    4000.0               2017                   7                 3   \n",
       "\n",
       "   approveddate_hour  approveddate_minute  creationdate_year  \\\n",
       "0                  8                   22               2017   \n",
       "1                 17                    4               2017   \n",
       "2                 14                   52               2017   \n",
       "3                 19                    0               2017   \n",
       "4                 23                   42               2017   \n",
       "\n",
       "   creationdate_month  creationdate_day  creationdate_hour  \\\n",
       "0                   7                25                  7   \n",
       "1                   7                 5                 16   \n",
       "2                   7                 6                 13   \n",
       "3                   7                27                 18   \n",
       "4                   7                 3                 22   \n",
       "\n",
       "   creationdate_minute termdays_cat  \n",
       "0                   22        short  \n",
       "1                    4        short  \n",
       "2                   52        short  \n",
       "3                    0        short  \n",
       "4                   42        short  "
      ]
     },
     "execution_count": 104,
     "metadata": {},
     "output_type": "execute_result"
    }
   ],
   "source": [
    "X.head()"
   ]
  },
  {
   "cell_type": "code",
   "execution_count": 105,
   "id": "951657af-6230-46b3-ab42-d7ebaa355b77",
   "metadata": {},
   "outputs": [
    {
     "data": {
      "text/plain": [
       "['short', 'medium', 'long']\n",
       "Categories (3, object): ['short' < 'medium' < 'long']"
      ]
     },
     "execution_count": 105,
     "metadata": {},
     "output_type": "execute_result"
    }
   ],
   "source": [
    "X['termdays_cat'].unique()"
   ]
  },
  {
   "cell_type": "code",
   "execution_count": 106,
   "id": "1a7f679d-485b-4c92-996f-9e93489fc832",
   "metadata": {},
   "outputs": [
    {
     "data": {
      "text/plain": [
       "array(['num__loannumber', 'num__loanamount', 'num__On_Time_Repayment',\n",
       "       'num__Late_Time_Repayment', 'num__age', 'num__interest',\n",
       "       'num__approveddate_year', 'num__approveddate_month',\n",
       "       'num__approveddate_day', 'num__approveddate_hour',\n",
       "       'num__approveddate_minute', 'num__creationdate_year',\n",
       "       'num__creationdate_month', 'num__creationdate_day',\n",
       "       'num__creationdate_hour', 'num__creationdate_minute',\n",
       "       'cat__bank_account_type_Current', 'cat__bank_account_type_NA',\n",
       "       'cat__bank_account_type_Other', 'cat__bank_account_type_Savings',\n",
       "       'cat__bank_name_clients_Access Bank',\n",
       "       'cat__bank_name_clients_Diamond Bank',\n",
       "       'cat__bank_name_clients_EcoBank', 'cat__bank_name_clients_FCMB',\n",
       "       'cat__bank_name_clients_Fidelity Bank',\n",
       "       'cat__bank_name_clients_First Bank',\n",
       "       'cat__bank_name_clients_GT Bank',\n",
       "       'cat__bank_name_clients_Heritage Bank',\n",
       "       'cat__bank_name_clients_Keystone Bank',\n",
       "       'cat__bank_name_clients_NA', 'cat__bank_name_clients_Skye Bank',\n",
       "       'cat__bank_name_clients_Stanbic IBTC',\n",
       "       'cat__bank_name_clients_Standard Chartered',\n",
       "       'cat__bank_name_clients_Sterling Bank',\n",
       "       'cat__bank_name_clients_UBA', 'cat__bank_name_clients_Union Bank',\n",
       "       'cat__bank_name_clients_Unity Bank',\n",
       "       'cat__bank_name_clients_Wema Bank',\n",
       "       'cat__bank_name_clients_Zenith Bank',\n",
       "       'cat__employment_status_clients_Contract',\n",
       "       'cat__employment_status_clients_Permanent',\n",
       "       'cat__employment_status_clients_Retired',\n",
       "       'cat__employment_status_clients_Self-Employed',\n",
       "       'cat__employment_status_clients_Student',\n",
       "       'cat__employment_status_clients_Unemployed',\n",
       "       'cat__employment_status_clients_Unknown', 'cat__termdays_cat_long',\n",
       "       'cat__termdays_cat_medium', 'cat__termdays_cat_short'],\n",
       "      dtype=object)"
      ]
     },
     "execution_count": 106,
     "metadata": {},
     "output_type": "execute_result"
    }
   ],
   "source": [
    "p = model.named_steps['preprocessor'].get_feature_names_out()\n",
    "p"
   ]
  },
  {
   "cell_type": "code",
   "execution_count": null,
   "id": "f346ff3d-abf3-4074-a763-50acd571cb82",
   "metadata": {},
   "outputs": [],
   "source": []
  }
 ],
 "metadata": {
  "colab": {
   "provenance": []
  },
  "kernelspec": {
   "display_name": "Python 3 (ipykernel)",
   "language": "python",
   "name": "python3"
  },
  "language_info": {
   "codemirror_mode": {
    "name": "ipython",
    "version": 3
   },
   "file_extension": ".py",
   "mimetype": "text/x-python",
   "name": "python",
   "nbconvert_exporter": "python",
   "pygments_lexer": "ipython3",
   "version": "3.12.1"
  }
 },
 "nbformat": 4,
 "nbformat_minor": 5
}
