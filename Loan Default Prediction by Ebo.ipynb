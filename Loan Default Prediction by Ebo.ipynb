{
 "cells": [
  {
   "cell_type": "markdown",
   "id": "949b4718-2bc4-4eb0-b252-2741cdcd6689",
   "metadata": {
    "id": "949b4718-2bc4-4eb0-b252-2741cdcd6689"
   },
   "source": [
    "PROJECT"
   ]
  },
  {
   "cell_type": "markdown",
   "id": "a091a22f-9b23-4aa0-9f70-1468a763e961",
   "metadata": {
    "id": "a091a22f-9b23-4aa0-9f70-1468a763e961"
   },
   "source": [
    "PROBLEM: CLASSIFICATION PROBLEM"
   ]
  },
  {
   "cell_type": "markdown",
   "id": "2c17e4cc-dab1-4a54-a90a-e8e90426f1fe",
   "metadata": {
    "id": "2c17e4cc-dab1-4a54-a90a-e8e90426f1fe"
   },
   "source": [
    "AIM: To Predict Loan Default by Customers using the Demographic of the Customer and their Previous Loan History"
   ]
  },
  {
   "cell_type": "markdown",
   "id": "518ae3ff-f2d8-40d3-b1df-980a0dcc175e",
   "metadata": {
    "id": "518ae3ff-f2d8-40d3-b1df-980a0dcc175e"
   },
   "source": [
    "Import Libraries"
   ]
  },
  {
   "cell_type": "code",
   "execution_count": 1,
   "id": "699c0f73-6a5e-4c0e-b752-6920b722a28c",
   "metadata": {
    "id": "699c0f73-6a5e-4c0e-b752-6920b722a28c"
   },
   "outputs": [],
   "source": [
    "import pandas as pd\n",
    "import numpy as np\n",
    "import matplotlib.pyplot as plt\n",
    "import seaborn as sns"
   ]
  },
  {
   "cell_type": "markdown",
   "id": "031013ca-2270-497a-98d0-4a2a9d2ca7ec",
   "metadata": {
    "id": "031013ca-2270-497a-98d0-4a2a9d2ca7ec"
   },
   "source": [
    "Load data from csv"
   ]
  },
  {
   "cell_type": "code",
   "execution_count": 2,
   "id": "08b22a5c-d23a-4451-9c4e-9d9f3f68bfcf",
   "metadata": {
    "id": "08b22a5c-d23a-4451-9c4e-9d9f3f68bfcf"
   },
   "outputs": [],
   "source": [
    "Demographic_data = pd.read_csv('https://raw.githubusercontent.com/Oyeniran20/axia_cohort_8/refs/heads/main/trainperf.csv')\n",
    "Performance_data = pd.read_csv('https://raw.githubusercontent.com/Oyeniran20/axia_cohort_8/refs/heads/main/traindemographics.csv')\n",
    "Previous_loan_data = pd.read_csv('https://raw.githubusercontent.com/Oyeniran20/axia_cohort_8/refs/heads/main/trainprevloans.csv')"
   ]
  },
  {
   "cell_type": "markdown",
   "id": "e3662630-4023-4b70-a297-1c9018f2c06c",
   "metadata": {
    "id": "e3662630-4023-4b70-a297-1c9018f2c06c"
   },
   "source": [
    "Data understanding for Demographic_data"
   ]
  },
  {
   "cell_type": "code",
   "execution_count": 3,
   "id": "a7537e0b-b423-4a54-88f7-6a53b2b822fa",
   "metadata": {
    "colab": {
     "base_uri": "https://localhost:8080/",
     "height": 206
    },
    "id": "a7537e0b-b423-4a54-88f7-6a53b2b822fa",
    "outputId": "4a23289a-e58b-4afe-d338-045ede75af1d"
   },
   "outputs": [
    {
     "data": {
      "text/html": [
       "<div>\n",
       "<style scoped>\n",
       "    .dataframe tbody tr th:only-of-type {\n",
       "        vertical-align: middle;\n",
       "    }\n",
       "\n",
       "    .dataframe tbody tr th {\n",
       "        vertical-align: top;\n",
       "    }\n",
       "\n",
       "    .dataframe thead th {\n",
       "        text-align: right;\n",
       "    }\n",
       "</style>\n",
       "<table border=\"1\" class=\"dataframe\">\n",
       "  <thead>\n",
       "    <tr style=\"text-align: right;\">\n",
       "      <th></th>\n",
       "      <th>customerid</th>\n",
       "      <th>systemloanid</th>\n",
       "      <th>loannumber</th>\n",
       "      <th>approveddate</th>\n",
       "      <th>creationdate</th>\n",
       "      <th>loanamount</th>\n",
       "      <th>totaldue</th>\n",
       "      <th>termdays</th>\n",
       "      <th>referredby</th>\n",
       "      <th>good_bad_flag</th>\n",
       "    </tr>\n",
       "  </thead>\n",
       "  <tbody>\n",
       "    <tr>\n",
       "      <th>0</th>\n",
       "      <td>8a2a81a74ce8c05d014cfb32a0da1049</td>\n",
       "      <td>301994762</td>\n",
       "      <td>12</td>\n",
       "      <td>2017-07-25 08:22:56.000000</td>\n",
       "      <td>2017-07-25 07:22:47.000000</td>\n",
       "      <td>30000.0</td>\n",
       "      <td>34500.0</td>\n",
       "      <td>30</td>\n",
       "      <td>NaN</td>\n",
       "      <td>Good</td>\n",
       "    </tr>\n",
       "    <tr>\n",
       "      <th>1</th>\n",
       "      <td>8a85886e54beabf90154c0a29ae757c0</td>\n",
       "      <td>301965204</td>\n",
       "      <td>2</td>\n",
       "      <td>2017-07-05 17:04:41.000000</td>\n",
       "      <td>2017-07-05 16:04:18.000000</td>\n",
       "      <td>15000.0</td>\n",
       "      <td>17250.0</td>\n",
       "      <td>30</td>\n",
       "      <td>NaN</td>\n",
       "      <td>Good</td>\n",
       "    </tr>\n",
       "    <tr>\n",
       "      <th>2</th>\n",
       "      <td>8a8588f35438fe12015444567666018e</td>\n",
       "      <td>301966580</td>\n",
       "      <td>7</td>\n",
       "      <td>2017-07-06 14:52:57.000000</td>\n",
       "      <td>2017-07-06 13:52:51.000000</td>\n",
       "      <td>20000.0</td>\n",
       "      <td>22250.0</td>\n",
       "      <td>15</td>\n",
       "      <td>NaN</td>\n",
       "      <td>Good</td>\n",
       "    </tr>\n",
       "    <tr>\n",
       "      <th>3</th>\n",
       "      <td>8a85890754145ace015429211b513e16</td>\n",
       "      <td>301999343</td>\n",
       "      <td>3</td>\n",
       "      <td>2017-07-27 19:00:41.000000</td>\n",
       "      <td>2017-07-27 18:00:35.000000</td>\n",
       "      <td>10000.0</td>\n",
       "      <td>11500.0</td>\n",
       "      <td>15</td>\n",
       "      <td>NaN</td>\n",
       "      <td>Good</td>\n",
       "    </tr>\n",
       "    <tr>\n",
       "      <th>4</th>\n",
       "      <td>8a858970548359cc0154883481981866</td>\n",
       "      <td>301962360</td>\n",
       "      <td>9</td>\n",
       "      <td>2017-07-03 23:42:45.000000</td>\n",
       "      <td>2017-07-03 22:42:39.000000</td>\n",
       "      <td>40000.0</td>\n",
       "      <td>44000.0</td>\n",
       "      <td>30</td>\n",
       "      <td>NaN</td>\n",
       "      <td>Good</td>\n",
       "    </tr>\n",
       "  </tbody>\n",
       "</table>\n",
       "</div>"
      ],
      "text/plain": [
       "                         customerid  systemloanid  loannumber  \\\n",
       "0  8a2a81a74ce8c05d014cfb32a0da1049     301994762          12   \n",
       "1  8a85886e54beabf90154c0a29ae757c0     301965204           2   \n",
       "2  8a8588f35438fe12015444567666018e     301966580           7   \n",
       "3  8a85890754145ace015429211b513e16     301999343           3   \n",
       "4  8a858970548359cc0154883481981866     301962360           9   \n",
       "\n",
       "                 approveddate                creationdate  loanamount  \\\n",
       "0  2017-07-25 08:22:56.000000  2017-07-25 07:22:47.000000     30000.0   \n",
       "1  2017-07-05 17:04:41.000000  2017-07-05 16:04:18.000000     15000.0   \n",
       "2  2017-07-06 14:52:57.000000  2017-07-06 13:52:51.000000     20000.0   \n",
       "3  2017-07-27 19:00:41.000000  2017-07-27 18:00:35.000000     10000.0   \n",
       "4  2017-07-03 23:42:45.000000  2017-07-03 22:42:39.000000     40000.0   \n",
       "\n",
       "   totaldue  termdays referredby good_bad_flag  \n",
       "0   34500.0        30        NaN          Good  \n",
       "1   17250.0        30        NaN          Good  \n",
       "2   22250.0        15        NaN          Good  \n",
       "3   11500.0        15        NaN          Good  \n",
       "4   44000.0        30        NaN          Good  "
      ]
     },
     "execution_count": 3,
     "metadata": {},
     "output_type": "execute_result"
    }
   ],
   "source": [
    "Demographic_data.head()"
   ]
  },
  {
   "cell_type": "code",
   "execution_count": 4,
   "id": "0f58fc12-854e-40d2-a578-3f5046dbab12",
   "metadata": {
    "colab": {
     "base_uri": "https://localhost:8080/"
    },
    "id": "0f58fc12-854e-40d2-a578-3f5046dbab12",
    "outputId": "6f0ff42d-722b-4c3c-da23-844a7684307c"
   },
   "outputs": [
    {
     "data": {
      "text/plain": [
       "Index(['customerid', 'systemloanid', 'loannumber', 'approveddate',\n",
       "       'creationdate', 'loanamount', 'totaldue', 'termdays', 'referredby',\n",
       "       'good_bad_flag'],\n",
       "      dtype='object')"
      ]
     },
     "execution_count": 4,
     "metadata": {},
     "output_type": "execute_result"
    }
   ],
   "source": [
    "Demographic_data.columns"
   ]
  },
  {
   "cell_type": "code",
   "execution_count": 5,
   "id": "63e46189-0cbb-4967-b651-803ad814b82a",
   "metadata": {
    "colab": {
     "base_uri": "https://localhost:8080/"
    },
    "id": "63e46189-0cbb-4967-b651-803ad814b82a",
    "outputId": "448c06e2-e04f-4468-9425-7db10559c511"
   },
   "outputs": [
    {
     "data": {
      "text/plain": [
       "(4368, 10)"
      ]
     },
     "execution_count": 5,
     "metadata": {},
     "output_type": "execute_result"
    }
   ],
   "source": [
    "Demographic_data.shape"
   ]
  },
  {
   "cell_type": "code",
   "execution_count": 6,
   "id": "e1b896da-b696-4ac1-814a-0eec7ee0ff53",
   "metadata": {
    "colab": {
     "base_uri": "https://localhost:8080/"
    },
    "id": "e1b896da-b696-4ac1-814a-0eec7ee0ff53",
    "outputId": "94ac4db7-feb5-4249-fe67-9f4c9a8def84"
   },
   "outputs": [
    {
     "name": "stdout",
     "output_type": "stream",
     "text": [
      "<class 'pandas.core.frame.DataFrame'>\n",
      "RangeIndex: 4368 entries, 0 to 4367\n",
      "Data columns (total 10 columns):\n",
      " #   Column         Non-Null Count  Dtype  \n",
      "---  ------         --------------  -----  \n",
      " 0   customerid     4368 non-null   object \n",
      " 1   systemloanid   4368 non-null   int64  \n",
      " 2   loannumber     4368 non-null   int64  \n",
      " 3   approveddate   4368 non-null   object \n",
      " 4   creationdate   4368 non-null   object \n",
      " 5   loanamount     4368 non-null   float64\n",
      " 6   totaldue       4368 non-null   float64\n",
      " 7   termdays       4368 non-null   int64  \n",
      " 8   referredby     587 non-null    object \n",
      " 9   good_bad_flag  4368 non-null   object \n",
      "dtypes: float64(2), int64(3), object(5)\n",
      "memory usage: 341.4+ KB\n"
     ]
    }
   ],
   "source": [
    "Demographic_data.info()"
   ]
  },
  {
   "cell_type": "markdown",
   "id": "0a4b852b-608b-4a1e-ac8d-4d7d063f5b10",
   "metadata": {
    "id": "0a4b852b-608b-4a1e-ac8d-4d7d063f5b10"
   },
   "source": [
    "Descriptive Statistic for Demographic_data"
   ]
  },
  {
   "cell_type": "code",
   "execution_count": 7,
   "id": "c22e7b11-7187-4820-99e3-06a1d552bc15",
   "metadata": {
    "colab": {
     "base_uri": "https://localhost:8080/",
     "height": 206
    },
    "id": "c22e7b11-7187-4820-99e3-06a1d552bc15",
    "outputId": "52b818e2-6113-4582-9022-8b2b021c1ccd"
   },
   "outputs": [
    {
     "data": {
      "text/html": [
       "<div>\n",
       "<style scoped>\n",
       "    .dataframe tbody tr th:only-of-type {\n",
       "        vertical-align: middle;\n",
       "    }\n",
       "\n",
       "    .dataframe tbody tr th {\n",
       "        vertical-align: top;\n",
       "    }\n",
       "\n",
       "    .dataframe thead th {\n",
       "        text-align: right;\n",
       "    }\n",
       "</style>\n",
       "<table border=\"1\" class=\"dataframe\">\n",
       "  <thead>\n",
       "    <tr style=\"text-align: right;\">\n",
       "      <th></th>\n",
       "      <th>count</th>\n",
       "      <th>mean</th>\n",
       "      <th>std</th>\n",
       "      <th>min</th>\n",
       "      <th>25%</th>\n",
       "      <th>50%</th>\n",
       "      <th>75%</th>\n",
       "      <th>max</th>\n",
       "    </tr>\n",
       "  </thead>\n",
       "  <tbody>\n",
       "    <tr>\n",
       "      <th>systemloanid</th>\n",
       "      <td>4368.0</td>\n",
       "      <td>3.019810e+08</td>\n",
       "      <td>13431.151516</td>\n",
       "      <td>301958485.0</td>\n",
       "      <td>301969128.0</td>\n",
       "      <td>301980100.0</td>\n",
       "      <td>301993503.5</td>\n",
       "      <td>302004050.0</td>\n",
       "    </tr>\n",
       "    <tr>\n",
       "      <th>loannumber</th>\n",
       "      <td>4368.0</td>\n",
       "      <td>5.172390e+00</td>\n",
       "      <td>3.653569</td>\n",
       "      <td>2.0</td>\n",
       "      <td>2.0</td>\n",
       "      <td>4.0</td>\n",
       "      <td>7.0</td>\n",
       "      <td>27.0</td>\n",
       "    </tr>\n",
       "    <tr>\n",
       "      <th>loanamount</th>\n",
       "      <td>4368.0</td>\n",
       "      <td>1.780907e+04</td>\n",
       "      <td>10749.694571</td>\n",
       "      <td>10000.0</td>\n",
       "      <td>10000.0</td>\n",
       "      <td>10000.0</td>\n",
       "      <td>20000.0</td>\n",
       "      <td>60000.0</td>\n",
       "    </tr>\n",
       "    <tr>\n",
       "      <th>totaldue</th>\n",
       "      <td>4368.0</td>\n",
       "      <td>2.125738e+04</td>\n",
       "      <td>11943.510416</td>\n",
       "      <td>10000.0</td>\n",
       "      <td>13000.0</td>\n",
       "      <td>13000.0</td>\n",
       "      <td>24500.0</td>\n",
       "      <td>68100.0</td>\n",
       "    </tr>\n",
       "    <tr>\n",
       "      <th>termdays</th>\n",
       "      <td>4368.0</td>\n",
       "      <td>2.926168e+01</td>\n",
       "      <td>11.512519</td>\n",
       "      <td>15.0</td>\n",
       "      <td>30.0</td>\n",
       "      <td>30.0</td>\n",
       "      <td>30.0</td>\n",
       "      <td>90.0</td>\n",
       "    </tr>\n",
       "  </tbody>\n",
       "</table>\n",
       "</div>"
      ],
      "text/plain": [
       "               count          mean           std          min          25%  \\\n",
       "systemloanid  4368.0  3.019810e+08  13431.151516  301958485.0  301969128.0   \n",
       "loannumber    4368.0  5.172390e+00      3.653569          2.0          2.0   \n",
       "loanamount    4368.0  1.780907e+04  10749.694571      10000.0      10000.0   \n",
       "totaldue      4368.0  2.125738e+04  11943.510416      10000.0      13000.0   \n",
       "termdays      4368.0  2.926168e+01     11.512519         15.0         30.0   \n",
       "\n",
       "                      50%          75%          max  \n",
       "systemloanid  301980100.0  301993503.5  302004050.0  \n",
       "loannumber            4.0          7.0         27.0  \n",
       "loanamount        10000.0      20000.0      60000.0  \n",
       "totaldue          13000.0      24500.0      68100.0  \n",
       "termdays             30.0         30.0         90.0  "
      ]
     },
     "execution_count": 7,
     "metadata": {},
     "output_type": "execute_result"
    }
   ],
   "source": [
    "Demographic_data.describe().T"
   ]
  },
  {
   "cell_type": "markdown",
   "id": "24e37bea-d40b-4544-a56c-1f38e4c16b65",
   "metadata": {
    "id": "24e37bea-d40b-4544-a56c-1f38e4c16b65"
   },
   "source": [
    "\n",
    "Check for missing values for Demographic_data"
   ]
  },
  {
   "cell_type": "code",
   "execution_count": 8,
   "id": "c6cd605f-bb5b-4591-82e0-2d249c25388b",
   "metadata": {
    "colab": {
     "base_uri": "https://localhost:8080/",
     "height": 398
    },
    "id": "c6cd605f-bb5b-4591-82e0-2d249c25388b",
    "outputId": "61dc6761-74c1-4e9a-c905-9d485318bb0f"
   },
   "outputs": [
    {
     "data": {
      "text/plain": [
       "customerid          0\n",
       "systemloanid        0\n",
       "loannumber          0\n",
       "approveddate        0\n",
       "creationdate        0\n",
       "loanamount          0\n",
       "totaldue            0\n",
       "termdays            0\n",
       "referredby       3781\n",
       "good_bad_flag       0\n",
       "dtype: int64"
      ]
     },
     "execution_count": 8,
     "metadata": {},
     "output_type": "execute_result"
    }
   ],
   "source": [
    "Demographic_data.isna().sum()"
   ]
  },
  {
   "cell_type": "markdown",
   "id": "3861e6e2-0b67-493f-b4f2-3a0175874186",
   "metadata": {
    "id": "3861e6e2-0b67-493f-b4f2-3a0175874186"
   },
   "source": [
    "Check for the percentage(%) of missing values for Demographic_data"
   ]
  },
  {
   "cell_type": "code",
   "execution_count": 9,
   "id": "33e09d65-0ca4-42de-b29d-f2ba3a61de2c",
   "metadata": {
    "colab": {
     "base_uri": "https://localhost:8080/",
     "height": 398
    },
    "id": "33e09d65-0ca4-42de-b29d-f2ba3a61de2c",
    "outputId": "0e24925c-ebdd-4045-cc3e-42540d8556b6"
   },
   "outputs": [
    {
     "data": {
      "text/plain": [
       "referredby       86.561355\n",
       "customerid        0.000000\n",
       "systemloanid      0.000000\n",
       "loannumber        0.000000\n",
       "approveddate      0.000000\n",
       "creationdate      0.000000\n",
       "loanamount        0.000000\n",
       "totaldue          0.000000\n",
       "termdays          0.000000\n",
       "good_bad_flag     0.000000\n",
       "dtype: float64"
      ]
     },
     "execution_count": 9,
     "metadata": {},
     "output_type": "execute_result"
    }
   ],
   "source": [
    "Demographic_data.isna().sum().sort_values(ascending=False)/len(Demographic_data)*100"
   ]
  },
  {
   "cell_type": "markdown",
   "id": "74fbe116-bc7f-42b1-b0d0-d40d6c115673",
   "metadata": {
    "id": "74fbe116-bc7f-42b1-b0d0-d40d6c115673"
   },
   "source": [
    "Drop columns with 80% missing value and not an important column to the dataset for Demographic_data"
   ]
  },
  {
   "cell_type": "code",
   "execution_count": 10,
   "id": "e2e0bbce-466a-4f97-ba0b-a38afaf0ca05",
   "metadata": {
    "id": "e2e0bbce-466a-4f97-ba0b-a38afaf0ca05"
   },
   "outputs": [],
   "source": [
    "Demographic_data.drop(columns=['referredby'], inplace = True)"
   ]
  },
  {
   "cell_type": "markdown",
   "id": "08a531d9-71ef-42cf-b266-9f4243a144a5",
   "metadata": {
    "id": "08a531d9-71ef-42cf-b266-9f4243a144a5"
   },
   "source": [
    "Check for duplicates for Demographic_data"
   ]
  },
  {
   "cell_type": "code",
   "execution_count": 11,
   "id": "33609d13-a886-43cf-bb7d-5f664d06ecab",
   "metadata": {
    "colab": {
     "base_uri": "https://localhost:8080/"
    },
    "id": "33609d13-a886-43cf-bb7d-5f664d06ecab",
    "outputId": "832c565c-6d95-48b2-d7d0-b7878b1d26cf"
   },
   "outputs": [
    {
     "data": {
      "text/plain": [
       "np.int64(0)"
      ]
     },
     "execution_count": 11,
     "metadata": {},
     "output_type": "execute_result"
    }
   ],
   "source": [
    "Demographic_data.duplicated().sum()"
   ]
  },
  {
   "cell_type": "markdown",
   "id": "a22566c5-1699-40bf-a55b-7bff763a074f",
   "metadata": {
    "id": "a22566c5-1699-40bf-a55b-7bff763a074f"
   },
   "source": [
    "Data understanding for Performance_data"
   ]
  },
  {
   "cell_type": "code",
   "execution_count": 12,
   "id": "a1151af1-3aa7-4918-a2c8-b0812d806198",
   "metadata": {
    "colab": {
     "base_uri": "https://localhost:8080/",
     "height": 206
    },
    "id": "a1151af1-3aa7-4918-a2c8-b0812d806198",
    "outputId": "1e954162-8bca-4a49-b973-7dda89844845"
   },
   "outputs": [
    {
     "data": {
      "text/html": [
       "<div>\n",
       "<style scoped>\n",
       "    .dataframe tbody tr th:only-of-type {\n",
       "        vertical-align: middle;\n",
       "    }\n",
       "\n",
       "    .dataframe tbody tr th {\n",
       "        vertical-align: top;\n",
       "    }\n",
       "\n",
       "    .dataframe thead th {\n",
       "        text-align: right;\n",
       "    }\n",
       "</style>\n",
       "<table border=\"1\" class=\"dataframe\">\n",
       "  <thead>\n",
       "    <tr style=\"text-align: right;\">\n",
       "      <th></th>\n",
       "      <th>customerid</th>\n",
       "      <th>birthdate</th>\n",
       "      <th>bank_account_type</th>\n",
       "      <th>longitude_gps</th>\n",
       "      <th>latitude_gps</th>\n",
       "      <th>bank_name_clients</th>\n",
       "      <th>bank_branch_clients</th>\n",
       "      <th>employment_status_clients</th>\n",
       "      <th>level_of_education_clients</th>\n",
       "    </tr>\n",
       "  </thead>\n",
       "  <tbody>\n",
       "    <tr>\n",
       "      <th>0</th>\n",
       "      <td>8a858e135cb22031015cbafc76964ebd</td>\n",
       "      <td>1973-10-10 00:00:00.000000</td>\n",
       "      <td>Savings</td>\n",
       "      <td>3.319219</td>\n",
       "      <td>6.528604</td>\n",
       "      <td>GT Bank</td>\n",
       "      <td>NaN</td>\n",
       "      <td>NaN</td>\n",
       "      <td>NaN</td>\n",
       "    </tr>\n",
       "    <tr>\n",
       "      <th>1</th>\n",
       "      <td>8a858e275c7ea5ec015c82482d7c3996</td>\n",
       "      <td>1986-01-21 00:00:00.000000</td>\n",
       "      <td>Savings</td>\n",
       "      <td>3.325598</td>\n",
       "      <td>7.119403</td>\n",
       "      <td>Sterling Bank</td>\n",
       "      <td>NaN</td>\n",
       "      <td>Permanent</td>\n",
       "      <td>NaN</td>\n",
       "    </tr>\n",
       "    <tr>\n",
       "      <th>2</th>\n",
       "      <td>8a858e5b5bd99460015bdc95cd485634</td>\n",
       "      <td>1987-04-01 00:00:00.000000</td>\n",
       "      <td>Savings</td>\n",
       "      <td>5.746100</td>\n",
       "      <td>5.563174</td>\n",
       "      <td>Fidelity Bank</td>\n",
       "      <td>NaN</td>\n",
       "      <td>NaN</td>\n",
       "      <td>NaN</td>\n",
       "    </tr>\n",
       "    <tr>\n",
       "      <th>3</th>\n",
       "      <td>8a858efd5ca70688015cabd1f1e94b55</td>\n",
       "      <td>1991-07-19 00:00:00.000000</td>\n",
       "      <td>Savings</td>\n",
       "      <td>3.362850</td>\n",
       "      <td>6.642485</td>\n",
       "      <td>GT Bank</td>\n",
       "      <td>NaN</td>\n",
       "      <td>Permanent</td>\n",
       "      <td>NaN</td>\n",
       "    </tr>\n",
       "    <tr>\n",
       "      <th>4</th>\n",
       "      <td>8a858e785acd3412015acd48f4920d04</td>\n",
       "      <td>1982-11-22 00:00:00.000000</td>\n",
       "      <td>Savings</td>\n",
       "      <td>8.455332</td>\n",
       "      <td>11.971410</td>\n",
       "      <td>GT Bank</td>\n",
       "      <td>NaN</td>\n",
       "      <td>Permanent</td>\n",
       "      <td>NaN</td>\n",
       "    </tr>\n",
       "  </tbody>\n",
       "</table>\n",
       "</div>"
      ],
      "text/plain": [
       "                         customerid                   birthdate  \\\n",
       "0  8a858e135cb22031015cbafc76964ebd  1973-10-10 00:00:00.000000   \n",
       "1  8a858e275c7ea5ec015c82482d7c3996  1986-01-21 00:00:00.000000   \n",
       "2  8a858e5b5bd99460015bdc95cd485634  1987-04-01 00:00:00.000000   \n",
       "3  8a858efd5ca70688015cabd1f1e94b55  1991-07-19 00:00:00.000000   \n",
       "4  8a858e785acd3412015acd48f4920d04  1982-11-22 00:00:00.000000   \n",
       "\n",
       "  bank_account_type  longitude_gps  latitude_gps bank_name_clients  \\\n",
       "0           Savings       3.319219      6.528604           GT Bank   \n",
       "1           Savings       3.325598      7.119403     Sterling Bank   \n",
       "2           Savings       5.746100      5.563174     Fidelity Bank   \n",
       "3           Savings       3.362850      6.642485           GT Bank   \n",
       "4           Savings       8.455332     11.971410           GT Bank   \n",
       "\n",
       "  bank_branch_clients employment_status_clients level_of_education_clients  \n",
       "0                 NaN                       NaN                        NaN  \n",
       "1                 NaN                 Permanent                        NaN  \n",
       "2                 NaN                       NaN                        NaN  \n",
       "3                 NaN                 Permanent                        NaN  \n",
       "4                 NaN                 Permanent                        NaN  "
      ]
     },
     "execution_count": 12,
     "metadata": {},
     "output_type": "execute_result"
    }
   ],
   "source": [
    "Performance_data.head()"
   ]
  },
  {
   "cell_type": "code",
   "execution_count": 13,
   "id": "1a60fa6a-4e10-41cf-aa1c-a4ffc143f413",
   "metadata": {
    "colab": {
     "base_uri": "https://localhost:8080/"
    },
    "id": "1a60fa6a-4e10-41cf-aa1c-a4ffc143f413",
    "outputId": "8c274b74-fb09-4f1d-ea00-241aa3449402"
   },
   "outputs": [
    {
     "data": {
      "text/plain": [
       "(4346, 9)"
      ]
     },
     "execution_count": 13,
     "metadata": {},
     "output_type": "execute_result"
    }
   ],
   "source": [
    "Performance_data.shape"
   ]
  },
  {
   "cell_type": "code",
   "execution_count": 14,
   "id": "afada289-d976-4c9b-992c-e546f8ea3b86",
   "metadata": {
    "colab": {
     "base_uri": "https://localhost:8080/"
    },
    "id": "afada289-d976-4c9b-992c-e546f8ea3b86",
    "outputId": "73088932-94bd-44b5-957b-817f5a251e78"
   },
   "outputs": [
    {
     "data": {
      "text/plain": [
       "Index(['customerid', 'birthdate', 'bank_account_type', 'longitude_gps',\n",
       "       'latitude_gps', 'bank_name_clients', 'bank_branch_clients',\n",
       "       'employment_status_clients', 'level_of_education_clients'],\n",
       "      dtype='object')"
      ]
     },
     "execution_count": 14,
     "metadata": {},
     "output_type": "execute_result"
    }
   ],
   "source": [
    "Performance_data.columns"
   ]
  },
  {
   "cell_type": "code",
   "execution_count": 15,
   "id": "8c737159-ca82-44a0-a72e-0e3ef8086b04",
   "metadata": {
    "colab": {
     "base_uri": "https://localhost:8080/"
    },
    "id": "8c737159-ca82-44a0-a72e-0e3ef8086b04",
    "outputId": "80477490-96df-46bf-837a-c58ffd565282"
   },
   "outputs": [
    {
     "name": "stdout",
     "output_type": "stream",
     "text": [
      "<class 'pandas.core.frame.DataFrame'>\n",
      "RangeIndex: 4346 entries, 0 to 4345\n",
      "Data columns (total 9 columns):\n",
      " #   Column                      Non-Null Count  Dtype  \n",
      "---  ------                      --------------  -----  \n",
      " 0   customerid                  4346 non-null   object \n",
      " 1   birthdate                   4346 non-null   object \n",
      " 2   bank_account_type           4346 non-null   object \n",
      " 3   longitude_gps               4346 non-null   float64\n",
      " 4   latitude_gps                4346 non-null   float64\n",
      " 5   bank_name_clients           4346 non-null   object \n",
      " 6   bank_branch_clients         51 non-null     object \n",
      " 7   employment_status_clients   3698 non-null   object \n",
      " 8   level_of_education_clients  587 non-null    object \n",
      "dtypes: float64(2), object(7)\n",
      "memory usage: 305.7+ KB\n"
     ]
    }
   ],
   "source": [
    "Performance_data.info()"
   ]
  },
  {
   "cell_type": "code",
   "execution_count": 16,
   "id": "57539f47-3cf2-4bb8-8cee-509a7ce62511",
   "metadata": {
    "colab": {
     "base_uri": "https://localhost:8080/",
     "height": 206
    },
    "id": "57539f47-3cf2-4bb8-8cee-509a7ce62511",
    "outputId": "da75a3a7-8d3e-44d8-b81f-c2fee86f0274"
   },
   "outputs": [
    {
     "data": {
      "text/html": [
       "<div>\n",
       "<style scoped>\n",
       "    .dataframe tbody tr th:only-of-type {\n",
       "        vertical-align: middle;\n",
       "    }\n",
       "\n",
       "    .dataframe tbody tr th {\n",
       "        vertical-align: top;\n",
       "    }\n",
       "\n",
       "    .dataframe thead th {\n",
       "        text-align: right;\n",
       "    }\n",
       "</style>\n",
       "<table border=\"1\" class=\"dataframe\">\n",
       "  <thead>\n",
       "    <tr style=\"text-align: right;\">\n",
       "      <th></th>\n",
       "      <th>customerid</th>\n",
       "      <th>birthdate</th>\n",
       "      <th>bank_account_type</th>\n",
       "      <th>longitude_gps</th>\n",
       "      <th>latitude_gps</th>\n",
       "      <th>bank_name_clients</th>\n",
       "      <th>bank_branch_clients</th>\n",
       "      <th>employment_status_clients</th>\n",
       "      <th>level_of_education_clients</th>\n",
       "    </tr>\n",
       "  </thead>\n",
       "  <tbody>\n",
       "    <tr>\n",
       "      <th>4341</th>\n",
       "      <td>8a858f155554552501555588ca2b3b40</td>\n",
       "      <td>1985-12-13 00:00:00.000000</td>\n",
       "      <td>Other</td>\n",
       "      <td>3.236753</td>\n",
       "      <td>7.030168</td>\n",
       "      <td>Stanbic IBTC</td>\n",
       "      <td>NaN</td>\n",
       "      <td>Permanent</td>\n",
       "      <td>Graduate</td>\n",
       "    </tr>\n",
       "    <tr>\n",
       "      <th>4342</th>\n",
       "      <td>8a858fc65cf978f4015cf97cee3a02ce</td>\n",
       "      <td>1982-07-01 00:00:00.000000</td>\n",
       "      <td>Savings</td>\n",
       "      <td>7.013750</td>\n",
       "      <td>4.875662</td>\n",
       "      <td>GT Bank</td>\n",
       "      <td>NaN</td>\n",
       "      <td>NaN</td>\n",
       "      <td>NaN</td>\n",
       "    </tr>\n",
       "    <tr>\n",
       "      <th>4343</th>\n",
       "      <td>8a858f4f5b66de3a015b66fc83c61902</td>\n",
       "      <td>1989-09-26 00:00:00.000000</td>\n",
       "      <td>Savings</td>\n",
       "      <td>6.295530</td>\n",
       "      <td>7.092508</td>\n",
       "      <td>GT Bank</td>\n",
       "      <td>NaN</td>\n",
       "      <td>Permanent</td>\n",
       "      <td>NaN</td>\n",
       "    </tr>\n",
       "    <tr>\n",
       "      <th>4344</th>\n",
       "      <td>8aaae7a74400b28201441c8b62514150</td>\n",
       "      <td>1985-09-06 00:00:00.000000</td>\n",
       "      <td>Savings</td>\n",
       "      <td>3.354206</td>\n",
       "      <td>6.539070</td>\n",
       "      <td>GT Bank</td>\n",
       "      <td>HEAD OFFICE</td>\n",
       "      <td>Permanent</td>\n",
       "      <td>Primary</td>\n",
       "    </tr>\n",
       "    <tr>\n",
       "      <th>4345</th>\n",
       "      <td>8a85896653e2e18b0153e69c1b90265c</td>\n",
       "      <td>1975-06-05 00:00:00.000000</td>\n",
       "      <td>Savings</td>\n",
       "      <td>6.661014</td>\n",
       "      <td>7.472700</td>\n",
       "      <td>UBA</td>\n",
       "      <td>NaN</td>\n",
       "      <td>Permanent</td>\n",
       "      <td>NaN</td>\n",
       "    </tr>\n",
       "  </tbody>\n",
       "</table>\n",
       "</div>"
      ],
      "text/plain": [
       "                            customerid                   birthdate  \\\n",
       "4341  8a858f155554552501555588ca2b3b40  1985-12-13 00:00:00.000000   \n",
       "4342  8a858fc65cf978f4015cf97cee3a02ce  1982-07-01 00:00:00.000000   \n",
       "4343  8a858f4f5b66de3a015b66fc83c61902  1989-09-26 00:00:00.000000   \n",
       "4344  8aaae7a74400b28201441c8b62514150  1985-09-06 00:00:00.000000   \n",
       "4345  8a85896653e2e18b0153e69c1b90265c  1975-06-05 00:00:00.000000   \n",
       "\n",
       "     bank_account_type  longitude_gps  latitude_gps bank_name_clients  \\\n",
       "4341             Other       3.236753      7.030168      Stanbic IBTC   \n",
       "4342           Savings       7.013750      4.875662           GT Bank   \n",
       "4343           Savings       6.295530      7.092508           GT Bank   \n",
       "4344           Savings       3.354206      6.539070           GT Bank   \n",
       "4345           Savings       6.661014      7.472700               UBA   \n",
       "\n",
       "     bank_branch_clients employment_status_clients level_of_education_clients  \n",
       "4341                 NaN                 Permanent                   Graduate  \n",
       "4342                 NaN                       NaN                        NaN  \n",
       "4343                 NaN                 Permanent                        NaN  \n",
       "4344         HEAD OFFICE                 Permanent                    Primary  \n",
       "4345                 NaN                 Permanent                        NaN  "
      ]
     },
     "execution_count": 16,
     "metadata": {},
     "output_type": "execute_result"
    }
   ],
   "source": [
    "Performance_data.tail()"
   ]
  },
  {
   "cell_type": "markdown",
   "id": "c566760f-cf16-4ef1-a33b-1a4968c1106d",
   "metadata": {
    "id": "c566760f-cf16-4ef1-a33b-1a4968c1106d"
   },
   "source": [
    "Descriptive statistic for Performance_data"
   ]
  },
  {
   "cell_type": "code",
   "execution_count": 17,
   "id": "f90125c6-98fc-462d-8a8c-120b5683ce0f",
   "metadata": {
    "colab": {
     "base_uri": "https://localhost:8080/",
     "height": 112
    },
    "id": "f90125c6-98fc-462d-8a8c-120b5683ce0f",
    "outputId": "69e5cc4e-f677-4b87-c025-9884a50bc363"
   },
   "outputs": [
    {
     "data": {
      "text/html": [
       "<div>\n",
       "<style scoped>\n",
       "    .dataframe tbody tr th:only-of-type {\n",
       "        vertical-align: middle;\n",
       "    }\n",
       "\n",
       "    .dataframe tbody tr th {\n",
       "        vertical-align: top;\n",
       "    }\n",
       "\n",
       "    .dataframe thead th {\n",
       "        text-align: right;\n",
       "    }\n",
       "</style>\n",
       "<table border=\"1\" class=\"dataframe\">\n",
       "  <thead>\n",
       "    <tr style=\"text-align: right;\">\n",
       "      <th></th>\n",
       "      <th>count</th>\n",
       "      <th>mean</th>\n",
       "      <th>std</th>\n",
       "      <th>min</th>\n",
       "      <th>25%</th>\n",
       "      <th>50%</th>\n",
       "      <th>75%</th>\n",
       "      <th>max</th>\n",
       "    </tr>\n",
       "  </thead>\n",
       "  <tbody>\n",
       "    <tr>\n",
       "      <th>longitude_gps</th>\n",
       "      <td>4346.0</td>\n",
       "      <td>4.626189</td>\n",
       "      <td>7.184832</td>\n",
       "      <td>-118.247009</td>\n",
       "      <td>3.354953</td>\n",
       "      <td>3.593302</td>\n",
       "      <td>6.545220</td>\n",
       "      <td>151.209290</td>\n",
       "    </tr>\n",
       "    <tr>\n",
       "      <th>latitude_gps</th>\n",
       "      <td>4346.0</td>\n",
       "      <td>7.251356</td>\n",
       "      <td>3.055052</td>\n",
       "      <td>-33.868818</td>\n",
       "      <td>6.470610</td>\n",
       "      <td>6.621888</td>\n",
       "      <td>7.425052</td>\n",
       "      <td>71.228069</td>\n",
       "    </tr>\n",
       "  </tbody>\n",
       "</table>\n",
       "</div>"
      ],
      "text/plain": [
       "                count      mean       std         min       25%       50%  \\\n",
       "longitude_gps  4346.0  4.626189  7.184832 -118.247009  3.354953  3.593302   \n",
       "latitude_gps   4346.0  7.251356  3.055052  -33.868818  6.470610  6.621888   \n",
       "\n",
       "                    75%         max  \n",
       "longitude_gps  6.545220  151.209290  \n",
       "latitude_gps   7.425052   71.228069  "
      ]
     },
     "execution_count": 17,
     "metadata": {},
     "output_type": "execute_result"
    }
   ],
   "source": [
    "Performance_data.describe().T"
   ]
  },
  {
   "cell_type": "markdown",
   "id": "35ebe92a-b767-464d-9cfa-66dc3e89e48f",
   "metadata": {
    "id": "35ebe92a-b767-464d-9cfa-66dc3e89e48f"
   },
   "source": [
    "Check for missing values for Performance_data"
   ]
  },
  {
   "cell_type": "code",
   "execution_count": 18,
   "id": "ea8cf822-bb1f-49d2-b42c-d4262e14f7bf",
   "metadata": {
    "colab": {
     "base_uri": "https://localhost:8080/",
     "height": 367
    },
    "id": "ea8cf822-bb1f-49d2-b42c-d4262e14f7bf",
    "outputId": "8ccfb3b6-d4bb-47dc-f0ea-76e803292127"
   },
   "outputs": [
    {
     "data": {
      "text/plain": [
       "customerid                       0\n",
       "birthdate                        0\n",
       "bank_account_type                0\n",
       "longitude_gps                    0\n",
       "latitude_gps                     0\n",
       "bank_name_clients                0\n",
       "bank_branch_clients           4295\n",
       "employment_status_clients      648\n",
       "level_of_education_clients    3759\n",
       "dtype: int64"
      ]
     },
     "execution_count": 18,
     "metadata": {},
     "output_type": "execute_result"
    }
   ],
   "source": [
    "Performance_data.isna().sum()"
   ]
  },
  {
   "cell_type": "markdown",
   "id": "598eabc3-3d43-4c49-adc7-2df8dcaf5a81",
   "metadata": {
    "id": "598eabc3-3d43-4c49-adc7-2df8dcaf5a81"
   },
   "source": [
    "\n",
    "Check for the percentage(%) of missing values for Performance_data"
   ]
  },
  {
   "cell_type": "code",
   "execution_count": 19,
   "id": "45d17bea-0ec3-4295-b241-bbccc63ac857",
   "metadata": {
    "colab": {
     "base_uri": "https://localhost:8080/",
     "height": 367
    },
    "id": "45d17bea-0ec3-4295-b241-bbccc63ac857",
    "outputId": "810ffae8-0d8b-46c8-954d-7fab9eec1c15"
   },
   "outputs": [
    {
     "data": {
      "text/plain": [
       "bank_branch_clients           98.826507\n",
       "level_of_education_clients    86.493327\n",
       "employment_status_clients     14.910262\n",
       "customerid                     0.000000\n",
       "birthdate                      0.000000\n",
       "bank_account_type              0.000000\n",
       "longitude_gps                  0.000000\n",
       "latitude_gps                   0.000000\n",
       "bank_name_clients              0.000000\n",
       "dtype: float64"
      ]
     },
     "execution_count": 19,
     "metadata": {},
     "output_type": "execute_result"
    }
   ],
   "source": [
    "Performance_data.isna().sum().sort_values(ascending=False)/len(Performance_data)*100"
   ]
  },
  {
   "cell_type": "markdown",
   "id": "28b4c37e-44d7-415c-9659-457dea1174f0",
   "metadata": {
    "id": "28b4c37e-44d7-415c-9659-457dea1174f0"
   },
   "source": [
    "Check for duplicates for Performance_data"
   ]
  },
  {
   "cell_type": "code",
   "execution_count": 20,
   "id": "980b7e5c-1bed-4a45-a32b-7d69bc7579ba",
   "metadata": {
    "colab": {
     "base_uri": "https://localhost:8080/"
    },
    "id": "980b7e5c-1bed-4a45-a32b-7d69bc7579ba",
    "outputId": "728a8600-3955-4ef8-b0c6-71db47e89f9d"
   },
   "outputs": [
    {
     "data": {
      "text/plain": [
       "np.int64(12)"
      ]
     },
     "execution_count": 20,
     "metadata": {},
     "output_type": "execute_result"
    }
   ],
   "source": [
    "Performance_data.duplicated().sum()"
   ]
  },
  {
   "cell_type": "markdown",
   "id": "304443d5-116d-4f5e-9791-98a5593a9b57",
   "metadata": {
    "id": "304443d5-116d-4f5e-9791-98a5593a9b57"
   },
   "source": [
    "Drop duplicates for Performance_data"
   ]
  },
  {
   "cell_type": "code",
   "execution_count": 21,
   "id": "c4e4a6d4-b4b8-42df-8283-a43c8aa962b9",
   "metadata": {
    "id": "c4e4a6d4-b4b8-42df-8283-a43c8aa962b9"
   },
   "outputs": [],
   "source": [
    "Performance_data.drop_duplicates(inplace = True)"
   ]
  },
  {
   "cell_type": "markdown",
   "id": "77c2d7f3-eb88-4cb4-a348-c73cb82d8c4d",
   "metadata": {
    "id": "77c2d7f3-eb88-4cb4-a348-c73cb82d8c4d"
   },
   "source": [
    "Data understanding for Previous_loan_data"
   ]
  },
  {
   "cell_type": "code",
   "execution_count": 22,
   "id": "fbf53d37-3b63-4396-88bc-0ba87d9db8a1",
   "metadata": {
    "colab": {
     "base_uri": "https://localhost:8080/",
     "height": 293
    },
    "id": "fbf53d37-3b63-4396-88bc-0ba87d9db8a1",
    "outputId": "10294e21-d472-44d6-d212-2cfb3c5ed405"
   },
   "outputs": [
    {
     "data": {
      "text/html": [
       "<div>\n",
       "<style scoped>\n",
       "    .dataframe tbody tr th:only-of-type {\n",
       "        vertical-align: middle;\n",
       "    }\n",
       "\n",
       "    .dataframe tbody tr th {\n",
       "        vertical-align: top;\n",
       "    }\n",
       "\n",
       "    .dataframe thead th {\n",
       "        text-align: right;\n",
       "    }\n",
       "</style>\n",
       "<table border=\"1\" class=\"dataframe\">\n",
       "  <thead>\n",
       "    <tr style=\"text-align: right;\">\n",
       "      <th></th>\n",
       "      <th>customerid</th>\n",
       "      <th>systemloanid</th>\n",
       "      <th>loannumber</th>\n",
       "      <th>approveddate</th>\n",
       "      <th>creationdate</th>\n",
       "      <th>loanamount</th>\n",
       "      <th>totaldue</th>\n",
       "      <th>termdays</th>\n",
       "      <th>closeddate</th>\n",
       "      <th>referredby</th>\n",
       "      <th>firstduedate</th>\n",
       "      <th>firstrepaiddate</th>\n",
       "    </tr>\n",
       "  </thead>\n",
       "  <tbody>\n",
       "    <tr>\n",
       "      <th>0</th>\n",
       "      <td>8a2a81a74ce8c05d014cfb32a0da1049</td>\n",
       "      <td>301682320</td>\n",
       "      <td>2</td>\n",
       "      <td>2016-08-15 18:22:40.000000</td>\n",
       "      <td>2016-08-15 17:22:32.000000</td>\n",
       "      <td>10000.0</td>\n",
       "      <td>13000.0</td>\n",
       "      <td>30</td>\n",
       "      <td>2016-09-01 16:06:48.000000</td>\n",
       "      <td>NaN</td>\n",
       "      <td>2016-09-14 00:00:00.000000</td>\n",
       "      <td>2016-09-01 15:51:43.000000</td>\n",
       "    </tr>\n",
       "    <tr>\n",
       "      <th>1</th>\n",
       "      <td>8a2a81a74ce8c05d014cfb32a0da1049</td>\n",
       "      <td>301883808</td>\n",
       "      <td>9</td>\n",
       "      <td>2017-04-28 18:39:07.000000</td>\n",
       "      <td>2017-04-28 17:38:53.000000</td>\n",
       "      <td>10000.0</td>\n",
       "      <td>13000.0</td>\n",
       "      <td>30</td>\n",
       "      <td>2017-05-28 14:44:49.000000</td>\n",
       "      <td>NaN</td>\n",
       "      <td>2017-05-30 00:00:00.000000</td>\n",
       "      <td>2017-05-26 00:00:00.000000</td>\n",
       "    </tr>\n",
       "    <tr>\n",
       "      <th>2</th>\n",
       "      <td>8a2a81a74ce8c05d014cfb32a0da1049</td>\n",
       "      <td>301831714</td>\n",
       "      <td>8</td>\n",
       "      <td>2017-03-05 10:56:25.000000</td>\n",
       "      <td>2017-03-05 09:56:19.000000</td>\n",
       "      <td>20000.0</td>\n",
       "      <td>23800.0</td>\n",
       "      <td>30</td>\n",
       "      <td>2017-04-26 22:18:56.000000</td>\n",
       "      <td>NaN</td>\n",
       "      <td>2017-04-04 00:00:00.000000</td>\n",
       "      <td>2017-04-26 22:03:47.000000</td>\n",
       "    </tr>\n",
       "    <tr>\n",
       "      <th>3</th>\n",
       "      <td>8a8588f35438fe12015444567666018e</td>\n",
       "      <td>301861541</td>\n",
       "      <td>5</td>\n",
       "      <td>2017-04-09 18:25:55.000000</td>\n",
       "      <td>2017-04-09 17:25:42.000000</td>\n",
       "      <td>10000.0</td>\n",
       "      <td>11500.0</td>\n",
       "      <td>15</td>\n",
       "      <td>2017-04-24 01:35:52.000000</td>\n",
       "      <td>NaN</td>\n",
       "      <td>2017-04-24 00:00:00.000000</td>\n",
       "      <td>2017-04-24 00:48:43.000000</td>\n",
       "    </tr>\n",
       "    <tr>\n",
       "      <th>4</th>\n",
       "      <td>8a85890754145ace015429211b513e16</td>\n",
       "      <td>301941754</td>\n",
       "      <td>2</td>\n",
       "      <td>2017-06-17 09:29:57.000000</td>\n",
       "      <td>2017-06-17 08:29:50.000000</td>\n",
       "      <td>10000.0</td>\n",
       "      <td>11500.0</td>\n",
       "      <td>15</td>\n",
       "      <td>2017-07-14 21:18:43.000000</td>\n",
       "      <td>NaN</td>\n",
       "      <td>2017-07-03 00:00:00.000000</td>\n",
       "      <td>2017-07-14 21:08:35.000000</td>\n",
       "    </tr>\n",
       "  </tbody>\n",
       "</table>\n",
       "</div>"
      ],
      "text/plain": [
       "                         customerid  systemloanid  loannumber  \\\n",
       "0  8a2a81a74ce8c05d014cfb32a0da1049     301682320           2   \n",
       "1  8a2a81a74ce8c05d014cfb32a0da1049     301883808           9   \n",
       "2  8a2a81a74ce8c05d014cfb32a0da1049     301831714           8   \n",
       "3  8a8588f35438fe12015444567666018e     301861541           5   \n",
       "4  8a85890754145ace015429211b513e16     301941754           2   \n",
       "\n",
       "                 approveddate                creationdate  loanamount  \\\n",
       "0  2016-08-15 18:22:40.000000  2016-08-15 17:22:32.000000     10000.0   \n",
       "1  2017-04-28 18:39:07.000000  2017-04-28 17:38:53.000000     10000.0   \n",
       "2  2017-03-05 10:56:25.000000  2017-03-05 09:56:19.000000     20000.0   \n",
       "3  2017-04-09 18:25:55.000000  2017-04-09 17:25:42.000000     10000.0   \n",
       "4  2017-06-17 09:29:57.000000  2017-06-17 08:29:50.000000     10000.0   \n",
       "\n",
       "   totaldue  termdays                  closeddate referredby  \\\n",
       "0   13000.0        30  2016-09-01 16:06:48.000000        NaN   \n",
       "1   13000.0        30  2017-05-28 14:44:49.000000        NaN   \n",
       "2   23800.0        30  2017-04-26 22:18:56.000000        NaN   \n",
       "3   11500.0        15  2017-04-24 01:35:52.000000        NaN   \n",
       "4   11500.0        15  2017-07-14 21:18:43.000000        NaN   \n",
       "\n",
       "                 firstduedate             firstrepaiddate  \n",
       "0  2016-09-14 00:00:00.000000  2016-09-01 15:51:43.000000  \n",
       "1  2017-05-30 00:00:00.000000  2017-05-26 00:00:00.000000  \n",
       "2  2017-04-04 00:00:00.000000  2017-04-26 22:03:47.000000  \n",
       "3  2017-04-24 00:00:00.000000  2017-04-24 00:48:43.000000  \n",
       "4  2017-07-03 00:00:00.000000  2017-07-14 21:08:35.000000  "
      ]
     },
     "execution_count": 22,
     "metadata": {},
     "output_type": "execute_result"
    }
   ],
   "source": [
    "Previous_loan_data.head()"
   ]
  },
  {
   "cell_type": "code",
   "execution_count": 23,
   "id": "d19ce9a3-cf06-448e-9b5d-dd70e2a6440e",
   "metadata": {
    "colab": {
     "base_uri": "https://localhost:8080/"
    },
    "id": "d19ce9a3-cf06-448e-9b5d-dd70e2a6440e",
    "outputId": "5bc25776-8267-49a2-8481-381c062c32e4"
   },
   "outputs": [
    {
     "data": {
      "text/plain": [
       "(18183, 12)"
      ]
     },
     "execution_count": 23,
     "metadata": {},
     "output_type": "execute_result"
    }
   ],
   "source": [
    "Previous_loan_data.shape"
   ]
  },
  {
   "cell_type": "code",
   "execution_count": 24,
   "id": "9abf117f-1bfe-46d0-b943-35cceec33335",
   "metadata": {
    "colab": {
     "base_uri": "https://localhost:8080/"
    },
    "id": "9abf117f-1bfe-46d0-b943-35cceec33335",
    "outputId": "52e15090-5271-4a91-917c-9140f52985f2"
   },
   "outputs": [
    {
     "data": {
      "text/plain": [
       "Index(['customerid', 'systemloanid', 'loannumber', 'approveddate',\n",
       "       'creationdate', 'loanamount', 'totaldue', 'termdays', 'closeddate',\n",
       "       'referredby', 'firstduedate', 'firstrepaiddate'],\n",
       "      dtype='object')"
      ]
     },
     "execution_count": 24,
     "metadata": {},
     "output_type": "execute_result"
    }
   ],
   "source": [
    "Previous_loan_data.columns"
   ]
  },
  {
   "cell_type": "code",
   "execution_count": 25,
   "id": "5585f5e6-e159-4e3a-b12d-e4bf9c6d527d",
   "metadata": {
    "colab": {
     "base_uri": "https://localhost:8080/"
    },
    "id": "5585f5e6-e159-4e3a-b12d-e4bf9c6d527d",
    "outputId": "c7f86448-d5dd-418e-ec68-f0e64def1e20"
   },
   "outputs": [
    {
     "name": "stdout",
     "output_type": "stream",
     "text": [
      "<class 'pandas.core.frame.DataFrame'>\n",
      "RangeIndex: 18183 entries, 0 to 18182\n",
      "Data columns (total 12 columns):\n",
      " #   Column           Non-Null Count  Dtype  \n",
      "---  ------           --------------  -----  \n",
      " 0   customerid       18183 non-null  object \n",
      " 1   systemloanid     18183 non-null  int64  \n",
      " 2   loannumber       18183 non-null  int64  \n",
      " 3   approveddate     18183 non-null  object \n",
      " 4   creationdate     18183 non-null  object \n",
      " 5   loanamount       18183 non-null  float64\n",
      " 6   totaldue         18183 non-null  float64\n",
      " 7   termdays         18183 non-null  int64  \n",
      " 8   closeddate       18183 non-null  object \n",
      " 9   referredby       1026 non-null   object \n",
      " 10  firstduedate     18183 non-null  object \n",
      " 11  firstrepaiddate  18183 non-null  object \n",
      "dtypes: float64(2), int64(3), object(7)\n",
      "memory usage: 1.7+ MB\n"
     ]
    }
   ],
   "source": [
    "Previous_loan_data.info()"
   ]
  },
  {
   "cell_type": "raw",
   "id": "b51173ef-d604-4ac6-a97a-8a339eb0ffd1",
   "metadata": {
    "id": "b51173ef-d604-4ac6-a97a-8a339eb0ffd1"
   },
   "source": [
    "Descriptive statistic for Previous_loan_data"
   ]
  },
  {
   "cell_type": "code",
   "execution_count": 26,
   "id": "db2d8068-b193-4ba9-9115-9f48d6297553",
   "metadata": {
    "colab": {
     "base_uri": "https://localhost:8080/",
     "height": 206
    },
    "id": "db2d8068-b193-4ba9-9115-9f48d6297553",
    "outputId": "a61821a1-8c12-41fe-ee1d-d4dc976f8870"
   },
   "outputs": [
    {
     "data": {
      "text/html": [
       "<div>\n",
       "<style scoped>\n",
       "    .dataframe tbody tr th:only-of-type {\n",
       "        vertical-align: middle;\n",
       "    }\n",
       "\n",
       "    .dataframe tbody tr th {\n",
       "        vertical-align: top;\n",
       "    }\n",
       "\n",
       "    .dataframe thead th {\n",
       "        text-align: right;\n",
       "    }\n",
       "</style>\n",
       "<table border=\"1\" class=\"dataframe\">\n",
       "  <thead>\n",
       "    <tr style=\"text-align: right;\">\n",
       "      <th></th>\n",
       "      <th>count</th>\n",
       "      <th>mean</th>\n",
       "      <th>std</th>\n",
       "      <th>min</th>\n",
       "      <th>25%</th>\n",
       "      <th>50%</th>\n",
       "      <th>75%</th>\n",
       "      <th>max</th>\n",
       "    </tr>\n",
       "  </thead>\n",
       "  <tbody>\n",
       "    <tr>\n",
       "      <th>systemloanid</th>\n",
       "      <td>18183.0</td>\n",
       "      <td>3.018395e+08</td>\n",
       "      <td>93677.672704</td>\n",
       "      <td>301600134.0</td>\n",
       "      <td>301776577.0</td>\n",
       "      <td>301854965.0</td>\n",
       "      <td>301919682.5</td>\n",
       "      <td>302000275.0</td>\n",
       "    </tr>\n",
       "    <tr>\n",
       "      <th>loannumber</th>\n",
       "      <td>18183.0</td>\n",
       "      <td>4.189353e+00</td>\n",
       "      <td>3.249490</td>\n",
       "      <td>1.0</td>\n",
       "      <td>2.0</td>\n",
       "      <td>3.0</td>\n",
       "      <td>6.0</td>\n",
       "      <td>26.0</td>\n",
       "    </tr>\n",
       "    <tr>\n",
       "      <th>loanamount</th>\n",
       "      <td>18183.0</td>\n",
       "      <td>1.650124e+04</td>\n",
       "      <td>9320.547516</td>\n",
       "      <td>3000.0</td>\n",
       "      <td>10000.0</td>\n",
       "      <td>10000.0</td>\n",
       "      <td>20000.0</td>\n",
       "      <td>60000.0</td>\n",
       "    </tr>\n",
       "    <tr>\n",
       "      <th>totaldue</th>\n",
       "      <td>18183.0</td>\n",
       "      <td>1.957320e+04</td>\n",
       "      <td>10454.245277</td>\n",
       "      <td>3450.0</td>\n",
       "      <td>11500.0</td>\n",
       "      <td>13000.0</td>\n",
       "      <td>24500.0</td>\n",
       "      <td>68100.0</td>\n",
       "    </tr>\n",
       "    <tr>\n",
       "      <th>termdays</th>\n",
       "      <td>18183.0</td>\n",
       "      <td>2.669279e+01</td>\n",
       "      <td>10.946556</td>\n",
       "      <td>15.0</td>\n",
       "      <td>15.0</td>\n",
       "      <td>30.0</td>\n",
       "      <td>30.0</td>\n",
       "      <td>90.0</td>\n",
       "    </tr>\n",
       "  </tbody>\n",
       "</table>\n",
       "</div>"
      ],
      "text/plain": [
       "                count          mean           std          min          25%  \\\n",
       "systemloanid  18183.0  3.018395e+08  93677.672704  301600134.0  301776577.0   \n",
       "loannumber    18183.0  4.189353e+00      3.249490          1.0          2.0   \n",
       "loanamount    18183.0  1.650124e+04   9320.547516       3000.0      10000.0   \n",
       "totaldue      18183.0  1.957320e+04  10454.245277       3450.0      11500.0   \n",
       "termdays      18183.0  2.669279e+01     10.946556         15.0         15.0   \n",
       "\n",
       "                      50%          75%          max  \n",
       "systemloanid  301854965.0  301919682.5  302000275.0  \n",
       "loannumber            3.0          6.0         26.0  \n",
       "loanamount        10000.0      20000.0      60000.0  \n",
       "totaldue          13000.0      24500.0      68100.0  \n",
       "termdays             30.0         30.0         90.0  "
      ]
     },
     "execution_count": 26,
     "metadata": {},
     "output_type": "execute_result"
    }
   ],
   "source": [
    "Previous_loan_data.describe().T"
   ]
  },
  {
   "cell_type": "markdown",
   "id": "4153fdf4-82ed-4261-8675-5076ede96367",
   "metadata": {
    "id": "4153fdf4-82ed-4261-8675-5076ede96367"
   },
   "source": [
    "Check for missing values for Previous_loan_data"
   ]
  },
  {
   "cell_type": "code",
   "execution_count": 27,
   "id": "56e2a99f-b26f-49fc-b000-2d21bd84b889",
   "metadata": {
    "colab": {
     "base_uri": "https://localhost:8080/",
     "height": 461
    },
    "id": "56e2a99f-b26f-49fc-b000-2d21bd84b889",
    "outputId": "fe433d94-ffa2-4049-9bd5-5f07c27778c2"
   },
   "outputs": [
    {
     "data": {
      "text/plain": [
       "customerid             0\n",
       "systemloanid           0\n",
       "loannumber             0\n",
       "approveddate           0\n",
       "creationdate           0\n",
       "loanamount             0\n",
       "totaldue               0\n",
       "termdays               0\n",
       "closeddate             0\n",
       "referredby         17157\n",
       "firstduedate           0\n",
       "firstrepaiddate        0\n",
       "dtype: int64"
      ]
     },
     "execution_count": 27,
     "metadata": {},
     "output_type": "execute_result"
    }
   ],
   "source": [
    "Previous_loan_data.isna().sum()"
   ]
  },
  {
   "cell_type": "markdown",
   "id": "c1456c86-0a8c-4fd5-ba9f-7974bd147579",
   "metadata": {
    "id": "c1456c86-0a8c-4fd5-ba9f-7974bd147579"
   },
   "source": [
    "Check for the percentage(%) of missing values for Previous_loan_data"
   ]
  },
  {
   "cell_type": "code",
   "execution_count": 28,
   "id": "80e4489d-08c9-4a1f-b0e1-3022c0813d2e",
   "metadata": {
    "colab": {
     "base_uri": "https://localhost:8080/",
     "height": 461
    },
    "id": "80e4489d-08c9-4a1f-b0e1-3022c0813d2e",
    "outputId": "eb5f75ae-3697-46a0-e5e4-daa8946e89ac"
   },
   "outputs": [
    {
     "data": {
      "text/plain": [
       "referredby         94.357367\n",
       "customerid          0.000000\n",
       "systemloanid        0.000000\n",
       "loannumber          0.000000\n",
       "approveddate        0.000000\n",
       "creationdate        0.000000\n",
       "loanamount          0.000000\n",
       "totaldue            0.000000\n",
       "termdays            0.000000\n",
       "closeddate          0.000000\n",
       "firstduedate        0.000000\n",
       "firstrepaiddate     0.000000\n",
       "dtype: float64"
      ]
     },
     "execution_count": 28,
     "metadata": {},
     "output_type": "execute_result"
    }
   ],
   "source": [
    "Previous_loan_data.isna().sum().sort_values(ascending=False)/len(Previous_loan_data)*100"
   ]
  },
  {
   "cell_type": "markdown",
   "id": "4856ab6d-4fd4-4b70-8836-41805ab15bac",
   "metadata": {
    "id": "4856ab6d-4fd4-4b70-8836-41805ab15bac"
   },
   "source": [
    "Drop columns with 80% missing value and not an important column to the dataset ;for Previous_loan_data"
   ]
  },
  {
   "cell_type": "code",
   "execution_count": 29,
   "id": "1dcf16ed-acac-4fdc-b154-9a3b2e0ff5d4",
   "metadata": {
    "id": "1dcf16ed-acac-4fdc-b154-9a3b2e0ff5d4"
   },
   "outputs": [],
   "source": [
    "Previous_loan_data.drop(columns=['referredby'], inplace = True)"
   ]
  },
  {
   "cell_type": "markdown",
   "id": "d9c3eab1-7f1e-41f2-9195-9c1479b53663",
   "metadata": {
    "id": "d9c3eab1-7f1e-41f2-9195-9c1479b53663"
   },
   "source": [
    "Check for duplicates for Previous_loan_data"
   ]
  },
  {
   "cell_type": "code",
   "execution_count": 30,
   "id": "690b848d-642e-4c81-8609-de893d4b9bb1",
   "metadata": {
    "colab": {
     "base_uri": "https://localhost:8080/"
    },
    "id": "690b848d-642e-4c81-8609-de893d4b9bb1",
    "outputId": "d346151b-8c25-4e41-c235-f6490b066997"
   },
   "outputs": [
    {
     "data": {
      "text/plain": [
       "np.int64(0)"
      ]
     },
     "execution_count": 30,
     "metadata": {},
     "output_type": "execute_result"
    }
   ],
   "source": [
    "Previous_loan_data.duplicated().sum()"
   ]
  },
  {
   "cell_type": "code",
   "execution_count": 31,
   "id": "e5444472-bd8a-4b1c-b82e-350866b799d4",
   "metadata": {
    "colab": {
     "base_uri": "https://localhost:8080/"
    },
    "id": "e5444472-bd8a-4b1c-b82e-350866b799d4",
    "outputId": "ac4f560b-9069-41d4-d5ca-2694323a9e2a"
   },
   "outputs": [
    {
     "data": {
      "text/plain": [
       "array(['8a2a81a74ce8c05d014cfb32a0da1049',\n",
       "       '8a8588f35438fe12015444567666018e',\n",
       "       '8a85890754145ace015429211b513e16', ...,\n",
       "       '8a858f6459b6456d0159b69978f22bed',\n",
       "       '8a858fad5ccb633e015ccbe337372ab3',\n",
       "       '8a858f0656b7820c0156c92ca3ba436f'], shape=(4359,), dtype=object)"
      ]
     },
     "execution_count": 31,
     "metadata": {},
     "output_type": "execute_result"
    }
   ],
   "source": [
    "Previous_loan_data['customerid'].unique()"
   ]
  },
  {
   "cell_type": "code",
   "execution_count": 32,
   "id": "d0584743-b393-4b7e-9092-6b53a7402f89",
   "metadata": {
    "colab": {
     "base_uri": "https://localhost:8080/"
    },
    "id": "d0584743-b393-4b7e-9092-6b53a7402f89",
    "outputId": "3d5561bd-c677-4910-d527-08cfd451736f"
   },
   "outputs": [
    {
     "data": {
      "text/plain": [
       "array([301682320, 301883808, 301831714, ..., 301631653, 301697691,\n",
       "       301715255], shape=(18183,))"
      ]
     },
     "execution_count": 32,
     "metadata": {},
     "output_type": "execute_result"
    }
   ],
   "source": [
    "Previous_loan_data['systemloanid'].unique()"
   ]
  },
  {
   "cell_type": "code",
   "execution_count": 33,
   "id": "c67a3f83-9a73-48e0-b48a-3b53c4402c99",
   "metadata": {
    "colab": {
     "base_uri": "https://localhost:8080/"
    },
    "id": "c67a3f83-9a73-48e0-b48a-3b53c4402c99",
    "outputId": "bb54218c-56ba-4402-bab4-1d4d88fc87dd"
   },
   "outputs": [
    {
     "data": {
      "text/plain": [
       "np.int64(18183)"
      ]
     },
     "execution_count": 33,
     "metadata": {},
     "output_type": "execute_result"
    }
   ],
   "source": [
    "Previous_loan_data['systemloanid'].count()"
   ]
  },
  {
   "cell_type": "markdown",
   "id": "ba9c06ab-3a2f-48d7-a84a-45faceb04a2c",
   "metadata": {
    "id": "ba9c06ab-3a2f-48d7-a84a-45faceb04a2c"
   },
   "source": [
    "Feature Engineering: Previous_loan_data has repeated numbers of customers. Inorder to get the unique customers for Previous_loan_data, a new column will be created. Thus:\n",
    "First; Covert dates of the needed column of Previous_loan_data to datetime.\n",
    "Then; Create your feature engineering\n",
    "\n",
    "For my feature engineering, I want to get the customer's payment behaviour. So, I engineered my features as shown below"
   ]
  },
  {
   "cell_type": "code",
   "execution_count": 34,
   "id": "997ed2dd-b45a-4814-8952-cb94575ba3b6",
   "metadata": {
    "id": "997ed2dd-b45a-4814-8952-cb94575ba3b6"
   },
   "outputs": [],
   "source": [
    "Previous_loan_data['firstduedate'] = pd.to_datetime(Previous_loan_data['firstduedate'], errors = 'coerce')\n",
    "Previous_loan_data['firstrepaiddate'] = pd.to_datetime(Previous_loan_data['firstrepaiddate'], errors = 'coerce')\n"
   ]
  },
  {
   "cell_type": "code",
   "execution_count": 35,
   "id": "c85142bc-2862-4f44-9110-c76e6708b999",
   "metadata": {
    "id": "c85142bc-2862-4f44-9110-c76e6708b999"
   },
   "outputs": [],
   "source": [
    "Previous_loan_data['On_Time_Repayment'] = (Previous_loan_data['firstrepaiddate'] <= Previous_loan_data['firstduedate']).astype(int)\n",
    "Previous_loan_data['Late_Time_Repayment'] = (Previous_loan_data['firstrepaiddate'] > Previous_loan_data['firstduedate']).astype(int)\n",
    "Previous_loan_data['Default_Time_Repayment'] = Previous_loan_data['firstrepaiddate'].isna().astype(int)"
   ]
  },
  {
   "cell_type": "code",
   "execution_count": 36,
   "id": "c5c13dfe-c99f-4eec-841d-379124b39d67",
   "metadata": {
    "colab": {
     "base_uri": "https://localhost:8080/",
     "height": 206
    },
    "id": "c5c13dfe-c99f-4eec-841d-379124b39d67",
    "outputId": "b3f7e004-8934-4d86-9c0a-b0c00aafd62e"
   },
   "outputs": [
    {
     "data": {
      "text/html": [
       "<div>\n",
       "<style scoped>\n",
       "    .dataframe tbody tr th:only-of-type {\n",
       "        vertical-align: middle;\n",
       "    }\n",
       "\n",
       "    .dataframe tbody tr th {\n",
       "        vertical-align: top;\n",
       "    }\n",
       "\n",
       "    .dataframe thead th {\n",
       "        text-align: right;\n",
       "    }\n",
       "</style>\n",
       "<table border=\"1\" class=\"dataframe\">\n",
       "  <thead>\n",
       "    <tr style=\"text-align: right;\">\n",
       "      <th></th>\n",
       "      <th>customerid</th>\n",
       "      <th>On_Time_Repayment</th>\n",
       "      <th>Late_Time_Repayment</th>\n",
       "      <th>Default_Time_Repayment</th>\n",
       "    </tr>\n",
       "  </thead>\n",
       "  <tbody>\n",
       "    <tr>\n",
       "      <th>0</th>\n",
       "      <td>8a1088a0484472eb01484669e3ce4e0b</td>\n",
       "      <td>0</td>\n",
       "      <td>1</td>\n",
       "      <td>0</td>\n",
       "    </tr>\n",
       "    <tr>\n",
       "      <th>1</th>\n",
       "      <td>8a1a1e7e4f707f8b014f797718316cad</td>\n",
       "      <td>2</td>\n",
       "      <td>2</td>\n",
       "      <td>0</td>\n",
       "    </tr>\n",
       "    <tr>\n",
       "      <th>2</th>\n",
       "      <td>8a1a32fc49b632520149c3b8fdf85139</td>\n",
       "      <td>3</td>\n",
       "      <td>4</td>\n",
       "      <td>0</td>\n",
       "    </tr>\n",
       "    <tr>\n",
       "      <th>3</th>\n",
       "      <td>8a1eb5ba49a682300149c3c068b806c7</td>\n",
       "      <td>6</td>\n",
       "      <td>2</td>\n",
       "      <td>0</td>\n",
       "    </tr>\n",
       "    <tr>\n",
       "      <th>4</th>\n",
       "      <td>8a1edbf14734127f0147356fdb1b1eb2</td>\n",
       "      <td>1</td>\n",
       "      <td>1</td>\n",
       "      <td>0</td>\n",
       "    </tr>\n",
       "  </tbody>\n",
       "</table>\n",
       "</div>"
      ],
      "text/plain": [
       "                         customerid  On_Time_Repayment  Late_Time_Repayment  \\\n",
       "0  8a1088a0484472eb01484669e3ce4e0b                  0                    1   \n",
       "1  8a1a1e7e4f707f8b014f797718316cad                  2                    2   \n",
       "2  8a1a32fc49b632520149c3b8fdf85139                  3                    4   \n",
       "3  8a1eb5ba49a682300149c3c068b806c7                  6                    2   \n",
       "4  8a1edbf14734127f0147356fdb1b1eb2                  1                    1   \n",
       "\n",
       "   Default_Time_Repayment  \n",
       "0                       0  \n",
       "1                       0  \n",
       "2                       0  \n",
       "3                       0  \n",
       "4                       0  "
      ]
     },
     "execution_count": 36,
     "metadata": {},
     "output_type": "execute_result"
    }
   ],
   "source": [
    "Previous_loan_data_repayment = Previous_loan_data.groupby('customerid')[['On_Time_Repayment','Late_Time_Repayment','Default_Time_Repayment']].sum().reset_index()\n",
    "Previous_loan_data_repayment.head()"
   ]
  },
  {
   "cell_type": "markdown",
   "id": "3029a00d-534d-42c3-87a8-6db239d570b4",
   "metadata": {
    "id": "3029a00d-534d-42c3-87a8-6db239d570b4"
   },
   "source": [
    "From the above feature engineering, it denoted the number of times a customer repaid a loan on time and at a later time. Also, the default time shows the number of times a customer never repaid a loan collected."
   ]
  },
  {
   "cell_type": "code",
   "execution_count": 37,
   "id": "6a1334bb-608a-443f-95fb-34a79f05cecf",
   "metadata": {
    "colab": {
     "base_uri": "https://localhost:8080/"
    },
    "id": "6a1334bb-608a-443f-95fb-34a79f05cecf",
    "outputId": "4a8d40e4-a9b9-41d4-ab16-ddb1b674ece4"
   },
   "outputs": [
    {
     "data": {
      "text/plain": [
       "array(['8a1088a0484472eb01484669e3ce4e0b',\n",
       "       '8a1a1e7e4f707f8b014f797718316cad',\n",
       "       '8a1a32fc49b632520149c3b8fdf85139', ...,\n",
       "       '8a858fff5a36fe68015a3ac5851618ab',\n",
       "       '8a858fff5a36fe68015a3b8dcb8a3843',\n",
       "       '8a858fff5c79144c015c7bdbfc086ce1'], shape=(4359,), dtype=object)"
      ]
     },
     "execution_count": 37,
     "metadata": {},
     "output_type": "execute_result"
    }
   ],
   "source": [
    "Previous_loan_data_repayment['customerid'].unique()"
   ]
  },
  {
   "cell_type": "code",
   "execution_count": 38,
   "id": "b7b7a66c-6b59-4232-bb0e-31a1fa746daf",
   "metadata": {
    "colab": {
     "base_uri": "https://localhost:8080/"
    },
    "id": "b7b7a66c-6b59-4232-bb0e-31a1fa746daf",
    "outputId": "41f10103-66d8-4dc9-a4f2-8f516dfaa629"
   },
   "outputs": [
    {
     "data": {
      "text/plain": [
       "(4359, 4)"
      ]
     },
     "execution_count": 38,
     "metadata": {},
     "output_type": "execute_result"
    }
   ],
   "source": [
    "Previous_loan_data_repayment.shape"
   ]
  },
  {
   "cell_type": "markdown",
   "id": "c302180f-2114-404c-abeb-8565a191abaa",
   "metadata": {
    "id": "c302180f-2114-404c-abeb-8565a191abaa"
   },
   "source": [
    "Merge the 3 dataset on the customerid column (Demographic_data, Performance_data and Previous_loan_data_repayment)"
   ]
  },
  {
   "cell_type": "code",
   "execution_count": 39,
   "id": "5fa5f387-84ef-4f75-9856-c0ec42577384",
   "metadata": {
    "colab": {
     "base_uri": "https://localhost:8080/",
     "height": 313
    },
    "id": "5fa5f387-84ef-4f75-9856-c0ec42577384",
    "outputId": "d82e8bc3-e6c4-4f09-846d-0fdfbfedcc4d"
   },
   "outputs": [
    {
     "data": {
      "text/html": [
       "<div>\n",
       "<style scoped>\n",
       "    .dataframe tbody tr th:only-of-type {\n",
       "        vertical-align: middle;\n",
       "    }\n",
       "\n",
       "    .dataframe tbody tr th {\n",
       "        vertical-align: top;\n",
       "    }\n",
       "\n",
       "    .dataframe thead th {\n",
       "        text-align: right;\n",
       "    }\n",
       "</style>\n",
       "<table border=\"1\" class=\"dataframe\">\n",
       "  <thead>\n",
       "    <tr style=\"text-align: right;\">\n",
       "      <th></th>\n",
       "      <th>customerid</th>\n",
       "      <th>systemloanid</th>\n",
       "      <th>loannumber</th>\n",
       "      <th>approveddate</th>\n",
       "      <th>creationdate</th>\n",
       "      <th>loanamount</th>\n",
       "      <th>totaldue</th>\n",
       "      <th>termdays</th>\n",
       "      <th>good_bad_flag</th>\n",
       "      <th>birthdate</th>\n",
       "      <th>bank_account_type</th>\n",
       "      <th>longitude_gps</th>\n",
       "      <th>latitude_gps</th>\n",
       "      <th>bank_name_clients</th>\n",
       "      <th>bank_branch_clients</th>\n",
       "      <th>employment_status_clients</th>\n",
       "      <th>level_of_education_clients</th>\n",
       "    </tr>\n",
       "  </thead>\n",
       "  <tbody>\n",
       "    <tr>\n",
       "      <th>0</th>\n",
       "      <td>8a2a81a74ce8c05d014cfb32a0da1049</td>\n",
       "      <td>301994762</td>\n",
       "      <td>12</td>\n",
       "      <td>2017-07-25 08:22:56.000000</td>\n",
       "      <td>2017-07-25 07:22:47.000000</td>\n",
       "      <td>30000.0</td>\n",
       "      <td>34500.0</td>\n",
       "      <td>30</td>\n",
       "      <td>Good</td>\n",
       "      <td>1972-01-15 00:00:00.000000</td>\n",
       "      <td>Other</td>\n",
       "      <td>3.432010</td>\n",
       "      <td>6.433055</td>\n",
       "      <td>Diamond Bank</td>\n",
       "      <td>NaN</td>\n",
       "      <td>Permanent</td>\n",
       "      <td>Post-Graduate</td>\n",
       "    </tr>\n",
       "    <tr>\n",
       "      <th>1</th>\n",
       "      <td>8a85886e54beabf90154c0a29ae757c0</td>\n",
       "      <td>301965204</td>\n",
       "      <td>2</td>\n",
       "      <td>2017-07-05 17:04:41.000000</td>\n",
       "      <td>2017-07-05 16:04:18.000000</td>\n",
       "      <td>15000.0</td>\n",
       "      <td>17250.0</td>\n",
       "      <td>30</td>\n",
       "      <td>Good</td>\n",
       "      <td>1985-08-23 00:00:00.000000</td>\n",
       "      <td>Savings</td>\n",
       "      <td>3.885298</td>\n",
       "      <td>7.320700</td>\n",
       "      <td>GT Bank</td>\n",
       "      <td>DUGBE,IBADAN</td>\n",
       "      <td>Permanent</td>\n",
       "      <td>Graduate</td>\n",
       "    </tr>\n",
       "    <tr>\n",
       "      <th>2</th>\n",
       "      <td>8a8588f35438fe12015444567666018e</td>\n",
       "      <td>301966580</td>\n",
       "      <td>7</td>\n",
       "      <td>2017-07-06 14:52:57.000000</td>\n",
       "      <td>2017-07-06 13:52:51.000000</td>\n",
       "      <td>20000.0</td>\n",
       "      <td>22250.0</td>\n",
       "      <td>15</td>\n",
       "      <td>Good</td>\n",
       "      <td>1984-09-18 00:00:00.000000</td>\n",
       "      <td>Other</td>\n",
       "      <td>11.139350</td>\n",
       "      <td>10.292041</td>\n",
       "      <td>EcoBank</td>\n",
       "      <td>NaN</td>\n",
       "      <td>Permanent</td>\n",
       "      <td>NaN</td>\n",
       "    </tr>\n",
       "    <tr>\n",
       "      <th>3</th>\n",
       "      <td>8a85890754145ace015429211b513e16</td>\n",
       "      <td>301999343</td>\n",
       "      <td>3</td>\n",
       "      <td>2017-07-27 19:00:41.000000</td>\n",
       "      <td>2017-07-27 18:00:35.000000</td>\n",
       "      <td>10000.0</td>\n",
       "      <td>11500.0</td>\n",
       "      <td>15</td>\n",
       "      <td>Good</td>\n",
       "      <td>1977-10-10 00:00:00.000000</td>\n",
       "      <td>Savings</td>\n",
       "      <td>3.985770</td>\n",
       "      <td>7.491708</td>\n",
       "      <td>First Bank</td>\n",
       "      <td>NaN</td>\n",
       "      <td>Permanent</td>\n",
       "      <td>NaN</td>\n",
       "    </tr>\n",
       "    <tr>\n",
       "      <th>4</th>\n",
       "      <td>8a858970548359cc0154883481981866</td>\n",
       "      <td>301962360</td>\n",
       "      <td>9</td>\n",
       "      <td>2017-07-03 23:42:45.000000</td>\n",
       "      <td>2017-07-03 22:42:39.000000</td>\n",
       "      <td>40000.0</td>\n",
       "      <td>44000.0</td>\n",
       "      <td>30</td>\n",
       "      <td>Good</td>\n",
       "      <td>1986-09-07 00:00:00.000000</td>\n",
       "      <td>Other</td>\n",
       "      <td>7.457913</td>\n",
       "      <td>9.076574</td>\n",
       "      <td>GT Bank</td>\n",
       "      <td>NaN</td>\n",
       "      <td>Permanent</td>\n",
       "      <td>Primary</td>\n",
       "    </tr>\n",
       "  </tbody>\n",
       "</table>\n",
       "</div>"
      ],
      "text/plain": [
       "                         customerid  systemloanid  loannumber  \\\n",
       "0  8a2a81a74ce8c05d014cfb32a0da1049     301994762          12   \n",
       "1  8a85886e54beabf90154c0a29ae757c0     301965204           2   \n",
       "2  8a8588f35438fe12015444567666018e     301966580           7   \n",
       "3  8a85890754145ace015429211b513e16     301999343           3   \n",
       "4  8a858970548359cc0154883481981866     301962360           9   \n",
       "\n",
       "                 approveddate                creationdate  loanamount  \\\n",
       "0  2017-07-25 08:22:56.000000  2017-07-25 07:22:47.000000     30000.0   \n",
       "1  2017-07-05 17:04:41.000000  2017-07-05 16:04:18.000000     15000.0   \n",
       "2  2017-07-06 14:52:57.000000  2017-07-06 13:52:51.000000     20000.0   \n",
       "3  2017-07-27 19:00:41.000000  2017-07-27 18:00:35.000000     10000.0   \n",
       "4  2017-07-03 23:42:45.000000  2017-07-03 22:42:39.000000     40000.0   \n",
       "\n",
       "   totaldue  termdays good_bad_flag                   birthdate  \\\n",
       "0   34500.0        30          Good  1972-01-15 00:00:00.000000   \n",
       "1   17250.0        30          Good  1985-08-23 00:00:00.000000   \n",
       "2   22250.0        15          Good  1984-09-18 00:00:00.000000   \n",
       "3   11500.0        15          Good  1977-10-10 00:00:00.000000   \n",
       "4   44000.0        30          Good  1986-09-07 00:00:00.000000   \n",
       "\n",
       "  bank_account_type  longitude_gps  latitude_gps bank_name_clients  \\\n",
       "0             Other       3.432010      6.433055      Diamond Bank   \n",
       "1           Savings       3.885298      7.320700           GT Bank   \n",
       "2             Other      11.139350     10.292041           EcoBank   \n",
       "3           Savings       3.985770      7.491708        First Bank   \n",
       "4             Other       7.457913      9.076574           GT Bank   \n",
       "\n",
       "  bank_branch_clients employment_status_clients level_of_education_clients  \n",
       "0                 NaN                 Permanent              Post-Graduate  \n",
       "1        DUGBE,IBADAN                 Permanent                   Graduate  \n",
       "2                 NaN                 Permanent                        NaN  \n",
       "3                 NaN                 Permanent                        NaN  \n",
       "4                 NaN                 Permanent                    Primary  "
      ]
     },
     "execution_count": 39,
     "metadata": {},
     "output_type": "execute_result"
    }
   ],
   "source": [
    "df_merge = Demographic_data.merge(Performance_data, on = 'customerid', how = 'left' )\n",
    "df_merge.head()"
   ]
  },
  {
   "cell_type": "code",
   "execution_count": 40,
   "id": "70aa4b24-3dfa-4286-87b4-9fdfd9cbc366",
   "metadata": {
    "colab": {
     "base_uri": "https://localhost:8080/",
     "height": 313
    },
    "id": "70aa4b24-3dfa-4286-87b4-9fdfd9cbc366",
    "outputId": "a8e2af44-62de-443d-957c-cfd5003f1c92"
   },
   "outputs": [
    {
     "data": {
      "text/html": [
       "<div>\n",
       "<style scoped>\n",
       "    .dataframe tbody tr th:only-of-type {\n",
       "        vertical-align: middle;\n",
       "    }\n",
       "\n",
       "    .dataframe tbody tr th {\n",
       "        vertical-align: top;\n",
       "    }\n",
       "\n",
       "    .dataframe thead th {\n",
       "        text-align: right;\n",
       "    }\n",
       "</style>\n",
       "<table border=\"1\" class=\"dataframe\">\n",
       "  <thead>\n",
       "    <tr style=\"text-align: right;\">\n",
       "      <th></th>\n",
       "      <th>customerid</th>\n",
       "      <th>systemloanid</th>\n",
       "      <th>loannumber</th>\n",
       "      <th>approveddate</th>\n",
       "      <th>creationdate</th>\n",
       "      <th>loanamount</th>\n",
       "      <th>totaldue</th>\n",
       "      <th>termdays</th>\n",
       "      <th>good_bad_flag</th>\n",
       "      <th>birthdate</th>\n",
       "      <th>bank_account_type</th>\n",
       "      <th>longitude_gps</th>\n",
       "      <th>latitude_gps</th>\n",
       "      <th>bank_name_clients</th>\n",
       "      <th>bank_branch_clients</th>\n",
       "      <th>employment_status_clients</th>\n",
       "      <th>level_of_education_clients</th>\n",
       "      <th>On_Time_Repayment</th>\n",
       "      <th>Late_Time_Repayment</th>\n",
       "      <th>Default_Time_Repayment</th>\n",
       "    </tr>\n",
       "  </thead>\n",
       "  <tbody>\n",
       "    <tr>\n",
       "      <th>0</th>\n",
       "      <td>8a2a81a74ce8c05d014cfb32a0da1049</td>\n",
       "      <td>301994762</td>\n",
       "      <td>12</td>\n",
       "      <td>2017-07-25 08:22:56.000000</td>\n",
       "      <td>2017-07-25 07:22:47.000000</td>\n",
       "      <td>30000.0</td>\n",
       "      <td>34500.0</td>\n",
       "      <td>30</td>\n",
       "      <td>Good</td>\n",
       "      <td>1972-01-15 00:00:00.000000</td>\n",
       "      <td>Other</td>\n",
       "      <td>3.432010</td>\n",
       "      <td>6.433055</td>\n",
       "      <td>Diamond Bank</td>\n",
       "      <td>NaN</td>\n",
       "      <td>Permanent</td>\n",
       "      <td>Post-Graduate</td>\n",
       "      <td>7.0</td>\n",
       "      <td>4.0</td>\n",
       "      <td>0.0</td>\n",
       "    </tr>\n",
       "    <tr>\n",
       "      <th>1</th>\n",
       "      <td>8a85886e54beabf90154c0a29ae757c0</td>\n",
       "      <td>301965204</td>\n",
       "      <td>2</td>\n",
       "      <td>2017-07-05 17:04:41.000000</td>\n",
       "      <td>2017-07-05 16:04:18.000000</td>\n",
       "      <td>15000.0</td>\n",
       "      <td>17250.0</td>\n",
       "      <td>30</td>\n",
       "      <td>Good</td>\n",
       "      <td>1985-08-23 00:00:00.000000</td>\n",
       "      <td>Savings</td>\n",
       "      <td>3.885298</td>\n",
       "      <td>7.320700</td>\n",
       "      <td>GT Bank</td>\n",
       "      <td>DUGBE,IBADAN</td>\n",
       "      <td>Permanent</td>\n",
       "      <td>Graduate</td>\n",
       "      <td>NaN</td>\n",
       "      <td>NaN</td>\n",
       "      <td>NaN</td>\n",
       "    </tr>\n",
       "    <tr>\n",
       "      <th>2</th>\n",
       "      <td>8a8588f35438fe12015444567666018e</td>\n",
       "      <td>301966580</td>\n",
       "      <td>7</td>\n",
       "      <td>2017-07-06 14:52:57.000000</td>\n",
       "      <td>2017-07-06 13:52:51.000000</td>\n",
       "      <td>20000.0</td>\n",
       "      <td>22250.0</td>\n",
       "      <td>15</td>\n",
       "      <td>Good</td>\n",
       "      <td>1984-09-18 00:00:00.000000</td>\n",
       "      <td>Other</td>\n",
       "      <td>11.139350</td>\n",
       "      <td>10.292041</td>\n",
       "      <td>EcoBank</td>\n",
       "      <td>NaN</td>\n",
       "      <td>Permanent</td>\n",
       "      <td>NaN</td>\n",
       "      <td>3.0</td>\n",
       "      <td>3.0</td>\n",
       "      <td>0.0</td>\n",
       "    </tr>\n",
       "    <tr>\n",
       "      <th>3</th>\n",
       "      <td>8a85890754145ace015429211b513e16</td>\n",
       "      <td>301999343</td>\n",
       "      <td>3</td>\n",
       "      <td>2017-07-27 19:00:41.000000</td>\n",
       "      <td>2017-07-27 18:00:35.000000</td>\n",
       "      <td>10000.0</td>\n",
       "      <td>11500.0</td>\n",
       "      <td>15</td>\n",
       "      <td>Good</td>\n",
       "      <td>1977-10-10 00:00:00.000000</td>\n",
       "      <td>Savings</td>\n",
       "      <td>3.985770</td>\n",
       "      <td>7.491708</td>\n",
       "      <td>First Bank</td>\n",
       "      <td>NaN</td>\n",
       "      <td>Permanent</td>\n",
       "      <td>NaN</td>\n",
       "      <td>0.0</td>\n",
       "      <td>2.0</td>\n",
       "      <td>0.0</td>\n",
       "    </tr>\n",
       "    <tr>\n",
       "      <th>4</th>\n",
       "      <td>8a858970548359cc0154883481981866</td>\n",
       "      <td>301962360</td>\n",
       "      <td>9</td>\n",
       "      <td>2017-07-03 23:42:45.000000</td>\n",
       "      <td>2017-07-03 22:42:39.000000</td>\n",
       "      <td>40000.0</td>\n",
       "      <td>44000.0</td>\n",
       "      <td>30</td>\n",
       "      <td>Good</td>\n",
       "      <td>1986-09-07 00:00:00.000000</td>\n",
       "      <td>Other</td>\n",
       "      <td>7.457913</td>\n",
       "      <td>9.076574</td>\n",
       "      <td>GT Bank</td>\n",
       "      <td>NaN</td>\n",
       "      <td>Permanent</td>\n",
       "      <td>Primary</td>\n",
       "      <td>8.0</td>\n",
       "      <td>0.0</td>\n",
       "      <td>0.0</td>\n",
       "    </tr>\n",
       "  </tbody>\n",
       "</table>\n",
       "</div>"
      ],
      "text/plain": [
       "                         customerid  systemloanid  loannumber  \\\n",
       "0  8a2a81a74ce8c05d014cfb32a0da1049     301994762          12   \n",
       "1  8a85886e54beabf90154c0a29ae757c0     301965204           2   \n",
       "2  8a8588f35438fe12015444567666018e     301966580           7   \n",
       "3  8a85890754145ace015429211b513e16     301999343           3   \n",
       "4  8a858970548359cc0154883481981866     301962360           9   \n",
       "\n",
       "                 approveddate                creationdate  loanamount  \\\n",
       "0  2017-07-25 08:22:56.000000  2017-07-25 07:22:47.000000     30000.0   \n",
       "1  2017-07-05 17:04:41.000000  2017-07-05 16:04:18.000000     15000.0   \n",
       "2  2017-07-06 14:52:57.000000  2017-07-06 13:52:51.000000     20000.0   \n",
       "3  2017-07-27 19:00:41.000000  2017-07-27 18:00:35.000000     10000.0   \n",
       "4  2017-07-03 23:42:45.000000  2017-07-03 22:42:39.000000     40000.0   \n",
       "\n",
       "   totaldue  termdays good_bad_flag                   birthdate  \\\n",
       "0   34500.0        30          Good  1972-01-15 00:00:00.000000   \n",
       "1   17250.0        30          Good  1985-08-23 00:00:00.000000   \n",
       "2   22250.0        15          Good  1984-09-18 00:00:00.000000   \n",
       "3   11500.0        15          Good  1977-10-10 00:00:00.000000   \n",
       "4   44000.0        30          Good  1986-09-07 00:00:00.000000   \n",
       "\n",
       "  bank_account_type  longitude_gps  latitude_gps bank_name_clients  \\\n",
       "0             Other       3.432010      6.433055      Diamond Bank   \n",
       "1           Savings       3.885298      7.320700           GT Bank   \n",
       "2             Other      11.139350     10.292041           EcoBank   \n",
       "3           Savings       3.985770      7.491708        First Bank   \n",
       "4             Other       7.457913      9.076574           GT Bank   \n",
       "\n",
       "  bank_branch_clients employment_status_clients level_of_education_clients  \\\n",
       "0                 NaN                 Permanent              Post-Graduate   \n",
       "1        DUGBE,IBADAN                 Permanent                   Graduate   \n",
       "2                 NaN                 Permanent                        NaN   \n",
       "3                 NaN                 Permanent                        NaN   \n",
       "4                 NaN                 Permanent                    Primary   \n",
       "\n",
       "   On_Time_Repayment  Late_Time_Repayment  Default_Time_Repayment  \n",
       "0                7.0                  4.0                     0.0  \n",
       "1                NaN                  NaN                     NaN  \n",
       "2                3.0                  3.0                     0.0  \n",
       "3                0.0                  2.0                     0.0  \n",
       "4                8.0                  0.0                     0.0  "
      ]
     },
     "execution_count": 40,
     "metadata": {},
     "output_type": "execute_result"
    }
   ],
   "source": [
    "df = df_merge.merge(Previous_loan_data_repayment, on = 'customerid', how = 'left' )\n",
    "df.head()"
   ]
  },
  {
   "cell_type": "markdown",
   "id": "4659b54b-84ca-4f90-8c2b-050a98ae6b9b",
   "metadata": {
    "id": "4659b54b-84ca-4f90-8c2b-050a98ae6b9b"
   },
   "source": [
    "Data understanding for the merged dataset(df)"
   ]
  },
  {
   "cell_type": "code",
   "execution_count": 41,
   "id": "638825de-249b-4009-82c0-8faaaac533fb",
   "metadata": {
    "colab": {
     "base_uri": "https://localhost:8080/",
     "height": 313
    },
    "id": "638825de-249b-4009-82c0-8faaaac533fb",
    "outputId": "6e61587d-50d8-4b3b-de0f-654a198dc83d"
   },
   "outputs": [
    {
     "data": {
      "text/html": [
       "<div>\n",
       "<style scoped>\n",
       "    .dataframe tbody tr th:only-of-type {\n",
       "        vertical-align: middle;\n",
       "    }\n",
       "\n",
       "    .dataframe tbody tr th {\n",
       "        vertical-align: top;\n",
       "    }\n",
       "\n",
       "    .dataframe thead th {\n",
       "        text-align: right;\n",
       "    }\n",
       "</style>\n",
       "<table border=\"1\" class=\"dataframe\">\n",
       "  <thead>\n",
       "    <tr style=\"text-align: right;\">\n",
       "      <th></th>\n",
       "      <th>customerid</th>\n",
       "      <th>systemloanid</th>\n",
       "      <th>loannumber</th>\n",
       "      <th>approveddate</th>\n",
       "      <th>creationdate</th>\n",
       "      <th>loanamount</th>\n",
       "      <th>totaldue</th>\n",
       "      <th>termdays</th>\n",
       "      <th>good_bad_flag</th>\n",
       "      <th>birthdate</th>\n",
       "      <th>bank_account_type</th>\n",
       "      <th>longitude_gps</th>\n",
       "      <th>latitude_gps</th>\n",
       "      <th>bank_name_clients</th>\n",
       "      <th>bank_branch_clients</th>\n",
       "      <th>employment_status_clients</th>\n",
       "      <th>level_of_education_clients</th>\n",
       "      <th>On_Time_Repayment</th>\n",
       "      <th>Late_Time_Repayment</th>\n",
       "      <th>Default_Time_Repayment</th>\n",
       "    </tr>\n",
       "  </thead>\n",
       "  <tbody>\n",
       "    <tr>\n",
       "      <th>0</th>\n",
       "      <td>8a2a81a74ce8c05d014cfb32a0da1049</td>\n",
       "      <td>301994762</td>\n",
       "      <td>12</td>\n",
       "      <td>2017-07-25 08:22:56.000000</td>\n",
       "      <td>2017-07-25 07:22:47.000000</td>\n",
       "      <td>30000.0</td>\n",
       "      <td>34500.0</td>\n",
       "      <td>30</td>\n",
       "      <td>Good</td>\n",
       "      <td>1972-01-15 00:00:00.000000</td>\n",
       "      <td>Other</td>\n",
       "      <td>3.432010</td>\n",
       "      <td>6.433055</td>\n",
       "      <td>Diamond Bank</td>\n",
       "      <td>NaN</td>\n",
       "      <td>Permanent</td>\n",
       "      <td>Post-Graduate</td>\n",
       "      <td>7.0</td>\n",
       "      <td>4.0</td>\n",
       "      <td>0.0</td>\n",
       "    </tr>\n",
       "    <tr>\n",
       "      <th>1</th>\n",
       "      <td>8a85886e54beabf90154c0a29ae757c0</td>\n",
       "      <td>301965204</td>\n",
       "      <td>2</td>\n",
       "      <td>2017-07-05 17:04:41.000000</td>\n",
       "      <td>2017-07-05 16:04:18.000000</td>\n",
       "      <td>15000.0</td>\n",
       "      <td>17250.0</td>\n",
       "      <td>30</td>\n",
       "      <td>Good</td>\n",
       "      <td>1985-08-23 00:00:00.000000</td>\n",
       "      <td>Savings</td>\n",
       "      <td>3.885298</td>\n",
       "      <td>7.320700</td>\n",
       "      <td>GT Bank</td>\n",
       "      <td>DUGBE,IBADAN</td>\n",
       "      <td>Permanent</td>\n",
       "      <td>Graduate</td>\n",
       "      <td>NaN</td>\n",
       "      <td>NaN</td>\n",
       "      <td>NaN</td>\n",
       "    </tr>\n",
       "    <tr>\n",
       "      <th>2</th>\n",
       "      <td>8a8588f35438fe12015444567666018e</td>\n",
       "      <td>301966580</td>\n",
       "      <td>7</td>\n",
       "      <td>2017-07-06 14:52:57.000000</td>\n",
       "      <td>2017-07-06 13:52:51.000000</td>\n",
       "      <td>20000.0</td>\n",
       "      <td>22250.0</td>\n",
       "      <td>15</td>\n",
       "      <td>Good</td>\n",
       "      <td>1984-09-18 00:00:00.000000</td>\n",
       "      <td>Other</td>\n",
       "      <td>11.139350</td>\n",
       "      <td>10.292041</td>\n",
       "      <td>EcoBank</td>\n",
       "      <td>NaN</td>\n",
       "      <td>Permanent</td>\n",
       "      <td>NaN</td>\n",
       "      <td>3.0</td>\n",
       "      <td>3.0</td>\n",
       "      <td>0.0</td>\n",
       "    </tr>\n",
       "    <tr>\n",
       "      <th>3</th>\n",
       "      <td>8a85890754145ace015429211b513e16</td>\n",
       "      <td>301999343</td>\n",
       "      <td>3</td>\n",
       "      <td>2017-07-27 19:00:41.000000</td>\n",
       "      <td>2017-07-27 18:00:35.000000</td>\n",
       "      <td>10000.0</td>\n",
       "      <td>11500.0</td>\n",
       "      <td>15</td>\n",
       "      <td>Good</td>\n",
       "      <td>1977-10-10 00:00:00.000000</td>\n",
       "      <td>Savings</td>\n",
       "      <td>3.985770</td>\n",
       "      <td>7.491708</td>\n",
       "      <td>First Bank</td>\n",
       "      <td>NaN</td>\n",
       "      <td>Permanent</td>\n",
       "      <td>NaN</td>\n",
       "      <td>0.0</td>\n",
       "      <td>2.0</td>\n",
       "      <td>0.0</td>\n",
       "    </tr>\n",
       "    <tr>\n",
       "      <th>4</th>\n",
       "      <td>8a858970548359cc0154883481981866</td>\n",
       "      <td>301962360</td>\n",
       "      <td>9</td>\n",
       "      <td>2017-07-03 23:42:45.000000</td>\n",
       "      <td>2017-07-03 22:42:39.000000</td>\n",
       "      <td>40000.0</td>\n",
       "      <td>44000.0</td>\n",
       "      <td>30</td>\n",
       "      <td>Good</td>\n",
       "      <td>1986-09-07 00:00:00.000000</td>\n",
       "      <td>Other</td>\n",
       "      <td>7.457913</td>\n",
       "      <td>9.076574</td>\n",
       "      <td>GT Bank</td>\n",
       "      <td>NaN</td>\n",
       "      <td>Permanent</td>\n",
       "      <td>Primary</td>\n",
       "      <td>8.0</td>\n",
       "      <td>0.0</td>\n",
       "      <td>0.0</td>\n",
       "    </tr>\n",
       "  </tbody>\n",
       "</table>\n",
       "</div>"
      ],
      "text/plain": [
       "                         customerid  systemloanid  loannumber  \\\n",
       "0  8a2a81a74ce8c05d014cfb32a0da1049     301994762          12   \n",
       "1  8a85886e54beabf90154c0a29ae757c0     301965204           2   \n",
       "2  8a8588f35438fe12015444567666018e     301966580           7   \n",
       "3  8a85890754145ace015429211b513e16     301999343           3   \n",
       "4  8a858970548359cc0154883481981866     301962360           9   \n",
       "\n",
       "                 approveddate                creationdate  loanamount  \\\n",
       "0  2017-07-25 08:22:56.000000  2017-07-25 07:22:47.000000     30000.0   \n",
       "1  2017-07-05 17:04:41.000000  2017-07-05 16:04:18.000000     15000.0   \n",
       "2  2017-07-06 14:52:57.000000  2017-07-06 13:52:51.000000     20000.0   \n",
       "3  2017-07-27 19:00:41.000000  2017-07-27 18:00:35.000000     10000.0   \n",
       "4  2017-07-03 23:42:45.000000  2017-07-03 22:42:39.000000     40000.0   \n",
       "\n",
       "   totaldue  termdays good_bad_flag                   birthdate  \\\n",
       "0   34500.0        30          Good  1972-01-15 00:00:00.000000   \n",
       "1   17250.0        30          Good  1985-08-23 00:00:00.000000   \n",
       "2   22250.0        15          Good  1984-09-18 00:00:00.000000   \n",
       "3   11500.0        15          Good  1977-10-10 00:00:00.000000   \n",
       "4   44000.0        30          Good  1986-09-07 00:00:00.000000   \n",
       "\n",
       "  bank_account_type  longitude_gps  latitude_gps bank_name_clients  \\\n",
       "0             Other       3.432010      6.433055      Diamond Bank   \n",
       "1           Savings       3.885298      7.320700           GT Bank   \n",
       "2             Other      11.139350     10.292041           EcoBank   \n",
       "3           Savings       3.985770      7.491708        First Bank   \n",
       "4             Other       7.457913      9.076574           GT Bank   \n",
       "\n",
       "  bank_branch_clients employment_status_clients level_of_education_clients  \\\n",
       "0                 NaN                 Permanent              Post-Graduate   \n",
       "1        DUGBE,IBADAN                 Permanent                   Graduate   \n",
       "2                 NaN                 Permanent                        NaN   \n",
       "3                 NaN                 Permanent                        NaN   \n",
       "4                 NaN                 Permanent                    Primary   \n",
       "\n",
       "   On_Time_Repayment  Late_Time_Repayment  Default_Time_Repayment  \n",
       "0                7.0                  4.0                     0.0  \n",
       "1                NaN                  NaN                     NaN  \n",
       "2                3.0                  3.0                     0.0  \n",
       "3                0.0                  2.0                     0.0  \n",
       "4                8.0                  0.0                     0.0  "
      ]
     },
     "execution_count": 41,
     "metadata": {},
     "output_type": "execute_result"
    }
   ],
   "source": [
    "df.head()"
   ]
  },
  {
   "cell_type": "code",
   "execution_count": 42,
   "id": "27af3afb-1eed-4f37-a41d-580401b0d725",
   "metadata": {
    "colab": {
     "base_uri": "https://localhost:8080/"
    },
    "id": "27af3afb-1eed-4f37-a41d-580401b0d725",
    "outputId": "eca8dc0c-3eea-460e-8b42-c9926178d4bb"
   },
   "outputs": [
    {
     "data": {
      "text/plain": [
       "Index(['customerid', 'systemloanid', 'loannumber', 'approveddate',\n",
       "       'creationdate', 'loanamount', 'totaldue', 'termdays', 'good_bad_flag',\n",
       "       'birthdate', 'bank_account_type', 'longitude_gps', 'latitude_gps',\n",
       "       'bank_name_clients', 'bank_branch_clients', 'employment_status_clients',\n",
       "       'level_of_education_clients', 'On_Time_Repayment',\n",
       "       'Late_Time_Repayment', 'Default_Time_Repayment'],\n",
       "      dtype='object')"
      ]
     },
     "execution_count": 42,
     "metadata": {},
     "output_type": "execute_result"
    }
   ],
   "source": [
    "df.columns"
   ]
  },
  {
   "cell_type": "code",
   "execution_count": 43,
   "id": "32aa9f6e-7474-4245-902a-802bcf1d6733",
   "metadata": {
    "colab": {
     "base_uri": "https://localhost:8080/"
    },
    "id": "32aa9f6e-7474-4245-902a-802bcf1d6733",
    "outputId": "386874d2-51fc-40ad-c2b8-26dbb5f6e9dd"
   },
   "outputs": [
    {
     "data": {
      "text/plain": [
       "(4368, 20)"
      ]
     },
     "execution_count": 43,
     "metadata": {},
     "output_type": "execute_result"
    }
   ],
   "source": [
    "df.shape"
   ]
  },
  {
   "cell_type": "code",
   "execution_count": 44,
   "id": "42a989b3-04c8-4730-ab30-33c521038dc7",
   "metadata": {
    "colab": {
     "base_uri": "https://localhost:8080/"
    },
    "id": "42a989b3-04c8-4730-ab30-33c521038dc7",
    "outputId": "d8ffa7d2-7154-41f4-e367-2f77e3dc99d6"
   },
   "outputs": [
    {
     "name": "stdout",
     "output_type": "stream",
     "text": [
      "<class 'pandas.core.frame.DataFrame'>\n",
      "RangeIndex: 4368 entries, 0 to 4367\n",
      "Data columns (total 20 columns):\n",
      " #   Column                      Non-Null Count  Dtype  \n",
      "---  ------                      --------------  -----  \n",
      " 0   customerid                  4368 non-null   object \n",
      " 1   systemloanid                4368 non-null   int64  \n",
      " 2   loannumber                  4368 non-null   int64  \n",
      " 3   approveddate                4368 non-null   object \n",
      " 4   creationdate                4368 non-null   object \n",
      " 5   loanamount                  4368 non-null   float64\n",
      " 6   totaldue                    4368 non-null   float64\n",
      " 7   termdays                    4368 non-null   int64  \n",
      " 8   good_bad_flag               4368 non-null   object \n",
      " 9   birthdate                   3269 non-null   object \n",
      " 10  bank_account_type           3269 non-null   object \n",
      " 11  longitude_gps               3269 non-null   float64\n",
      " 12  latitude_gps                3269 non-null   float64\n",
      " 13  bank_name_clients           3269 non-null   object \n",
      " 14  bank_branch_clients         33 non-null     object \n",
      " 15  employment_status_clients   2776 non-null   object \n",
      " 16  level_of_education_clients  443 non-null    object \n",
      " 17  On_Time_Repayment           4359 non-null   float64\n",
      " 18  Late_Time_Repayment         4359 non-null   float64\n",
      " 19  Default_Time_Repayment      4359 non-null   float64\n",
      "dtypes: float64(7), int64(3), object(10)\n",
      "memory usage: 682.6+ KB\n"
     ]
    }
   ],
   "source": [
    "df.info()"
   ]
  },
  {
   "cell_type": "markdown",
   "id": "1389fabe-2d7e-4cb0-b6b5-6150d902237d",
   "metadata": {
    "id": "1389fabe-2d7e-4cb0-b6b5-6150d902237d"
   },
   "source": [
    "From the above information, I observed that the datatypes are corresponding, i.e, it is as it should be"
   ]
  },
  {
   "cell_type": "markdown",
   "id": "96f67b3e-6c75-400b-b218-d18a2d2224f3",
   "metadata": {
    "id": "96f67b3e-6c75-400b-b218-d18a2d2224f3"
   },
   "source": [
    "Descriptive statistic for df"
   ]
  },
  {
   "cell_type": "code",
   "execution_count": 45,
   "id": "485c2a94-e72c-4f15-9b6d-df9b6e664e2e",
   "metadata": {
    "colab": {
     "base_uri": "https://localhost:8080/",
     "height": 363
    },
    "id": "485c2a94-e72c-4f15-9b6d-df9b6e664e2e",
    "outputId": "a0a68526-a9d3-416e-8d85-75cd3c9c701a"
   },
   "outputs": [
    {
     "data": {
      "text/html": [
       "<div>\n",
       "<style scoped>\n",
       "    .dataframe tbody tr th:only-of-type {\n",
       "        vertical-align: middle;\n",
       "    }\n",
       "\n",
       "    .dataframe tbody tr th {\n",
       "        vertical-align: top;\n",
       "    }\n",
       "\n",
       "    .dataframe thead th {\n",
       "        text-align: right;\n",
       "    }\n",
       "</style>\n",
       "<table border=\"1\" class=\"dataframe\">\n",
       "  <thead>\n",
       "    <tr style=\"text-align: right;\">\n",
       "      <th></th>\n",
       "      <th>count</th>\n",
       "      <th>mean</th>\n",
       "      <th>std</th>\n",
       "      <th>min</th>\n",
       "      <th>25%</th>\n",
       "      <th>50%</th>\n",
       "      <th>75%</th>\n",
       "      <th>max</th>\n",
       "    </tr>\n",
       "  </thead>\n",
       "  <tbody>\n",
       "    <tr>\n",
       "      <th>systemloanid</th>\n",
       "      <td>4368.0</td>\n",
       "      <td>3.019810e+08</td>\n",
       "      <td>13431.151516</td>\n",
       "      <td>3.019585e+08</td>\n",
       "      <td>3.019691e+08</td>\n",
       "      <td>3.019801e+08</td>\n",
       "      <td>3.019935e+08</td>\n",
       "      <td>3.020040e+08</td>\n",
       "    </tr>\n",
       "    <tr>\n",
       "      <th>loannumber</th>\n",
       "      <td>4368.0</td>\n",
       "      <td>5.172390e+00</td>\n",
       "      <td>3.653569</td>\n",
       "      <td>2.000000e+00</td>\n",
       "      <td>2.000000e+00</td>\n",
       "      <td>4.000000e+00</td>\n",
       "      <td>7.000000e+00</td>\n",
       "      <td>2.700000e+01</td>\n",
       "    </tr>\n",
       "    <tr>\n",
       "      <th>loanamount</th>\n",
       "      <td>4368.0</td>\n",
       "      <td>1.780907e+04</td>\n",
       "      <td>10749.694571</td>\n",
       "      <td>1.000000e+04</td>\n",
       "      <td>1.000000e+04</td>\n",
       "      <td>1.000000e+04</td>\n",
       "      <td>2.000000e+04</td>\n",
       "      <td>6.000000e+04</td>\n",
       "    </tr>\n",
       "    <tr>\n",
       "      <th>totaldue</th>\n",
       "      <td>4368.0</td>\n",
       "      <td>2.125738e+04</td>\n",
       "      <td>11943.510416</td>\n",
       "      <td>1.000000e+04</td>\n",
       "      <td>1.300000e+04</td>\n",
       "      <td>1.300000e+04</td>\n",
       "      <td>2.450000e+04</td>\n",
       "      <td>6.810000e+04</td>\n",
       "    </tr>\n",
       "    <tr>\n",
       "      <th>termdays</th>\n",
       "      <td>4368.0</td>\n",
       "      <td>2.926168e+01</td>\n",
       "      <td>11.512519</td>\n",
       "      <td>1.500000e+01</td>\n",
       "      <td>3.000000e+01</td>\n",
       "      <td>3.000000e+01</td>\n",
       "      <td>3.000000e+01</td>\n",
       "      <td>9.000000e+01</td>\n",
       "    </tr>\n",
       "    <tr>\n",
       "      <th>longitude_gps</th>\n",
       "      <td>3269.0</td>\n",
       "      <td>4.530975e+00</td>\n",
       "      <td>7.925454</td>\n",
       "      <td>-1.182470e+02</td>\n",
       "      <td>3.354842e+00</td>\n",
       "      <td>3.584222e+00</td>\n",
       "      <td>6.439855e+00</td>\n",
       "      <td>1.512093e+02</td>\n",
       "    </tr>\n",
       "    <tr>\n",
       "      <th>latitude_gps</th>\n",
       "      <td>3269.0</td>\n",
       "      <td>7.290383e+00</td>\n",
       "      <td>3.269601</td>\n",
       "      <td>-3.386882e+01</td>\n",
       "      <td>6.473645e+00</td>\n",
       "      <td>6.625681e+00</td>\n",
       "      <td>7.426745e+00</td>\n",
       "      <td>7.122807e+01</td>\n",
       "    </tr>\n",
       "    <tr>\n",
       "      <th>On_Time_Repayment</th>\n",
       "      <td>4359.0</td>\n",
       "      <td>2.683643e+00</td>\n",
       "      <td>2.874886</td>\n",
       "      <td>0.000000e+00</td>\n",
       "      <td>1.000000e+00</td>\n",
       "      <td>2.000000e+00</td>\n",
       "      <td>4.000000e+00</td>\n",
       "      <td>2.500000e+01</td>\n",
       "    </tr>\n",
       "    <tr>\n",
       "      <th>Late_Time_Repayment</th>\n",
       "      <td>4359.0</td>\n",
       "      <td>1.487727e+00</td>\n",
       "      <td>1.860133</td>\n",
       "      <td>0.000000e+00</td>\n",
       "      <td>0.000000e+00</td>\n",
       "      <td>1.000000e+00</td>\n",
       "      <td>2.000000e+00</td>\n",
       "      <td>1.200000e+01</td>\n",
       "    </tr>\n",
       "    <tr>\n",
       "      <th>Default_Time_Repayment</th>\n",
       "      <td>4359.0</td>\n",
       "      <td>0.000000e+00</td>\n",
       "      <td>0.000000</td>\n",
       "      <td>0.000000e+00</td>\n",
       "      <td>0.000000e+00</td>\n",
       "      <td>0.000000e+00</td>\n",
       "      <td>0.000000e+00</td>\n",
       "      <td>0.000000e+00</td>\n",
       "    </tr>\n",
       "  </tbody>\n",
       "</table>\n",
       "</div>"
      ],
      "text/plain": [
       "                         count          mean           std           min  \\\n",
       "systemloanid            4368.0  3.019810e+08  13431.151516  3.019585e+08   \n",
       "loannumber              4368.0  5.172390e+00      3.653569  2.000000e+00   \n",
       "loanamount              4368.0  1.780907e+04  10749.694571  1.000000e+04   \n",
       "totaldue                4368.0  2.125738e+04  11943.510416  1.000000e+04   \n",
       "termdays                4368.0  2.926168e+01     11.512519  1.500000e+01   \n",
       "longitude_gps           3269.0  4.530975e+00      7.925454 -1.182470e+02   \n",
       "latitude_gps            3269.0  7.290383e+00      3.269601 -3.386882e+01   \n",
       "On_Time_Repayment       4359.0  2.683643e+00      2.874886  0.000000e+00   \n",
       "Late_Time_Repayment     4359.0  1.487727e+00      1.860133  0.000000e+00   \n",
       "Default_Time_Repayment  4359.0  0.000000e+00      0.000000  0.000000e+00   \n",
       "\n",
       "                                 25%           50%           75%           max  \n",
       "systemloanid            3.019691e+08  3.019801e+08  3.019935e+08  3.020040e+08  \n",
       "loannumber              2.000000e+00  4.000000e+00  7.000000e+00  2.700000e+01  \n",
       "loanamount              1.000000e+04  1.000000e+04  2.000000e+04  6.000000e+04  \n",
       "totaldue                1.300000e+04  1.300000e+04  2.450000e+04  6.810000e+04  \n",
       "termdays                3.000000e+01  3.000000e+01  3.000000e+01  9.000000e+01  \n",
       "longitude_gps           3.354842e+00  3.584222e+00  6.439855e+00  1.512093e+02  \n",
       "latitude_gps            6.473645e+00  6.625681e+00  7.426745e+00  7.122807e+01  \n",
       "On_Time_Repayment       1.000000e+00  2.000000e+00  4.000000e+00  2.500000e+01  \n",
       "Late_Time_Repayment     0.000000e+00  1.000000e+00  2.000000e+00  1.200000e+01  \n",
       "Default_Time_Repayment  0.000000e+00  0.000000e+00  0.000000e+00  0.000000e+00  "
      ]
     },
     "execution_count": 45,
     "metadata": {},
     "output_type": "execute_result"
    }
   ],
   "source": [
    "df.describe().T"
   ]
  },
  {
   "cell_type": "markdown",
   "id": "0c07bad3-f7a2-448d-b725-a5da5be8b314",
   "metadata": {
    "id": "0c07bad3-f7a2-448d-b725-a5da5be8b314"
   },
   "source": [
    "Check for missing values"
   ]
  },
  {
   "cell_type": "code",
   "execution_count": 46,
   "id": "c414721c-49b2-4e53-93ff-9d180aab794a",
   "metadata": {
    "colab": {
     "base_uri": "https://localhost:8080/",
     "height": 711
    },
    "id": "c414721c-49b2-4e53-93ff-9d180aab794a",
    "outputId": "1feeeb87-bf85-4581-b28a-47f1dd780159"
   },
   "outputs": [
    {
     "data": {
      "text/plain": [
       "customerid                       0\n",
       "systemloanid                     0\n",
       "loannumber                       0\n",
       "approveddate                     0\n",
       "creationdate                     0\n",
       "loanamount                       0\n",
       "totaldue                         0\n",
       "termdays                         0\n",
       "good_bad_flag                    0\n",
       "birthdate                     1099\n",
       "bank_account_type             1099\n",
       "longitude_gps                 1099\n",
       "latitude_gps                  1099\n",
       "bank_name_clients             1099\n",
       "bank_branch_clients           4335\n",
       "employment_status_clients     1592\n",
       "level_of_education_clients    3925\n",
       "On_Time_Repayment                9\n",
       "Late_Time_Repayment              9\n",
       "Default_Time_Repayment           9\n",
       "dtype: int64"
      ]
     },
     "execution_count": 46,
     "metadata": {},
     "output_type": "execute_result"
    }
   ],
   "source": [
    "df.isna().sum()"
   ]
  },
  {
   "cell_type": "markdown",
   "id": "13bf5f07-b205-4154-916c-e5b79bb8b279",
   "metadata": {
    "id": "13bf5f07-b205-4154-916c-e5b79bb8b279"
   },
   "source": [
    "Check for the percentage of missing values"
   ]
  },
  {
   "cell_type": "code",
   "execution_count": 47,
   "id": "3e4993c4-2959-4d30-80e1-dea8fa6fb11b",
   "metadata": {
    "colab": {
     "base_uri": "https://localhost:8080/",
     "height": 711
    },
    "id": "3e4993c4-2959-4d30-80e1-dea8fa6fb11b",
    "outputId": "3e3bd3bd-4f92-4759-dc4d-5b81001ae7f7"
   },
   "outputs": [
    {
     "data": {
      "text/plain": [
       "bank_branch_clients           99.244505\n",
       "level_of_education_clients    89.858059\n",
       "employment_status_clients     36.446886\n",
       "bank_account_type             25.160256\n",
       "longitude_gps                 25.160256\n",
       "bank_name_clients             25.160256\n",
       "latitude_gps                  25.160256\n",
       "birthdate                     25.160256\n",
       "Late_Time_Repayment            0.206044\n",
       "On_Time_Repayment              0.206044\n",
       "Default_Time_Repayment         0.206044\n",
       "systemloanid                   0.000000\n",
       "good_bad_flag                  0.000000\n",
       "termdays                       0.000000\n",
       "totaldue                       0.000000\n",
       "loanamount                     0.000000\n",
       "creationdate                   0.000000\n",
       "approveddate                   0.000000\n",
       "loannumber                     0.000000\n",
       "customerid                     0.000000\n",
       "dtype: float64"
      ]
     },
     "execution_count": 47,
     "metadata": {},
     "output_type": "execute_result"
    }
   ],
   "source": [
    "df.isna().sum().sort_values(ascending = False) / len(df) * 100"
   ]
  },
  {
   "cell_type": "markdown",
   "id": "a2bb48ea-fa1f-4786-a65b-59b755260381",
   "metadata": {
    "id": "a2bb48ea-fa1f-4786-a65b-59b755260381"
   },
   "source": [
    "Drop columns with 80% missing value and not an important column to the dataset for df1"
   ]
  },
  {
   "cell_type": "code",
   "execution_count": 48,
   "id": "ccf5036f-8de9-4b61-afe9-119364f8b989",
   "metadata": {
    "id": "ccf5036f-8de9-4b61-afe9-119364f8b989"
   },
   "outputs": [],
   "source": [
    "df.drop(columns=['level_of_education_clients'], inplace = True)"
   ]
  },
  {
   "cell_type": "markdown",
   "id": "775bf334-482e-43f0-ac55-1eb2af2b4d90",
   "metadata": {
    "id": "775bf334-482e-43f0-ac55-1eb2af2b4d90"
   },
   "source": [
    "Check for columns with missing values and fill them"
   ]
  },
  {
   "cell_type": "code",
   "execution_count": 49,
   "id": "963d5606-7cf5-49f1-afab-e67dfbcae134",
   "metadata": {
    "colab": {
     "base_uri": "https://localhost:8080/"
    },
    "id": "963d5606-7cf5-49f1-afab-e67dfbcae134",
    "outputId": "36dfec53-ddf2-4cb8-d7c3-86b75e86f50a"
   },
   "outputs": [
    {
     "data": {
      "text/plain": [
       "np.int64(4335)"
      ]
     },
     "execution_count": 49,
     "metadata": {},
     "output_type": "execute_result"
    }
   ],
   "source": [
    "df['bank_branch_clients'].isna().sum()"
   ]
  },
  {
   "cell_type": "code",
   "execution_count": 50,
   "id": "eda8d1c1-a597-4bb3-b4f7-9352c34cee3c",
   "metadata": {
    "id": "eda8d1c1-a597-4bb3-b4f7-9352c34cee3c"
   },
   "outputs": [],
   "source": [
    "df['bank_branch_clients'] = df['bank_branch_clients'].fillna('Not Provided')"
   ]
  },
  {
   "cell_type": "code",
   "execution_count": 51,
   "id": "7fe51126-bccc-4548-bb60-3db2a1927c54",
   "metadata": {
    "colab": {
     "base_uri": "https://localhost:8080/"
    },
    "id": "7fe51126-bccc-4548-bb60-3db2a1927c54",
    "outputId": "05355dbc-dcfd-4583-9b98-a53b2f06257c"
   },
   "outputs": [
    {
     "data": {
      "text/plain": [
       "np.int64(1592)"
      ]
     },
     "execution_count": 51,
     "metadata": {},
     "output_type": "execute_result"
    }
   ],
   "source": [
    "df['employment_status_clients'].isna().sum()"
   ]
  },
  {
   "cell_type": "code",
   "execution_count": 52,
   "id": "b3a0a92e-6c61-46a6-91dc-6f9ad7a623c5",
   "metadata": {
    "id": "b3a0a92e-6c61-46a6-91dc-6f9ad7a623c5"
   },
   "outputs": [],
   "source": [
    "df['employment_status_clients'] = df['employment_status_clients'].fillna('Unknown')"
   ]
  },
  {
   "cell_type": "code",
   "execution_count": 53,
   "id": "2c574cb9-1dba-4658-be80-fe080b11ba80",
   "metadata": {
    "colab": {
     "base_uri": "https://localhost:8080/"
    },
    "id": "2c574cb9-1dba-4658-be80-fe080b11ba80",
    "outputId": "dda3537f-db70-42fb-e96e-8f9eb1bf598a"
   },
   "outputs": [
    {
     "data": {
      "text/plain": [
       "np.int64(1099)"
      ]
     },
     "execution_count": 53,
     "metadata": {},
     "output_type": "execute_result"
    }
   ],
   "source": [
    "df['bank_account_type'].isna().sum()"
   ]
  },
  {
   "cell_type": "code",
   "execution_count": 54,
   "id": "c06c92e1-be0c-4ee2-85d6-67d32fd7c274",
   "metadata": {
    "id": "c06c92e1-be0c-4ee2-85d6-67d32fd7c274"
   },
   "outputs": [],
   "source": [
    "df['bank_account_type'] = df['bank_account_type'].fillna('NA')"
   ]
  },
  {
   "cell_type": "code",
   "execution_count": 55,
   "id": "abff2ed0-8348-4136-b3fa-e6abf3692ff0",
   "metadata": {
    "colab": {
     "base_uri": "https://localhost:8080/"
    },
    "id": "abff2ed0-8348-4136-b3fa-e6abf3692ff0",
    "outputId": "1e150767-9198-4609-e41d-82b2a84b2eb5"
   },
   "outputs": [
    {
     "data": {
      "text/plain": [
       "np.int64(1099)"
      ]
     },
     "execution_count": 55,
     "metadata": {},
     "output_type": "execute_result"
    }
   ],
   "source": [
    "df['longitude_gps'].isna().sum()"
   ]
  },
  {
   "cell_type": "code",
   "execution_count": 56,
   "id": "b6ab6e47-8c4a-44b9-8401-59e568bef095",
   "metadata": {
    "id": "b6ab6e47-8c4a-44b9-8401-59e568bef095"
   },
   "outputs": [],
   "source": [
    "df['longitude_gps'] = df['longitude_gps'].fillna('Not Given')"
   ]
  },
  {
   "cell_type": "code",
   "execution_count": 57,
   "id": "f6d26664-3c36-474d-81e1-acc4ef537050",
   "metadata": {
    "colab": {
     "base_uri": "https://localhost:8080/"
    },
    "id": "f6d26664-3c36-474d-81e1-acc4ef537050",
    "outputId": "6ea7e8c1-5d8e-43d0-c6fc-f000dd176192"
   },
   "outputs": [
    {
     "data": {
      "text/plain": [
       "np.int64(1099)"
      ]
     },
     "execution_count": 57,
     "metadata": {},
     "output_type": "execute_result"
    }
   ],
   "source": [
    "df['latitude_gps'].isna().sum()"
   ]
  },
  {
   "cell_type": "code",
   "execution_count": 58,
   "id": "c1494b51-6034-43e4-aa6a-daff8c0d8e0b",
   "metadata": {
    "id": "c1494b51-6034-43e4-aa6a-daff8c0d8e0b"
   },
   "outputs": [],
   "source": [
    "df['latitude_gps'] = df['latitude_gps'].fillna('Not Given')"
   ]
  },
  {
   "cell_type": "code",
   "execution_count": 59,
   "id": "88a12902-9563-45b7-b681-11f146a2f5fd",
   "metadata": {
    "colab": {
     "base_uri": "https://localhost:8080/"
    },
    "id": "88a12902-9563-45b7-b681-11f146a2f5fd",
    "outputId": "cc226829-9b75-4170-8d47-6197badd61d4"
   },
   "outputs": [
    {
     "data": {
      "text/plain": [
       "np.int64(1099)"
      ]
     },
     "execution_count": 59,
     "metadata": {},
     "output_type": "execute_result"
    }
   ],
   "source": [
    "df['bank_name_clients'].isna().sum()"
   ]
  },
  {
   "cell_type": "code",
   "execution_count": 60,
   "id": "23a82b07-c978-49e3-acdb-56e62915773f",
   "metadata": {
    "id": "23a82b07-c978-49e3-acdb-56e62915773f"
   },
   "outputs": [],
   "source": [
    "df['bank_name_clients'] = df['bank_name_clients'].fillna('NA')"
   ]
  },
  {
   "cell_type": "code",
   "execution_count": 61,
   "id": "611f89db-e53d-4466-acc5-4ea9ed79be68",
   "metadata": {
    "colab": {
     "base_uri": "https://localhost:8080/"
    },
    "id": "611f89db-e53d-4466-acc5-4ea9ed79be68",
    "outputId": "5afb7153-bf83-48f7-b1f6-262b24088451"
   },
   "outputs": [
    {
     "data": {
      "text/plain": [
       "np.int64(1099)"
      ]
     },
     "execution_count": 61,
     "metadata": {},
     "output_type": "execute_result"
    }
   ],
   "source": [
    "df['birthdate'].isna().sum()"
   ]
  },
  {
   "cell_type": "code",
   "execution_count": 62,
   "id": "162e4534-c357-466c-8f29-58f29fb2531a",
   "metadata": {
    "id": "162e4534-c357-466c-8f29-58f29fb2531a"
   },
   "outputs": [],
   "source": [
    "df['birthdate'] = df['birthdate'].fillna('Unknown')"
   ]
  },
  {
   "cell_type": "code",
   "execution_count": 63,
   "id": "4f7f5a34-286a-4e57-95dc-0ce1d7cab1f0",
   "metadata": {
    "id": "4f7f5a34-286a-4e57-95dc-0ce1d7cab1f0"
   },
   "outputs": [],
   "source": [
    "df['Late_Time_Repayment'] = df['Late_Time_Repayment'].fillna(0)"
   ]
  },
  {
   "cell_type": "code",
   "execution_count": 64,
   "id": "1ba0c181-8833-4022-aec6-32f4159ecb0a",
   "metadata": {
    "id": "1ba0c181-8833-4022-aec6-32f4159ecb0a"
   },
   "outputs": [],
   "source": [
    "df['On_Time_Repayment'] = df['On_Time_Repayment'].fillna(0)"
   ]
  },
  {
   "cell_type": "code",
   "execution_count": 65,
   "id": "69d53e60-7427-432d-aee5-396f0c046569",
   "metadata": {
    "id": "69d53e60-7427-432d-aee5-396f0c046569"
   },
   "outputs": [],
   "source": [
    "df['Default_Time_Repayment'] = df['Default_Time_Repayment'].fillna(0)"
   ]
  },
  {
   "cell_type": "code",
   "execution_count": 66,
   "id": "fbd14af7-b267-41f1-ab8d-fc1bd538888a",
   "metadata": {
    "colab": {
     "base_uri": "https://localhost:8080/",
     "height": 680
    },
    "id": "fbd14af7-b267-41f1-ab8d-fc1bd538888a",
    "outputId": "626678c1-8527-4708-8c7c-44b8b50f70de"
   },
   "outputs": [
    {
     "data": {
      "text/plain": [
       "customerid                   0\n",
       "systemloanid                 0\n",
       "loannumber                   0\n",
       "approveddate                 0\n",
       "creationdate                 0\n",
       "loanamount                   0\n",
       "totaldue                     0\n",
       "termdays                     0\n",
       "good_bad_flag                0\n",
       "birthdate                    0\n",
       "bank_account_type            0\n",
       "longitude_gps                0\n",
       "latitude_gps                 0\n",
       "bank_name_clients            0\n",
       "bank_branch_clients          0\n",
       "employment_status_clients    0\n",
       "On_Time_Repayment            0\n",
       "Late_Time_Repayment          0\n",
       "Default_Time_Repayment       0\n",
       "dtype: int64"
      ]
     },
     "execution_count": 66,
     "metadata": {},
     "output_type": "execute_result"
    }
   ],
   "source": [
    "df.isna().sum()"
   ]
  },
  {
   "cell_type": "markdown",
   "id": "dea7f4e6-ae82-47f9-81b6-2126ab81defa",
   "metadata": {
    "id": "dea7f4e6-ae82-47f9-81b6-2126ab81defa"
   },
   "source": [
    "Check for Duplicates"
   ]
  },
  {
   "cell_type": "code",
   "execution_count": 67,
   "id": "526747a6-953b-4a03-b876-746c882c9ef4",
   "metadata": {
    "colab": {
     "base_uri": "https://localhost:8080/"
    },
    "id": "526747a6-953b-4a03-b876-746c882c9ef4",
    "outputId": "78552d9b-becb-46ed-9e67-2bad2e1228e5"
   },
   "outputs": [
    {
     "data": {
      "text/plain": [
       "np.int64(0)"
      ]
     },
     "execution_count": 67,
     "metadata": {},
     "output_type": "execute_result"
    }
   ],
   "source": [
    "df.duplicated().sum()"
   ]
  },
  {
   "cell_type": "markdown",
   "id": "6a9c3a31-ad67-4f55-af7b-7efaef631799",
   "metadata": {
    "id": "6a9c3a31-ad67-4f55-af7b-7efaef631799"
   },
   "source": [
    "Observation: No duplicates found"
   ]
  },
  {
   "cell_type": "markdown",
   "id": "33c4d958-7f59-4d5c-b1e6-d8d0a7d00572",
   "metadata": {
    "id": "33c4d958-7f59-4d5c-b1e6-d8d0a7d00572"
   },
   "source": [
    "Convert Columns with Dates to datetime"
   ]
  },
  {
   "cell_type": "code",
   "execution_count": 68,
   "id": "135ff22f-abb5-462f-97df-2a7ffe4f378b",
   "metadata": {
    "id": "135ff22f-abb5-462f-97df-2a7ffe4f378b"
   },
   "outputs": [],
   "source": [
    "df['approveddate'] = pd.to_datetime(df['approveddate'], errors = 'coerce')\n",
    "df['creationdate'] = pd.to_datetime(df['creationdate'], errors = 'coerce')\n",
    "df['birthdate'] = pd.to_datetime(df['birthdate'], errors = 'coerce')"
   ]
  },
  {
   "cell_type": "code",
   "execution_count": 69,
   "id": "70c9697a-bd69-40a4-ba6f-2dab902de4df",
   "metadata": {
    "colab": {
     "base_uri": "https://localhost:8080/",
     "height": 313
    },
    "id": "70c9697a-bd69-40a4-ba6f-2dab902de4df",
    "outputId": "eb8bf60f-7344-40cb-a74e-59335b704a67"
   },
   "outputs": [
    {
     "data": {
      "text/html": [
       "<div>\n",
       "<style scoped>\n",
       "    .dataframe tbody tr th:only-of-type {\n",
       "        vertical-align: middle;\n",
       "    }\n",
       "\n",
       "    .dataframe tbody tr th {\n",
       "        vertical-align: top;\n",
       "    }\n",
       "\n",
       "    .dataframe thead th {\n",
       "        text-align: right;\n",
       "    }\n",
       "</style>\n",
       "<table border=\"1\" class=\"dataframe\">\n",
       "  <thead>\n",
       "    <tr style=\"text-align: right;\">\n",
       "      <th></th>\n",
       "      <th>customerid</th>\n",
       "      <th>systemloanid</th>\n",
       "      <th>loannumber</th>\n",
       "      <th>approveddate</th>\n",
       "      <th>creationdate</th>\n",
       "      <th>loanamount</th>\n",
       "      <th>totaldue</th>\n",
       "      <th>termdays</th>\n",
       "      <th>good_bad_flag</th>\n",
       "      <th>birthdate</th>\n",
       "      <th>bank_account_type</th>\n",
       "      <th>longitude_gps</th>\n",
       "      <th>latitude_gps</th>\n",
       "      <th>bank_name_clients</th>\n",
       "      <th>bank_branch_clients</th>\n",
       "      <th>employment_status_clients</th>\n",
       "      <th>On_Time_Repayment</th>\n",
       "      <th>Late_Time_Repayment</th>\n",
       "      <th>Default_Time_Repayment</th>\n",
       "    </tr>\n",
       "  </thead>\n",
       "  <tbody>\n",
       "    <tr>\n",
       "      <th>0</th>\n",
       "      <td>8a2a81a74ce8c05d014cfb32a0da1049</td>\n",
       "      <td>301994762</td>\n",
       "      <td>12</td>\n",
       "      <td>2017-07-25 08:22:56</td>\n",
       "      <td>2017-07-25 07:22:47</td>\n",
       "      <td>30000.0</td>\n",
       "      <td>34500.0</td>\n",
       "      <td>30</td>\n",
       "      <td>Good</td>\n",
       "      <td>1972-01-15</td>\n",
       "      <td>Other</td>\n",
       "      <td>3.43201</td>\n",
       "      <td>6.433055</td>\n",
       "      <td>Diamond Bank</td>\n",
       "      <td>Not Provided</td>\n",
       "      <td>Permanent</td>\n",
       "      <td>7.0</td>\n",
       "      <td>4.0</td>\n",
       "      <td>0.0</td>\n",
       "    </tr>\n",
       "    <tr>\n",
       "      <th>1</th>\n",
       "      <td>8a85886e54beabf90154c0a29ae757c0</td>\n",
       "      <td>301965204</td>\n",
       "      <td>2</td>\n",
       "      <td>2017-07-05 17:04:41</td>\n",
       "      <td>2017-07-05 16:04:18</td>\n",
       "      <td>15000.0</td>\n",
       "      <td>17250.0</td>\n",
       "      <td>30</td>\n",
       "      <td>Good</td>\n",
       "      <td>1985-08-23</td>\n",
       "      <td>Savings</td>\n",
       "      <td>3.885298</td>\n",
       "      <td>7.3207</td>\n",
       "      <td>GT Bank</td>\n",
       "      <td>DUGBE,IBADAN</td>\n",
       "      <td>Permanent</td>\n",
       "      <td>0.0</td>\n",
       "      <td>0.0</td>\n",
       "      <td>0.0</td>\n",
       "    </tr>\n",
       "    <tr>\n",
       "      <th>2</th>\n",
       "      <td>8a8588f35438fe12015444567666018e</td>\n",
       "      <td>301966580</td>\n",
       "      <td>7</td>\n",
       "      <td>2017-07-06 14:52:57</td>\n",
       "      <td>2017-07-06 13:52:51</td>\n",
       "      <td>20000.0</td>\n",
       "      <td>22250.0</td>\n",
       "      <td>15</td>\n",
       "      <td>Good</td>\n",
       "      <td>1984-09-18</td>\n",
       "      <td>Other</td>\n",
       "      <td>11.13935</td>\n",
       "      <td>10.292041</td>\n",
       "      <td>EcoBank</td>\n",
       "      <td>Not Provided</td>\n",
       "      <td>Permanent</td>\n",
       "      <td>3.0</td>\n",
       "      <td>3.0</td>\n",
       "      <td>0.0</td>\n",
       "    </tr>\n",
       "    <tr>\n",
       "      <th>3</th>\n",
       "      <td>8a85890754145ace015429211b513e16</td>\n",
       "      <td>301999343</td>\n",
       "      <td>3</td>\n",
       "      <td>2017-07-27 19:00:41</td>\n",
       "      <td>2017-07-27 18:00:35</td>\n",
       "      <td>10000.0</td>\n",
       "      <td>11500.0</td>\n",
       "      <td>15</td>\n",
       "      <td>Good</td>\n",
       "      <td>1977-10-10</td>\n",
       "      <td>Savings</td>\n",
       "      <td>3.98577</td>\n",
       "      <td>7.491708</td>\n",
       "      <td>First Bank</td>\n",
       "      <td>Not Provided</td>\n",
       "      <td>Permanent</td>\n",
       "      <td>0.0</td>\n",
       "      <td>2.0</td>\n",
       "      <td>0.0</td>\n",
       "    </tr>\n",
       "    <tr>\n",
       "      <th>4</th>\n",
       "      <td>8a858970548359cc0154883481981866</td>\n",
       "      <td>301962360</td>\n",
       "      <td>9</td>\n",
       "      <td>2017-07-03 23:42:45</td>\n",
       "      <td>2017-07-03 22:42:39</td>\n",
       "      <td>40000.0</td>\n",
       "      <td>44000.0</td>\n",
       "      <td>30</td>\n",
       "      <td>Good</td>\n",
       "      <td>1986-09-07</td>\n",
       "      <td>Other</td>\n",
       "      <td>7.457913</td>\n",
       "      <td>9.076574</td>\n",
       "      <td>GT Bank</td>\n",
       "      <td>Not Provided</td>\n",
       "      <td>Permanent</td>\n",
       "      <td>8.0</td>\n",
       "      <td>0.0</td>\n",
       "      <td>0.0</td>\n",
       "    </tr>\n",
       "  </tbody>\n",
       "</table>\n",
       "</div>"
      ],
      "text/plain": [
       "                         customerid  systemloanid  loannumber  \\\n",
       "0  8a2a81a74ce8c05d014cfb32a0da1049     301994762          12   \n",
       "1  8a85886e54beabf90154c0a29ae757c0     301965204           2   \n",
       "2  8a8588f35438fe12015444567666018e     301966580           7   \n",
       "3  8a85890754145ace015429211b513e16     301999343           3   \n",
       "4  8a858970548359cc0154883481981866     301962360           9   \n",
       "\n",
       "         approveddate        creationdate  loanamount  totaldue  termdays  \\\n",
       "0 2017-07-25 08:22:56 2017-07-25 07:22:47     30000.0   34500.0        30   \n",
       "1 2017-07-05 17:04:41 2017-07-05 16:04:18     15000.0   17250.0        30   \n",
       "2 2017-07-06 14:52:57 2017-07-06 13:52:51     20000.0   22250.0        15   \n",
       "3 2017-07-27 19:00:41 2017-07-27 18:00:35     10000.0   11500.0        15   \n",
       "4 2017-07-03 23:42:45 2017-07-03 22:42:39     40000.0   44000.0        30   \n",
       "\n",
       "  good_bad_flag  birthdate bank_account_type longitude_gps latitude_gps  \\\n",
       "0          Good 1972-01-15             Other       3.43201     6.433055   \n",
       "1          Good 1985-08-23           Savings      3.885298       7.3207   \n",
       "2          Good 1984-09-18             Other      11.13935    10.292041   \n",
       "3          Good 1977-10-10           Savings       3.98577     7.491708   \n",
       "4          Good 1986-09-07             Other      7.457913     9.076574   \n",
       "\n",
       "  bank_name_clients bank_branch_clients employment_status_clients  \\\n",
       "0      Diamond Bank        Not Provided                 Permanent   \n",
       "1           GT Bank        DUGBE,IBADAN                 Permanent   \n",
       "2           EcoBank        Not Provided                 Permanent   \n",
       "3        First Bank        Not Provided                 Permanent   \n",
       "4           GT Bank        Not Provided                 Permanent   \n",
       "\n",
       "   On_Time_Repayment  Late_Time_Repayment  Default_Time_Repayment  \n",
       "0                7.0                  4.0                     0.0  \n",
       "1                0.0                  0.0                     0.0  \n",
       "2                3.0                  3.0                     0.0  \n",
       "3                0.0                  2.0                     0.0  \n",
       "4                8.0                  0.0                     0.0  "
      ]
     },
     "execution_count": 69,
     "metadata": {},
     "output_type": "execute_result"
    }
   ],
   "source": [
    "df.head()"
   ]
  },
  {
   "cell_type": "markdown",
   "id": "f20a7465-68c2-4ce1-be01-de3e0d34bcaa",
   "metadata": {
    "id": "f20a7465-68c2-4ce1-be01-de3e0d34bcaa"
   },
   "source": [
    "Seperate into Categorical and Numerical Column"
   ]
  },
  {
   "cell_type": "code",
   "execution_count": 70,
   "id": "bc9e518a-ebc9-4a2f-9733-61a38d23934c",
   "metadata": {
    "id": "bc9e518a-ebc9-4a2f-9733-61a38d23934c"
   },
   "outputs": [],
   "source": [
    "num_cols =df.select_dtypes(include = np.number).columns.tolist()\n",
    "cat_cols =df.select_dtypes(include = 'object').columns.tolist()"
   ]
  },
  {
   "cell_type": "markdown",
   "id": "200f03a9-eaf9-4145-88ea-972edc1fad8b",
   "metadata": {
    "id": "200f03a9-eaf9-4145-88ea-972edc1fad8b"
   },
   "source": [
    "Check Categorical Columns in order to see if there's need for Grouping or Encoding\n",
    "\n",
    "\n"
   ]
  },
  {
   "cell_type": "code",
   "execution_count": null,
   "id": "0df5879d-3e3d-4c41-8cd4-08909a24b5ba",
   "metadata": {
    "colab": {
     "base_uri": "https://localhost:8080/",
     "height": 1000
    },
    "id": "0df5879d-3e3d-4c41-8cd4-08909a24b5ba",
    "outputId": "368ed71b-f266-415f-c970-b04529af86c0"
   },
   "outputs": [],
   "source": [
    "n = len(cat_cols)\n",
    "rows = (n + 1) // 2\n",
    "fig, axes = plt.subplots(nrows = rows, ncols = 2, figsize = (18, 5*rows))\n",
    "axes = axes.flatten()\n",
    "for i, col in enumerate(cat_cols):\n",
    "    sns.countplot(df[col], ax = axes[i], order = df[col].value_counts().index)\n",
    "    axes[i].set_title(f'Countplot Distribution of {col}')\n",
    "plt.tight_layout()\n",
    "plt.show()"
   ]
  },
  {
   "cell_type": "markdown",
   "id": "eae95cba-7715-4399-8198-8da1de8eaf5e",
   "metadata": {
    "id": "eae95cba-7715-4399-8198-8da1de8eaf5e"
   },
   "source": [
    "Visualization of Numerical Columns to Check for Outliers"
   ]
  },
  {
   "cell_type": "code",
   "execution_count": null,
   "id": "f6a551cc-25cd-4280-9c4b-af8ba7dd8c09",
   "metadata": {
    "colab": {
     "base_uri": "https://localhost:8080/",
     "height": 1000
    },
    "id": "f6a551cc-25cd-4280-9c4b-af8ba7dd8c09",
    "outputId": "dcd3e192-8660-4dc3-cb20-b7cb4fa235af"
   },
   "outputs": [],
   "source": [
    "#Numerical plots\n",
    "for col in num_cols:\n",
    "    plt.figure(figsize = (8,4))\n",
    "    #Histogram plot\n",
    "    plt.subplot(1,2,1)\n",
    "    sns.histplot(df[col], bins = 30, kde = True)\n",
    "    plt.title(f'Histogram Distribution of {col}')\n",
    "    #Box plot\n",
    "    plt.subplot(1,2,2)\n",
    "    sns.boxplot(df[col])\n",
    "    plt.title(f'Boxplot Distribution of {col}')\n",
    "    plt.show()"
   ]
  },
  {
   "cell_type": "code",
   "execution_count": null,
   "id": "340203d6-449c-4543-b1af-034f00abbb6f",
   "metadata": {
    "colab": {
     "base_uri": "https://localhost:8080/",
     "height": 1000
    },
    "id": "340203d6-449c-4543-b1af-034f00abbb6f",
    "outputId": "412115c3-8ac3-4ee4-d42b-105252d9b422"
   },
   "outputs": [],
   "source": [
    "for col in num_cols:\n",
    "    plt.figure(figsize = (8,4))\n",
    "    #Boxplot\n",
    "    plt.subplot(1,2,1)\n",
    "    sns.boxplot(df[col])\n",
    "    plt.title(f'Boxplot Distribution of {col}')\n",
    "    #Violin plot\n",
    "    plt.subplot(1,2,2)\n",
    "    sns.violinplot(df[col])\n",
    "    plt.title(f'Violinplot Distribution of {col}')\n",
    "    plt.show()"
   ]
  },
  {
   "cell_type": "markdown",
   "id": "c5d329de-7af3-4de0-873d-2d5e0c688351",
   "metadata": {
    "id": "c5d329de-7af3-4de0-873d-2d5e0c688351"
   },
   "source": [
    "Calculate Skewness"
   ]
  },
  {
   "cell_type": "code",
   "execution_count": null,
   "id": "6579bd70-2935-4729-b6eb-ce4aa9a28d73",
   "metadata": {
    "colab": {
     "base_uri": "https://localhost:8080/",
     "height": 335
    },
    "id": "6579bd70-2935-4729-b6eb-ce4aa9a28d73",
    "outputId": "44d418cd-0f41-4f2f-d0f9-48c4e41e2684"
   },
   "outputs": [],
   "source": [
    "num_cols_skewness = df[num_cols].skew().sort_values(ascending = False)\n",
    "num_cols_skewness"
   ]
  },
  {
   "cell_type": "markdown",
   "id": "45de7435-8f0b-4886-a9fc-b344555accdd",
   "metadata": {
    "id": "45de7435-8f0b-4886-a9fc-b344555accdd"
   },
   "source": [
    "Handle Outliers by using Winsorization method(i.e, by capping them) with a default factor of 1.5\n",
    "\n"
   ]
  },
  {
   "cell_type": "code",
   "execution_count": null,
   "id": "9e32334a-52b4-4209-b7cc-2e3c098ff3fc",
   "metadata": {
    "id": "9e32334a-52b4-4209-b7cc-2e3c098ff3fc"
   },
   "outputs": [],
   "source": [
    "for col in num_cols:\n",
    "    Q1 = df[num_cols].quantile(0.25)\n",
    "    Q3 = df[num_cols].quantile(0.75)\n",
    "    IQR = Q3 - Q1\n",
    "    lower_bound = Q1 - 1.5 * IQR\n",
    "    upper_bound = Q3 + 1.5 * IQR\n",
    "    df[num_cols] = np.where(df[num_cols] < lower_bound, lower_bound,\n",
    "                     np.where(df[num_cols] > upper_bound, upper_bound, df[num_cols]))"
   ]
  },
  {
   "cell_type": "code",
   "execution_count": null,
   "id": "5d872eec-1d9b-41c2-b576-b1bec8f87607",
   "metadata": {
    "colab": {
     "base_uri": "https://localhost:8080/",
     "height": 1000
    },
    "id": "5d872eec-1d9b-41c2-b576-b1bec8f87607",
    "outputId": "eda7e9e1-17ff-4b6d-b788-3859648ff009"
   },
   "outputs": [],
   "source": [
    "#Numerical plots\n",
    "for col in num_cols:\n",
    "    plt.figure(figsize = (8,4))\n",
    "    #Histogram plot\n",
    "    plt.subplot(1,2,1)\n",
    "    sns.histplot(df[col], bins = 30, kde = True)\n",
    "    plt.title(f'Histogram Distribution of {col}')\n",
    "    #Box plot\n",
    "    plt.subplot(1,2,2)\n",
    "    sns.boxplot(df[col])\n",
    "    plt.title(f'Boxplot Distribution of {col}')\n",
    "    plt.show()"
   ]
  },
  {
   "cell_type": "markdown",
   "id": "8d722b0d-0106-4724-907c-b2493ab7c14b",
   "metadata": {
    "id": "8d722b0d-0106-4724-907c-b2493ab7c14b"
   },
   "source": [
    "After using Winsorization method, i observed that the skewness was capped, it controlled the outliers. I want to further explore other transformations, therefore, I will be using logarithm Transformation, square Root Transformaion and Box_Cox Ttansformation"
   ]
  },
  {
   "cell_type": "code",
   "execution_count": null,
   "id": "f5a4c795-637c-4fef-b664-87a9b49d062c",
   "metadata": {
    "id": "f5a4c795-637c-4fef-b664-87a9b49d062c"
   },
   "outputs": [],
   "source": [
    "from scipy.stats import boxcox"
   ]
  },
  {
   "cell_type": "code",
   "execution_count": null,
   "id": "e38b5fe2-cbc9-4fe7-a068-f409adf18041",
   "metadata": {
    "id": "e38b5fe2-cbc9-4fe7-a068-f409adf18041"
   },
   "outputs": [],
   "source": [
    "df['On_Time_Repayment_log'] = np.log1p(df['On_Time_Repayment'])"
   ]
  },
  {
   "cell_type": "code",
   "execution_count": null,
   "id": "4d1f36b9-df50-49b8-bb08-0ff07095b1ba",
   "metadata": {
    "id": "4d1f36b9-df50-49b8-bb08-0ff07095b1ba"
   },
   "outputs": [],
   "source": [
    "df['loannumber_boxcox'], lam = boxcox(df['loannumber'] + 1)\n",
    "df['loanamount_boxcox'], lam = boxcox(df['loanamount'] + 1)"
   ]
  },
  {
   "cell_type": "code",
   "execution_count": null,
   "id": "771d01fa-ef22-4127-858c-3701b6e023b7",
   "metadata": {
    "id": "771d01fa-ef22-4127-858c-3701b6e023b7"
   },
   "outputs": [],
   "source": [
    "df['Late_Time_Repayment_sqrt'] = np.sqrt(df['Late_Time_Repayment'])\n",
    "df['totaldue_sqrt'] = np.sqrt(df['Late_Time_Repayment'])"
   ]
  },
  {
   "cell_type": "code",
   "execution_count": null,
   "id": "80e10c3e-2ed2-46ba-bffd-efd56224e3eb",
   "metadata": {
    "colab": {
     "base_uri": "https://localhost:8080/",
     "height": 1000
    },
    "id": "80e10c3e-2ed2-46ba-bffd-efd56224e3eb",
    "outputId": "3f3e39e7-5381-4512-c4e3-9f92a4e5c86c"
   },
   "outputs": [],
   "source": [
    "#Numerical plots\n",
    "for col in num_cols:\n",
    "    plt.figure(figsize = (8,4))\n",
    "    #Histogram plot\n",
    "    plt.subplot(1,2,1)\n",
    "    sns.histplot(df[col], bins = 30, kde = True)\n",
    "    plt.title(f'Histogram Distribution of {col}')\n",
    "    #Box plot\n",
    "    plt.subplot(1,2,2)\n",
    "    sns.boxplot(df[col])\n",
    "    plt.title(f'Boxplot Distribution of {col}')\n",
    "    plt.show()"
   ]
  },
  {
   "cell_type": "markdown",
   "id": "2f6ec831-ff71-48da-9e4d-f7278e67dc56",
   "metadata": {
    "id": "2f6ec831-ff71-48da-9e4d-f7278e67dc56"
   },
   "source": [
    "From the above feature engineering, the outliers were handled."
   ]
  },
  {
   "cell_type": "markdown",
   "id": "bb4f47da-bfc3-4b72-a6a6-a504408959dc",
   "metadata": {
    "id": "bb4f47da-bfc3-4b72-a6a6-a504408959dc"
   },
   "source": [
    "Correlation Analysis; This is done in order to detect redundancy and multicollinearity(i.e, features that are too correlated). Since I will be using LOGISTIC REGRESSION Model, I visualize the numerical columns and found multicollinearitry. In order to avoid that, I will be dropping the columns since it brings almost the same information.\n",
    "\n"
   ]
  },
  {
   "cell_type": "code",
   "execution_count": null,
   "id": "19a76e3f-9523-4e9e-a681-0aa61c84a0e0",
   "metadata": {
    "colab": {
     "base_uri": "https://localhost:8080/",
     "height": 555
    },
    "id": "19a76e3f-9523-4e9e-a681-0aa61c84a0e0",
    "outputId": "ccdcfc5e-010f-4465-9846-a3a4f0f03dd4"
   },
   "outputs": [],
   "source": [
    "plt.figure(figsize = (8,4))\n",
    "heatmap = df[num_cols].corr()\n",
    "sns.heatmap(data = heatmap, fmt = '.2f', annot = True, cmap = 'coolwarm')\n",
    "plt.title('Correlation Matrix of Numerical Features', fontweight = 'bold')\n",
    "plt.show()"
   ]
  },
  {
   "cell_type": "code",
   "execution_count": null,
   "id": "f0e04568-8eac-4040-825a-99883484d474",
   "metadata": {
    "colab": {
     "base_uri": "https://localhost:8080/",
     "height": 459
    },
    "id": "f0e04568-8eac-4040-825a-99883484d474",
    "outputId": "8976e757-e696-4c1c-ae36-8f7f8558843a"
   },
   "outputs": [],
   "source": [
    "df['termdays']"
   ]
  },
  {
   "cell_type": "code",
   "execution_count": null,
   "id": "b691a05e-0907-4fb5-9811-e82a89d20000",
   "metadata": {
    "colab": {
     "base_uri": "https://localhost:8080/"
    },
    "id": "b691a05e-0907-4fb5-9811-e82a89d20000",
    "outputId": "62a6e183-cf31-4184-884b-42c61f98b7d8"
   },
   "outputs": [],
   "source": [
    "df['termdays'].unique()"
   ]
  },
  {
   "cell_type": "code",
   "execution_count": null,
   "id": "8brTKG5ofmPq",
   "metadata": {
    "colab": {
     "base_uri": "https://localhost:8080/"
    },
    "id": "8brTKG5ofmPq",
    "outputId": "34fb3d63-7ad9-4589-a67b-a2e5728e8600"
   },
   "outputs": [],
   "source": [
    "num_cols"
   ]
  },
  {
   "cell_type": "markdown",
   "id": "e321fdee-730a-42eb-af47-ae99a34ad9ec",
   "metadata": {
    "id": "e321fdee-730a-42eb-af47-ae99a34ad9ec"
   },
   "source": [
    "From the correlation analysis, termdays and Default_Time_Repaymwent which are columns in df has constant values, therefore, I will be dropping them and reassigning my num_cols"
   ]
  },
  {
   "cell_type": "code",
   "execution_count": null,
   "id": "d909633a-6d11-45e7-bd1e-fa1172103dfa",
   "metadata": {
    "id": "d909633a-6d11-45e7-bd1e-fa1172103dfa"
   },
   "outputs": [],
   "source": [
    "num_cols = ['systemloanid','loannumber','loanamount','totaldue','On_Time_Repayment','Late_Time_Repayment']"
   ]
  },
  {
   "cell_type": "code",
   "execution_count": null,
   "id": "bf74abe3-01aa-476f-ae4f-624f42352465",
   "metadata": {
    "colab": {
     "base_uri": "https://localhost:8080/",
     "height": 534
    },
    "id": "bf74abe3-01aa-476f-ae4f-624f42352465",
    "outputId": "03f02bf7-5f3b-4226-cecd-33db93aa0be5"
   },
   "outputs": [],
   "source": [
    "plt.figure(figsize = (8,4))\n",
    "heatmap = df[num_cols].corr()\n",
    "sns.heatmap(data = heatmap, fmt = '.2f', annot = True, cmap = 'coolwarm')\n",
    "plt.title('Correlation Matrix of Numerical Features', fontweight = 'bold')\n",
    "plt.show()"
   ]
  },
  {
   "cell_type": "markdown",
   "id": "567bed7f-028e-47eb-a87a-1bee36f16fb3",
   "metadata": {
    "id": "567bed7f-028e-47eb-a87a-1bee36f16fb3"
   },
   "source": [
    "Using VIF to Detect Multicollinearity"
   ]
  },
  {
   "cell_type": "code",
   "execution_count": null,
   "id": "47a2d173-7cdb-4fc7-bde2-37cfd7169e78",
   "metadata": {
    "colab": {
     "base_uri": "https://localhost:8080/",
     "height": 304
    },
    "id": "47a2d173-7cdb-4fc7-bde2-37cfd7169e78",
    "outputId": "139a34a2-37ab-4af0-ad6a-3ac0ee3fdaa7"
   },
   "outputs": [],
   "source": [
    "!pip install statsmodels -q\n",
    "from statsmodels.stats.outliers_influence import variance_inflation_factor\n",
    "from statsmodels.tools.tools import add_constant\n",
    "num_cols = df[num_cols]\n",
    "num_cols_const = add_constant(num_cols)\n",
    "vif = pd.DataFrame()\n",
    "vif['features'] = num_cols_const.columns\n",
    "vif['VIF'] = [variance_inflation_factor(num_cols_const.values, i)\n",
    "             for i in range(num_cols_const.shape[1])]\n",
    "vif"
   ]
  },
  {
   "cell_type": "markdown",
   "id": "9a9d9e49-74ee-460e-9436-a405d242f5cd",
   "metadata": {
    "id": "9a9d9e49-74ee-460e-9436-a405d242f5cd"
   },
   "source": [
    "From the above information, I observed that loannumber and On_Time_Repayment have high multicollinearity while loanamount and totaldue have extremely high multicollinearity. In order to be safe while using Logistic Regression Model and not confuse my model, I will be dropping loanamount and keeping totaldue. This is because, loanamount is just the amount the customer collected while totaldue refers to the sum of the exact loan amount, interest and others charges such as late repayment charges, e.t.c. More so, the aim of my prediction is to predict loan default and repayment behaviour of customers."
   ]
  },
  {
   "cell_type": "markdown",
   "id": "a85b9a3e-8e62-4ce8-a596-999bc417dbb0",
   "metadata": {
    "id": "a85b9a3e-8e62-4ce8-a596-999bc417dbb0"
   },
   "source": [
    "Remove loanamount Column and Default_Time_Repayment: I am removing Default_Time_Repayment column because it is a constant column(all the values are the same)"
   ]
  },
  {
   "cell_type": "markdown",
   "id": "5916e631-3387-4a3b-be29-c0554f90c8ae",
   "metadata": {
    "id": "5916e631-3387-4a3b-be29-c0554f90c8ae"
   },
   "source": [
    "Check if the Target Column is Balanced or Not.\n",
    "i. check by counting the values\n",
    "ii. check by plotting or visualizing using bar cart"
   ]
  },
  {
   "cell_type": "code",
   "execution_count": null,
   "id": "c0394143-3017-498c-952c-3f51719cfa8b",
   "metadata": {
    "colab": {
     "base_uri": "https://localhost:8080/",
     "height": 178
    },
    "id": "c0394143-3017-498c-952c-3f51719cfa8b",
    "outputId": "ebb79987-3d8c-44c7-807e-2c179ba60b3c"
   },
   "outputs": [],
   "source": [
    "df.good_bad_flag.value_counts()"
   ]
  },
  {
   "cell_type": "code",
   "execution_count": null,
   "id": "b48ee902-2950-4ac1-b043-ca240930260d",
   "metadata": {
    "colab": {
     "base_uri": "https://localhost:8080/",
     "height": 489
    },
    "id": "b48ee902-2950-4ac1-b043-ca240930260d",
    "outputId": "5426234b-1fde-45ff-f9cf-cec3909ea013"
   },
   "outputs": [],
   "source": [
    "df.good_bad_flag.value_counts().plot(kind = 'bar')"
   ]
  },
  {
   "cell_type": "markdown",
   "id": "76430622-525d-4f52-b2bb-74102a248bb5",
   "metadata": {
    "id": "76430622-525d-4f52-b2bb-74102a248bb5"
   },
   "source": [
    "Observation: The target column is not balanced as this can be termed a 20-80% distribution\n",
    "To balance the target column, I will be using the oversampling technique called SMOTE, this is because my dataset is small and i don't want to predict only the majority class."
   ]
  },
  {
   "cell_type": "markdown",
   "id": "ddeb4b5c-b409-4137-9d61-0a858b9f2481",
   "metadata": {
    "id": "ddeb4b5c-b409-4137-9d61-0a858b9f2481"
   },
   "source": [
    "Convert the datatype of the target column(good_bad_flag) from object(text) to integers(numbers)"
   ]
  },
  {
   "cell_type": "code",
   "execution_count": null,
   "id": "9a90f2bf-9873-41ff-b304-702c57f6f529",
   "metadata": {
    "colab": {
     "base_uri": "https://localhost:8080/"
    },
    "id": "9a90f2bf-9873-41ff-b304-702c57f6f529",
    "outputId": "6941c618-6aa8-4afc-bc53-26070794cb6c"
   },
   "outputs": [],
   "source": [
    "df.good_bad_flag.unique()"
   ]
  },
  {
   "cell_type": "code",
   "execution_count": null,
   "id": "6ce07a09-3005-4a4f-92da-7649b2d6464b",
   "metadata": {
    "id": "6ce07a09-3005-4a4f-92da-7649b2d6464b"
   },
   "outputs": [],
   "source": [
    "df.good_bad_flag=(df.good_bad_flag == 'Good').astype(int)"
   ]
  },
  {
   "cell_type": "code",
   "execution_count": null,
   "id": "12f7d164-32e7-4678-aba0-a81d2fc2b06b",
   "metadata": {
    "colab": {
     "base_uri": "https://localhost:8080/"
    },
    "id": "12f7d164-32e7-4678-aba0-a81d2fc2b06b",
    "outputId": "b57ddeba-5b97-47e6-d225-e41f2b6ba8e0"
   },
   "outputs": [],
   "source": [
    "df.good_bad_flag.unique()"
   ]
  },
  {
   "cell_type": "markdown",
   "id": "18b7eff8-f0ac-4591-bf54-8e93acc7c1d0",
   "metadata": {
    "id": "18b7eff8-f0ac-4591-bf54-8e93acc7c1d0"
   },
   "source": [
    "DATA PREPARATION"
   ]
  },
  {
   "cell_type": "markdown",
   "id": "93551f52-a797-4d0e-9384-d9e347db9dae",
   "metadata": {
    "id": "93551f52-a797-4d0e-9384-d9e347db9dae"
   },
   "source": [
    "Seperation of Columns into Features and Target Columns. While seperating my columns, I dropped some column because its not needed for my data preparation.\n",
    "X = features and y = target"
   ]
  },
  {
   "cell_type": "code",
   "execution_count": null,
   "id": "cfc2d332-748b-48b7-90c3-f760b542fa92",
   "metadata": {},
   "outputs": [],
   "source": [
    "df.columns"
   ]
  },
  {
   "cell_type": "code",
   "execution_count": null,
   "id": "c90eaff2-8ba6-4462-8b75-753a9bc01e3d",
   "metadata": {
    "id": "c90eaff2-8ba6-4462-8b75-753a9bc01e3d"
   },
   "outputs": [],
   "source": [
    "X = df.drop(columns = ['customerid','longitude_gps','latitude_gps', 'loanamount', 'termdays', 'Default_Time_Repayment','birthdate', 'bank_account_type','good_bad_flag','totaldue_sqrt','bank_name_clients','bank_branch_clients','employment_status_clients','On_Time_Repayment_log', 'loannumber_boxcox', 'loanamount_boxcox','Late_Time_Repayment_sqrt'])\n",
    "y = df['good_bad_flag']"
   ]
  },
  {
   "cell_type": "markdown",
   "id": "c656722f-3f94-4d81-b23a-c42f2fc1b693",
   "metadata": {
    "id": "c656722f-3f94-4d81-b23a-c42f2fc1b693"
   },
   "source": [
    "Split into Test Data and Train Data. I also importod the necessary libraries needed for spliting.\n",
    "Imbalanced_learn was installed inorder to carry out the smoting process"
   ]
  },
  {
   "cell_type": "code",
   "execution_count": null,
   "id": "4768eb4a-4755-4eae-817c-762d1660cfac",
   "metadata": {
    "id": "4768eb4a-4755-4eae-817c-762d1660cfac"
   },
   "outputs": [],
   "source": [
    "!pip install imbalanced_learn -q"
   ]
  },
  {
   "cell_type": "code",
   "execution_count": null,
   "id": "7921dc06-1291-4a2f-a382-01f7ed5095ed",
   "metadata": {
    "id": "7921dc06-1291-4a2f-a382-01f7ed5095ed"
   },
   "outputs": [],
   "source": [
    "from sklearn.model_selection import train_test_split\n",
    "from imblearn.over_sampling import SMOTE\n",
    "import warnings\n",
    "warnings.filterwarnings('ignore')"
   ]
  },
  {
   "cell_type": "markdown",
   "id": "015f6181-18a1-4d99-a61a-94d909b72fa6",
   "metadata": {
    "id": "015f6181-18a1-4d99-a61a-94d909b72fa6"
   },
   "source": [
    "While smoting, i got an error which is centered on 'TimeStamp'. Therefore, in order to smote successfully, I will be converting my date to numeric features instead of dropping them. From the engineered features, approved_day refers to how long it took from creation to approval while refers to the customer's age in years at the time of loan creation"
   ]
  },
  {
   "cell_type": "code",
   "execution_count": null,
   "id": "f57eff85-bd4c-426c-8adc-1a8cbd83ceae",
   "metadata": {
    "id": "f57eff85-bd4c-426c-8adc-1a8cbd83ceae"
   },
   "outputs": [],
   "source": [
    "X_train, X_test, y_train, y_test = train_test_split(X, y, test_size = 0.3, random_state = 42, stratify = y)"
   ]
  },
  {
   "cell_type": "markdown",
   "id": "0359ee15-0f84-42f8-9034-dae3a92f8d2f",
   "metadata": {
    "id": "0359ee15-0f84-42f8-9034-dae3a92f8d2f"
   },
   "source": [
    "DATA PREPROCESSING\n"
   ]
  },
  {
   "cell_type": "markdown",
   "id": "a66c3c34-6bbe-48cb-b589-0eb40d7b04e9",
   "metadata": {
    "id": "a66c3c34-6bbe-48cb-b589-0eb40d7b04e9"
   },
   "source": [
    "Seperate into Categorical and Numerical Column"
   ]
  },
  {
   "cell_type": "code",
   "execution_count": null,
   "id": "f23a2e7d-6eeb-4213-84d3-b6a2902dcf7b",
   "metadata": {
    "id": "f23a2e7d-6eeb-4213-84d3-b6a2902dcf7b"
   },
   "outputs": [],
   "source": [
    "num_cols = X.select_dtypes(include = np.number).columns.tolist()\n",
    "cat_cols = X.select_dtypes(include = 'object').columns.tolist()"
   ]
  },
  {
   "cell_type": "markdown",
   "id": "d95d610b-cf80-4000-960d-b8f75d879fcd",
   "metadata": {
    "id": "d95d610b-cf80-4000-960d-b8f75d879fcd"
   },
   "source": [
    "Encoding the Categorical Column: After checking the cat_cols, I observed that there is need for encoding. i will be using the OneHotEncoder as my encoder because it is used for only categorical columns and it converts categorical columns into numeric features that are useable by models"
   ]
  },
  {
   "cell_type": "code",
   "execution_count": null,
   "id": "af88dc60-c50d-4a11-84a8-c8968a182af4",
   "metadata": {
    "id": "af88dc60-c50d-4a11-84a8-c8968a182af4"
   },
   "outputs": [],
   "source": [
    "\n",
    "from sklearn.preprocessing import OneHotEncoder, StandardScaler"
   ]
  },
  {
   "cell_type": "code",
   "execution_count": null,
   "id": "071a3455-aa71-4668-9b42-a1e1cf1a752d",
   "metadata": {
    "id": "071a3455-aa71-4668-9b42-a1e1cf1a752d"
   },
   "outputs": [],
   "source": [
    "encoder = OneHotEncoder(sparse_output = False).fit(df[cat_cols])"
   ]
  },
  {
   "cell_type": "code",
   "execution_count": null,
   "id": "bf2f0cad-c121-4a93-b3af-17b9e14ef912",
   "metadata": {
    "id": "bf2f0cad-c121-4a93-b3af-17b9e14ef912"
   },
   "outputs": [],
   "source": [
    "encoded_cols = list(encoder.get_feature_names_out(cat_cols))\n"
   ]
  },
  {
   "cell_type": "code",
   "execution_count": null,
   "id": "21c88866-a538-45ce-bb21-7e7e23c766e0",
   "metadata": {
    "id": "21c88866-a538-45ce-bb21-7e7e23c766e0"
   },
   "outputs": [],
   "source": [
    "X_train[encoded_cols] =encoder.transform(X_train[cat_cols])\n",
    "X_test[encoded_cols] =encoder.transform(X_test[cat_cols])\n",
    "\n"
   ]
  },
  {
   "cell_type": "markdown",
   "id": "a17346f2-4e09-43b2-878d-caa5897147c4",
   "metadata": {
    "id": "a17346f2-4e09-43b2-878d-caa5897147c4"
   },
   "source": [
    "Scaling the Numerical Columns"
   ]
  },
  {
   "cell_type": "code",
   "execution_count": null,
   "id": "d8329940-c9fb-448e-aeee-db96ab25b294",
   "metadata": {
    "id": "d8329940-c9fb-448e-aeee-db96ab25b294"
   },
   "outputs": [],
   "source": [
    "scaler = StandardScaler()\n",
    "X_train[num_cols] = scaler.fit_transform(X_train[num_cols])\n",
    "X_test[num_cols] = scaler.transform(X_test[num_cols])"
   ]
  },
  {
   "cell_type": "markdown",
   "id": "8757b386-c9ff-47b6-84b0-ad73a394aa73",
   "metadata": {
    "id": "8757b386-c9ff-47b6-84b0-ad73a394aa73"
   },
   "source": [
    "Combine Encoded columns and Scaled Columns"
   ]
  },
  {
   "cell_type": "code",
   "execution_count": null,
   "id": "a7d2890c-38bc-42f9-b2c6-145b2e17081d",
   "metadata": {
    "id": "a7d2890c-38bc-42f9-b2c6-145b2e17081d"
   },
   "outputs": [],
   "source": [
    "X_train = X_train[num_cols + encoded_cols]\n",
    "X_test = X_test[num_cols + encoded_cols]"
   ]
  },
  {
   "cell_type": "markdown",
   "id": "c7080298-d37c-4690-b73b-686cd823afdc",
   "metadata": {
    "id": "c7080298-d37c-4690-b73b-686cd823afdc"
   },
   "source": [
    "From the above infomation, it was discovered that the target column is imbalance and we suggested the use of SMOTE as it is a small dataset  "
   ]
  },
  {
   "cell_type": "code",
   "execution_count": null,
   "id": "3070733c-c729-4223-979f-3fe146bc96e5",
   "metadata": {
    "colab": {
     "base_uri": "https://localhost:8080/",
     "height": 178
    },
    "id": "3070733c-c729-4223-979f-3fe146bc96e5",
    "outputId": "07970975-9fbf-42ea-c8ee-1bfcfed79e34"
   },
   "outputs": [],
   "source": [
    "y_train.value_counts()"
   ]
  },
  {
   "cell_type": "code",
   "execution_count": null,
   "id": "2f92fbca-ec89-4784-8670-724581112f68",
   "metadata": {
    "id": "2f92fbca-ec89-4784-8670-724581112f68"
   },
   "outputs": [],
   "source": [
    "smote = SMOTE(random_state = 42)\n",
    "X_train_resampled, y_train_resampled = smote.fit_resample(X_train, y_train)"
   ]
  },
  {
   "cell_type": "code",
   "execution_count": null,
   "id": "a10b4fb8-16b6-4c2d-a420-07ebe75c0597",
   "metadata": {
    "colab": {
     "base_uri": "https://localhost:8080/",
     "height": 178
    },
    "id": "a10b4fb8-16b6-4c2d-a420-07ebe75c0597",
    "outputId": "832d4182-9acb-4781-f929-e6546a18dadd"
   },
   "outputs": [],
   "source": [
    "y_train_resampled.value_counts()"
   ]
  },
  {
   "cell_type": "code",
   "execution_count": null,
   "id": "992a43ff-c7e7-4701-9a4d-a08575cb905a",
   "metadata": {
    "colab": {
     "base_uri": "https://localhost:8080/",
     "height": 465
    },
    "id": "992a43ff-c7e7-4701-9a4d-a08575cb905a",
    "outputId": "97941fcd-ec17-48e8-cc75-6e61ce2b997d"
   },
   "outputs": [],
   "source": [
    "y_train_resampled.value_counts().plot(kind = 'bar')"
   ]
  },
  {
   "cell_type": "markdown",
   "id": "4660fd74-c191-4d07-a3d8-7f1530cd0796",
   "metadata": {
    "id": "4660fd74-c191-4d07-a3d8-7f1530cd0796"
   },
   "source": [
    "OBSERVATION: After using SMOTE, I got a balanced class for my Target Column"
   ]
  },
  {
   "cell_type": "markdown",
   "id": "355ab535-122a-4b99-bad5-ea1697e5e4f9",
   "metadata": {
    "id": "355ab535-122a-4b99-bad5-ea1697e5e4f9"
   },
   "source": [
    "MODEL SELECTION AND TRAINING"
   ]
  },
  {
   "cell_type": "code",
   "execution_count": null,
   "id": "d79a5c38-f7b1-4e1e-b738-b41ad26924ad",
   "metadata": {
    "id": "d79a5c38-f7b1-4e1e-b738-b41ad26924ad"
   },
   "outputs": [],
   "source": [
    "#INSTALL Required Libraries\n",
    "!pip install xgboost lightgbm  -q"
   ]
  },
  {
   "cell_type": "code",
   "execution_count": null,
   "id": "107c547f-65c2-4db1-85b4-640ce6f4e4d7",
   "metadata": {
    "id": "107c547f-65c2-4db1-85b4-640ce6f4e4d7"
   },
   "outputs": [],
   "source": [
    "#IMPORT Libraries\n",
    "from sklearn.tree import DecisionTreeClassifier\n",
    "from sklearn.linear_model import LogisticRegression\n",
    "from sklearn.ensemble import RandomForestClassifier\n",
    "from sklearn.metrics import classification_report, confusion_matrix, ConfusionMatrixDisplay, accuracy_score, precision_score, recall_score, f1_score\n",
    "from xgboost import XGBClassifier\n",
    "from lightgbm import LGBMClassifier"
   ]
  },
  {
   "cell_type": "code",
   "execution_count": null,
   "id": "6b016e4e-c359-4cf7-94b8-582f399e2604",
   "metadata": {
    "id": "6b016e4e-c359-4cf7-94b8-582f399e2604"
   },
   "outputs": [],
   "source": [
    "#INITIALIZE/SELECT Models\n",
    "models = {\n",
    "    'Decision Tree': DecisionTreeClassifier(random_state = 42),\n",
    "    'Logistic Regression': LogisticRegression(random_state = 42),\n",
    "    'Random Forest': RandomForestClassifier(random_state = 42),\n",
    "    'XGBoost': XGBClassifier(eval_metrics = 'logloss', random_state = 42),\n",
    "    'LightGBM': LGBMClassifier(random_state = 42)\n",
    "}"
   ]
  },
  {
   "cell_type": "markdown",
   "id": "a7910229-e9c6-448c-aa20-07684a49ad83",
   "metadata": {
    "id": "a7910229-e9c6-448c-aa20-07684a49ad83"
   },
   "source": [
    "MODEL EVALUATION using for loop"
   ]
  },
  {
   "cell_type": "code",
   "execution_count": null,
   "id": "11c90dd9-c839-4dce-84cb-6e97c81b40eb",
   "metadata": {
    "colab": {
     "base_uri": "https://localhost:8080/",
     "height": 737
    },
    "id": "11c90dd9-c839-4dce-84cb-6e97c81b40eb",
    "outputId": "babae29d-af46-4d0c-edd5-eb3bb20d0942"
   },
   "outputs": [],
   "source": [
    "results = {}\n",
    "fig, axes = plt.subplots(1, 3, figsize = (18, 4))\n",
    "for (name, model), ax in zip(models.items(), axes.flatten()):\n",
    "\n",
    "    #Traing the Model\n",
    "    model.fit(X_train, y_train)\n",
    "\n",
    "    #Predict the Training and Test Score\n",
    "    train_pred = model.predict(X_train)\n",
    "    test_pred = model.predict(X_test)\n",
    "\n",
    "    #Evaluate the Predictions\n",
    "    train_score = accuracy_score(train_pred, y_train)\n",
    "    test_score = accuracy_score(y_test, test_pred)\n",
    "    precision = precision_score(y_test, test_pred)\n",
    "    recall = recall_score(y_test, test_pred)\n",
    "    F1 = f1_score(y_test, test_pred)\n",
    "\n",
    "    #Store the Result\n",
    "    results[name] = {\n",
    "        'Train Accuracy': train_score,\n",
    "        'Test Accuracy':  test_score,\n",
    "        'Preision Score': precision,\n",
    "        'Recall Score': recall,\n",
    "        'F1-Score': F1\n",
    "    }\n",
    "\n",
    "    #Plot Confusion Matrix\n",
    "    cm = confusion_matrix(y_test, test_pred)\n",
    "    disp = ConfusionMatrixDisplay(cm)\n",
    "    disp.plot(ax = ax, cmap = 'Blues')\n",
    "    ax.set_title(name)\n",
    "plt.tight_layout()\n",
    "plt.show()\n",
    "\n",
    "#Print Metrics\n",
    "print('\\n{name} Report:')\n",
    "print(classification_report(y_test, test_pred))\n",
    "metrics_df = pd.DataFrame(results)\n",
    "print('\\nSummary of Model Selection:')\n",
    "print(metrics_df)"
   ]
  },
  {
   "cell_type": "markdown",
   "id": "d72b13ac-eac2-4c21-92e0-7b7f148b171d",
   "metadata": {
    "id": "d72b13ac-eac2-4c21-92e0-7b7f148b171d"
   },
   "source": [
    "OBSERVATION:\n",
    "(1)From the confusion matrix, Random Forest Model is the best model. This is because it has the best overall balanced performance between the two classes(0 and 1).\n",
    "(2)The classification Report said that the model is much better at predicting class 1 than class 0. This is because class 1 has more classes than class 0(imbalanced).\n",
    "(3)Decision Tree overfits the train accuracy.\n",
    "(4)Logistic Regression performed well with the recall score.\n",
    "(5)Random Forest is still the best as it shows the best performance.\n",
    "Therefore, Random Forest model is the most suitable model"
   ]
  },
  {
   "cell_type": "markdown",
   "id": "bqwDSz5DeHiQ",
   "metadata": {
    "id": "bqwDSz5DeHiQ"
   },
   "source": [
    "Hyperparameter Tuning : In order to avoid overfitting and underfitting as shown above, hyperparameter tuning is required, thus:"
   ]
  },
  {
   "cell_type": "code",
   "execution_count": null,
   "id": "1BGT06p7eruP",
   "metadata": {
    "id": "1BGT06p7eruP"
   },
   "outputs": [],
   "source": [
    "from sklearn.model_selection import GridSearchCV, RandomizedSearchCV"
   ]
  },
  {
   "cell_type": "code",
   "execution_count": null,
   "id": "0nhpdajNYVhS",
   "metadata": {
    "colab": {
     "base_uri": "https://localhost:8080/"
    },
    "id": "0nhpdajNYVhS",
    "outputId": "a237d9b3-bf27-4f83-d4e9-37536c638421"
   },
   "outputs": [],
   "source": [
    "train_score, test_score"
   ]
  },
  {
   "cell_type": "code",
   "execution_count": null,
   "id": "YEakCVPbpAW5",
   "metadata": {
    "colab": {
     "base_uri": "https://localhost:8080/"
    },
    "id": "YEakCVPbpAW5",
    "outputId": "584e9d38-8162-4769-8ec1-9f911f02ae20"
   },
   "outputs": [],
   "source": [
    "dt = DecisionTreeClassifier(random_state=42)\n",
    "dt.fit(X_train, y_train)\n",
    "\n",
    "# Check actual depth of the trained tree\n",
    "\n",
    "print(\"Actual depth of the trained tree:\", dt.get_depth())"
   ]
  },
  {
   "cell_type": "code",
   "execution_count": null,
   "id": "lRS5riieYp8W",
   "metadata": {
    "colab": {
     "base_uri": "https://localhost:8080/"
    },
    "id": "lRS5riieYp8W",
    "outputId": "db893d74-852c-4ffc-8ca8-3716e29d00dd"
   },
   "outputs": [],
   "source": [
    "dt = DecisionTreeClassifier(random_state=42, max_depth=5)\n",
    "dt.fit(X_train, y_train)\n",
    "\n",
    "# Change the depth of the trained tree\n",
    "\n",
    "print(\"New depth of the trained tree:\", dt.get_depth())"
   ]
  },
  {
   "cell_type": "code",
   "execution_count": null,
   "id": "LLTiY-mrcVmZ",
   "metadata": {
    "colab": {
     "base_uri": "https://localhost:8080/",
     "height": 167
    },
    "id": "LLTiY-mrcVmZ",
    "outputId": "57046aad-1ddc-4f4a-c49a-c3e0a82d7c15"
   },
   "outputs": [],
   "source": [
    "#Hyperparameter tuning on only RandomForestClassifier\n",
    "\n",
    "from inspect import Parameter\n",
    "model_ = RandomForestClassifier(random_state=42,)\n",
    "Parameters = {\n",
    "    'n_estimators' : range(5, 10, 5),\n",
    "    'max_depth' : range(2, 11, 2),\n",
    "    'min_samples_leaf' : [2, 5, 10]\n",
    "}\n",
    "\n",
    "search = GridSearchCV(estimator=model, param_grid=Parameters, scoring='accuracy', cv=5, n_jobs=-1, error_score='raise')\n",
    "\n",
    "\n",
    "search.fit(X_train, y_train)"
   ]
  },
  {
   "cell_type": "code",
   "execution_count": null,
   "id": "LT9JmX_KicPR",
   "metadata": {
    "colab": {
     "base_uri": "https://localhost:8080/"
    },
    "id": "LT9JmX_KicPR",
    "outputId": "39b54d40-6b78-4be4-bf96-9d4796159a80"
   },
   "outputs": [],
   "source": [
    "# Random Forest base model\n",
    "rf_model = RandomForestClassifier(random_state=42)\n",
    "\n",
    "# Define hyperparameter grid\n",
    "param_grid = {\n",
    "    'n_estimators': [10, 20, 30],       # number of trees\n",
    "    'max_depth': [None, 5, 10, 20],        # depth of trees\n",
    "    'min_samples_split': [2, 5, 10],       # minimum samples per split\n",
    "    'min_samples_leaf': [1, 2, 4],         # minimum samples per leaf\n",
    "    'max_features': ['sqrt', 'log2']       # number of features considered at each split\n",
    "}\n",
    "\n",
    "#Grid Search\n",
    "grid_search = GridSearchCV(rf_model, param_grid, cv=5, scoring='accuracy', n_jobs=-1)\n",
    "grid_search.fit(X_train, y_train)\n",
    "print(\"Best GridSearch Params:\", grid_search.best_params_)\n",
    "print(\"Best GridSearch Score:\", grid_search.best_score_)\n"
   ]
  },
  {
   "cell_type": "code",
   "execution_count": null,
   "id": "2z-5M4uHlr1A",
   "metadata": {
    "colab": {
     "base_uri": "https://localhost:8080/"
    },
    "id": "2z-5M4uHlr1A",
    "outputId": "2a8a4c73-d709-4c2f-f115-a4354b472a17"
   },
   "outputs": [],
   "source": [
    "# Hyperparameter Tuning on all my Metrics for RandomForest\n",
    "param_grid = {\n",
    "    'n_estimators': [10, 30, 50],\n",
    "    'max_depth': [None, 10, 20],\n",
    "    'min_samples_split': [2, 5],\n",
    "    'min_samples_leaf': [1, 2],\n",
    "    'max_features': ['sqrt', 'log2']\n",
    "}\n",
    "rf_model_ = RandomForestClassifier(random_state=42)\n",
    "grid_search = GridSearchCV(rf_model_, param_grid, cv=5, scoring='accuracy', n_jobs=-1)\n",
    "grid_search.fit(X_train, y_train)\n",
    "\n",
    "# Best model\n",
    "best_model = grid_search.best_estimator_\n",
    "\n",
    "# Predictions\n",
    "y_pred = best_model.predict(X_test)\n",
    "\n",
    "# Multiple metrics\n",
    "print(\"Accuracy :\", accuracy_score(y_test, y_pred))\n",
    "print(\"Precision:\", precision_score(y_test, y_pred, average='weighted'))\n",
    "print(\"Recall   :\", recall_score(y_test, y_pred, average='weighted'))\n",
    "print(\"F1 Score :\", f1_score(y_test, y_pred, average='weighted'))\n",
    "\n",
    "# Detailed report\n",
    "print(\"\\nClassification Report:\\n\", classification_report(y_test, y_pred))"
   ]
  },
  {
   "cell_type": "code",
   "execution_count": null,
   "id": "srlpLbeWmnvA",
   "metadata": {
    "colab": {
     "base_uri": "https://localhost:8080/",
     "height": 211
    },
    "id": "srlpLbeWmnvA",
    "outputId": "50f52dac-089a-4611-970b-b492884ac834"
   },
   "outputs": [],
   "source": [
    "# Hyperparameter Tuning on all my Model\n",
    "#Defining Model and Param\n",
    "models_params = {\n",
    "    \"Logistic Regression\": (\n",
    "        LogisticRegression(max_iter=500, solver=\"liblinear\"),\n",
    "        {\n",
    "            \"C\": [0.01, 0.1, 1, 10],\n",
    "            \"penalty\": [\"l1\", \"l2\"]\n",
    "        }\n",
    "    ),\n",
    "    \"Decision Tree\": (\n",
    "        DecisionTreeClassifier(random_state=42),\n",
    "        {\n",
    "            \"max_depth\": [None, 5, 10, 20],\n",
    "            \"min_samples_split\": [2, 5, 10],\n",
    "            \"min_samples_leaf\": [1, 2, 4]\n",
    "        }\n",
    "    ),\n",
    "    \"Random Forest\": (\n",
    "        RandomForestClassifier(random_state=42),\n",
    "        {\n",
    "            \"n_estimators\": [100, 200, 500],\n",
    "            \"max_depth\": [None, 10, 20],\n",
    "            \"min_samples_split\": [2, 5],\n",
    "            \"min_samples_leaf\": [1, 2],\n",
    "            \"max_features\": [\"sqrt\", \"log2\"]\n",
    "        }\n",
    "    )\n",
    "}\n",
    "\n",
    "# Scoring dictionary\n",
    "scoring = {\n",
    "    \"accuracy\": \"accuracy\",\n",
    "    \"precision\": \"precision_weighted\",\n",
    "    \"recall\": \"recall_weighted\",\n",
    "    \"f1\": \"f1_weighted\"\n",
    "}\n",
    "\n",
    "#GridSearchCV for each model\n",
    "results = {}\n",
    "\n",
    "for name, (model, params) in models_params.items():\n",
    "    print(f\"\\nTuning {name}:\")\n",
    "    grid = GridSearchCV(\n",
    "        model,\n",
    "        params,\n",
    "        cv=5,\n",
    "        scoring=scoring,\n",
    "        refit=\"accuracy\",   # pick accuracy as main refit metric\n",
    "        n_jobs=-1\n",
    "    )\n",
    "    grid.fit(X_train, y_train)\n",
    "\n",
    "    best_model = grid.best_estimator_\n",
    "    y_pred = best_model.predict(X_test)\n",
    "\n",
    "    # Metrics\n",
    "    metrics = {\n",
    "        \"Best Params\": grid.best_params_,\n",
    "        \"Accuracy\": accuracy_score(y_test, y_pred),\n",
    "        \"Precision\": precision_score(y_test, y_pred, average=\"weighted\"),\n",
    "        \"Recall\": recall_score(y_test, y_pred, average=\"weighted\"),\n",
    "        \"F1 Score\": f1_score(y_test, y_pred, average=\"weighted\"),\n",
    "    }\n",
    "\n",
    "    results[name] = metrics\n",
    "\n",
    "    print(\"Best Params:\", metrics[\"Best Params\"])\n",
    "    print(\"Test Metrics:\", {k: v for k, v in metrics.items() if k != \"Best Params\"})\n",
    "\n",
    "#Final Results\n",
    "df_results = pd.DataFrame(results).T\n",
    "print(\"\\nFinal Comparison:\\n\")\n",
    "print(df_results)\n"
   ]
  },
  {
   "cell_type": "markdown",
   "id": "3uHDCevt5bKi",
   "metadata": {
    "id": "3uHDCevt5bKi"
   },
   "source": [
    "OBSERVATION: After the hyperparameter tuning, overfitting and underfitting were reduced and the merrics were balanced. Also, the best model for the dataset which was RandomForestClassifier was tuned and the best performing method became DECISIONTREECLASSIFIER.\n",
    "This is because:\n",
    "1. The dataset is small and simple.\n",
    "2. Metric sensitivity\n",
    "\n",
    "Inorder to know the exact overall best performing model, I will be using cross validation to compare"
   ]
  },
  {
   "cell_type": "code",
   "execution_count": null,
   "id": "RzPDYO0a-pVJ",
   "metadata": {
    "id": "RzPDYO0a-pVJ"
   },
   "outputs": [],
   "source": [
    "from sklearn.model_selection import StratifiedKFold\n"
   ]
  },
  {
   "cell_type": "code",
   "execution_count": null,
   "id": "NHVqYXGW_6Iv",
   "metadata": {
    "id": "NHVqYXGW_6Iv"
   },
   "outputs": [],
   "source": [
    "# Cross Validation on all my Model\n",
    "#Defining Model and Param\n",
    "models_params = {\n",
    "    \"Logistic Regression\": (\n",
    "        LogisticRegression(max_iter=500, solver=\"liblinear\"),\n",
    "        {\n",
    "            \"C\": [0.01, 0.1, 1, 10],\n",
    "            \"penalty\": [\"l1\", \"l2\"]\n",
    "        }\n",
    "    ),\n",
    "    \"Decision Tree\": (\n",
    "        DecisionTreeClassifier(random_state=42),\n",
    "        {\n",
    "            \"max_depth\": [None, 5, 10, 20],\n",
    "            \"min_samples_split\": [2, 5, 10],\n",
    "            \"min_samples_leaf\": [1, 2, 4]\n",
    "        }\n",
    "    ),\n",
    "    \"Random Forest\": (\n",
    "        RandomForestClassifier(random_state=42),\n",
    "        {\n",
    "            \"n_estimators\": [100, 200, 500],\n",
    "            \"max_depth\": [None, 10, 20],\n",
    "            \"min_samples_split\": [2, 5],\n",
    "            \"min_samples_leaf\": [1, 2],\n",
    "            \"max_features\": [\"sqrt\", \"log2\"]\n",
    "        }\n",
    "    )\n",
    "}\n",
    "\n",
    "# Scoring dictionary\n",
    "scoring = {\n",
    "    \"accuracy\": \"accuracy\",\n",
    "    \"precision\": \"precision_weighted\",\n",
    "    \"recall\": \"recall_weighted\",\n",
    "    \"f1\": \"f1_weighted\"\n",
    "}\n",
    "\n",
    "#Cross-validation and tuning\n",
    "cv = StratifiedKFold(n_splits=5, shuffle=True, random_state=42)\n",
    "results = {}\n",
    "\n",
    "for name, (model, params) in models_params.items():\n",
    "    print(f\"\\nTuning {name}:\")\n",
    "    grid = GridSearchCV(\n",
    "        model,\n",
    "        params,\n",
    "        cv=cv,\n",
    "        scoring=scoring,\n",
    "        refit=\"accuracy\",   # refit on best accuracy\n",
    "        n_jobs=-1,\n",
    "        return_train_score=False\n",
    "    )\n",
    "    grid.fit(X_train, y_train)\n",
    "\n",
    "    # Collect best CV scores\n",
    "    results[name] = {\n",
    "        \"Best Params\": grid.best_params_,\n",
    "        \"CV Accuracy\": grid.cv_results_[\"mean_test_accuracy\"][grid.best_index_],\n",
    "        \"CV Precision\": grid.cv_results_[\"mean_test_precision\"][grid.best_index_],\n",
    "        \"CV Recall\": grid.cv_results_[\"mean_test_recall\"][grid.best_index_],\n",
    "        \"CV F1\": grid.cv_results_[\"mean_test_f1\"][grid.best_index_]\n",
    "    }\n",
    "\n",
    "# Summary table\n",
    "df_results = pd.DataFrame(results).T\n",
    "print(\"\\nCross-Validation Results:\\n\")\n",
    "print(df_results)"
   ]
  },
  {
   "cell_type": "markdown",
   "id": "ZgRquKw1EIqi",
   "metadata": {
    "id": "ZgRquKw1EIqi"
   },
   "source": [
    "From the above information, upon, using CROSS VALIDATION, RandomForestClassifier was found to be the best model as it has the overall best performance across all the metrics\n"
   ]
  },
  {
   "cell_type": "markdown",
   "id": "zlgmGte0FGO6",
   "metadata": {
    "id": "zlgmGte0FGO6"
   },
   "source": [
    "RETRAINING USING RANDOMFORESTCLASSIFIER AND DEPLOYMENT"
   ]
  },
  {
   "cell_type": "markdown",
   "id": "UvO_1bAHMQoA",
   "metadata": {
    "id": "UvO_1bAHMQoA"
   },
   "source": [
    "Evaluation"
   ]
  },
  {
   "cell_type": "code",
   "execution_count": null,
   "id": "B7pcuPjOK5uO",
   "metadata": {
    "id": "B7pcuPjOK5uO"
   },
   "outputs": [],
   "source": [
    "best_model = grid.best_estimator_\n",
    "\n",
    "y_pred = best_model.predict(X_test)\n",
    "\n",
    "print(\"Test Accuracy:\", accuracy_score(y_test, y_pred))\n",
    "print(\"\\nClassification Report:\\n\", classification_report(y_test, y_pred))\n",
    "print(\"\\nConfusion Matrix:\\n\", confusion_matrix(y_test, y_pred))\n",
    "\n"
   ]
  },
  {
   "cell_type": "code",
   "execution_count": null,
   "id": "IRKwqbQhRyFX",
   "metadata": {
    "id": "IRKwqbQhRyFX"
   },
   "outputs": [],
   "source": [
    "y_pred = best_model.predict(X_test)\n",
    "\n",
    "# plot confusion matrix\n",
    "cm = confusion_matrix(y_test, y_pred)\n",
    "\n",
    "disp = ConfusionMatrixDisplay(confusion_matrix=cm, display_labels=best_model.classes_)\n",
    "disp.plot(cmap=\"Blues\", values_format=\"d\")\n",
    "\n",
    "plt.title(\"Confusion Matrix - Random Forest\")\n",
    "plt.show()"
   ]
  },
  {
   "cell_type": "markdown",
   "id": "e619ebf8-ae1a-48ae-a746-ef1f8bd7a0db",
   "metadata": {},
   "source": [
    "CONCLUSION: At the end of my prediction after using several models, I was able to get an accuracy result of approximately 78 percent(78%)"
   ]
  },
  {
   "cell_type": "markdown",
   "id": "xOpUjUz_M479",
   "metadata": {
    "id": "xOpUjUz_M479"
   },
   "source": [
    "Feature Importance"
   ]
  },
  {
   "cell_type": "code",
   "execution_count": null,
   "id": "g_u3SiYaLLpo",
   "metadata": {
    "id": "g_u3SiYaLLpo"
   },
   "outputs": [],
   "source": [
    "feature_importances = pd.Series(best_model.feature_importances_, index=X_train.columns)\n",
    "print(feature_importances.sort_values(ascending=False).head())"
   ]
  },
  {
   "cell_type": "code",
   "execution_count": null,
   "id": "zFqxO3nlTtHf",
   "metadata": {
    "id": "zFqxO3nlTtHf"
   },
   "outputs": [],
   "source": [
    "#Plot Feature Importance\n",
    "feature_importances.sort_values(ascending=False).head().plot(kind=\"barh\")\n",
    "plt.title(\"Feature Importances - Random Forest\")\n",
    "plt.show()"
   ]
  },
  {
   "cell_type": "markdown",
   "id": "I2JnAQUANRVc",
   "metadata": {
    "id": "I2JnAQUANRVc"
   },
   "source": [
    "Another way of computing Feature Importance"
   ]
  },
  {
   "cell_type": "code",
   "execution_count": null,
   "id": "RLbKBc2W8K0A",
   "metadata": {
    "id": "RLbKBc2W8K0A"
   },
   "outputs": [],
   "source": [
    "feature_names = X_train.columns"
   ]
  },
  {
   "cell_type": "code",
   "execution_count": null,
   "id": "586e8b3c-7d97-4049-bbf2-58576053dbf2",
   "metadata": {},
   "outputs": [],
   "source": [
    "feature_names"
   ]
  },
  {
   "cell_type": "code",
   "execution_count": null,
   "id": "d3935480-9cd0-44d9-be89-e6d4e828b967",
   "metadata": {},
   "outputs": [],
   "source": [
    "len(feature_names)"
   ]
  },
  {
   "cell_type": "code",
   "execution_count": null,
   "id": "9764dff6-b030-4605-a5ad-96d676afba7b",
   "metadata": {},
   "outputs": [],
   "source": [
    "feature_importances = best_model.feature_importances_"
   ]
  },
  {
   "cell_type": "code",
   "execution_count": null,
   "id": "5a14e690-03b5-48e4-be52-b3710325e362",
   "metadata": {},
   "outputs": [],
   "source": [
    "feature_importances"
   ]
  },
  {
   "cell_type": "code",
   "execution_count": null,
   "id": "f8a91935-fe54-4b86-996d-50e09195342b",
   "metadata": {},
   "outputs": [],
   "source": [
    "sort = np.argsort(feature_importances)[::-1]\n",
    "sort"
   ]
  },
  {
   "cell_type": "code",
   "execution_count": null,
   "id": "625026e2-1d8b-4249-84ea-0298425b3086",
   "metadata": {},
   "outputs": [],
   "source": [
    "plt.figure(figsize = (12, 4))\n",
    "plt.bar(range(len(feature_importances)),feature_importances[sort])\n",
    "plt.xticks(range(len(feature_importances)), np.array(feature_names)[sort])\n",
    "plt.show()"
   ]
  },
  {
   "cell_type": "markdown",
   "id": "f017517c-5a17-4882-a895-6b22d275e648",
   "metadata": {},
   "source": [
    "SAVE AND TEST THE MODEL"
   ]
  },
  {
   "cell_type": "code",
   "execution_count": null,
   "id": "48f42c81-b9a7-497d-a8e9-e8ed6b03430e",
   "metadata": {},
   "outputs": [],
   "source": [
    "import joblib"
   ]
  },
  {
   "cell_type": "code",
   "execution_count": null,
   "id": "b9c6e9c5-b5a1-495e-8145-8110fc58caad",
   "metadata": {},
   "outputs": [],
   "source": [
    "X.head()"
   ]
  },
  {
   "cell_type": "code",
   "execution_count": null,
   "id": "8d298251-3384-4ebe-ad3e-396b0ce778e9",
   "metadata": {},
   "outputs": [],
   "source": [
    "y.head()"
   ]
  },
  {
   "cell_type": "markdown",
   "id": "74484710-5759-42c9-a895-569991228de6",
   "metadata": {},
   "source": [
    "Convert Datetime to Numeric Features: This is done in order for X and y to have the same Dtypes for the model to fit them"
   ]
  },
  {
   "cell_type": "code",
   "execution_count": null,
   "id": "03432a1a-1956-45dd-a491-b4cb211cfd12",
   "metadata": {},
   "outputs": [],
   "source": [
    "for col in ['approveddate', 'creationdate']:\n",
    "    X[col] = pd.to_datetime(X[col], errors = 'coerce')\n",
    "    \n",
    "    X[col + '_year'] = X[col].dt.year\n",
    "    X[col + '_month'] = X[col].dt.month\n",
    "    X[col + '_day'] = X[col].dt.day\n",
    "    X[col + '_hour'] = X[col].dt.hour\n",
    "    X[col + '_minute'] = X[col].dt.minute\n",
    "    \n",
    "    #Drop original datetime column\n",
    "    X = X.drop(columns = [col])"
   ]
  },
  {
   "cell_type": "code",
   "execution_count": null,
   "id": "908541e2-c264-4342-a812-83d4935eda76",
   "metadata": {},
   "outputs": [],
   "source": [
    "X.head()"
   ]
  },
  {
   "cell_type": "code",
   "execution_count": null,
   "id": "e86dfa9c-fff2-4a61-a210-7590761ad65d",
   "metadata": {},
   "outputs": [],
   "source": [
    "best_model = RandomForestClassifier(random_state=42)\n",
    "\n",
    "# fit on the whole Dataset\n",
    "best_model.fit(X, y)"
   ]
  },
  {
   "cell_type": "code",
   "execution_count": null,
   "id": "6bbff572-eead-471a-91ca-c21877b157d6",
   "metadata": {},
   "outputs": [],
   "source": [
    "#Save the model\n",
    "joblib.dump(best_model, \"loan_default_prediction_model.pkl\")"
   ]
  },
  {
   "cell_type": "markdown",
   "id": "9b4d44ae-1605-4cda-812d-4421ad62953e",
   "metadata": {},
   "source": [
    "Test the Model"
   ]
  },
  {
   "cell_type": "code",
   "execution_count": null,
   "id": "e6290820-a25b-4166-993a-3ff9adc161fc",
   "metadata": {},
   "outputs": [],
   "source": [
    "import pandas as pd\n",
    "import numpy as np\n",
    "import joblib"
   ]
  },
  {
   "cell_type": "code",
   "execution_count": null,
   "id": "a9dab94c-7fec-4f67-a787-d90985bcb9b1",
   "metadata": {},
   "outputs": [],
   "source": [
    "model = joblib.load(\"loan_default_prediction_model.pkl\")"
   ]
  },
  {
   "cell_type": "code",
   "execution_count": null,
   "id": "57f88961-bfef-42b4-afb1-bc394658b9ab",
   "metadata": {},
   "outputs": [],
   "source": [
    "model"
   ]
  },
  {
   "cell_type": "code",
   "execution_count": null,
   "id": "e75ae13f-8a22-4d9c-af23-429e98afb452",
   "metadata": {},
   "outputs": [],
   "source": []
  },
  {
   "cell_type": "code",
   "execution_count": null,
   "id": "a48bb92f-6cf8-47fd-9c08-e2b7536eb35b",
   "metadata": {},
   "outputs": [],
   "source": [
    "data = {\n",
    "    'systemloanid': [301994762],\n",
    "    'loannumber': [12],\n",
    "    'totaldue': [34500.0],\n",
    "    'On_Time_Repayment': [7.0],\n",
    "    'Late_Time_Repayment': [4.0],\n",
    "    'approveddate_year': [2017],\n",
    "    'approveddate_month': [7],\n",
    "    'approveddate_day': [25],\n",
    "    'approveddate_hour': [8],\n",
    "    'approveddate_minute': [22],\n",
    "    'creationdate_year': [2017],\n",
    "    'creationdate_month': [7],\n",
    "    'creationdate_day': [25],\n",
    "    'creationdate_hour': [7],\n",
    "    'creationdate_minute': [22]\n",
    "}"
   ]
  },
  {
   "cell_type": "code",
   "execution_count": null,
   "id": "1f660363-0be8-4b4f-9011-4fbd4ce3d0bf",
   "metadata": {},
   "outputs": [],
   "source": [
    "#create Dataframe\n",
    "df = pd.DataFrame(data)\n",
    "df"
   ]
  },
  {
   "cell_type": "code",
   "execution_count": null,
   "id": "15981c86-8f87-420a-a3b0-2fdf57d4986d",
   "metadata": {},
   "outputs": [],
   "source": [
    "#Use Model for Prediction\n",
    "loan_repayment = model.predict(df)\n",
    "loan_repayment"
   ]
  },
  {
   "cell_type": "code",
   "execution_count": null,
   "id": "46e80915-4848-42a4-b54b-ab64bab07cb4",
   "metadata": {},
   "outputs": [],
   "source": [
    "X"
   ]
  },
  {
   "cell_type": "code",
   "execution_count": null,
   "id": "c9c0ad6a-ad53-4e1b-86da-9edf30b925a1",
   "metadata": {},
   "outputs": [],
   "source": []
  }
 ],
 "metadata": {
  "colab": {
   "provenance": []
  },
  "kernelspec": {
   "display_name": "Python 3 (ipykernel)",
   "language": "python",
   "name": "python3"
  },
  "language_info": {
   "codemirror_mode": {
    "name": "ipython",
    "version": 3
   },
   "file_extension": ".py",
   "mimetype": "text/x-python",
   "name": "python",
   "nbconvert_exporter": "python",
   "pygments_lexer": "ipython3",
   "version": "3.12.1"
  }
 },
 "nbformat": 4,
 "nbformat_minor": 5
}
